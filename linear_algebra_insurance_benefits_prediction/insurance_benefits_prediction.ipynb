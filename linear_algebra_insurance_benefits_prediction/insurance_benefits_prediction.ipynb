{
 "cells": [
  {
   "cell_type": "markdown",
   "metadata": {},
   "source": [
    "# Sure Tomorrow: insurance business analysis"
   ]
  },
  {
   "cell_type": "markdown",
   "metadata": {},
   "source": [
    "The Sure Tomorrow insurance company wants to solve several tasks with the help of Machine Learning and we will evaluate that possibility throughout this project.\n",
    "\n",
    "\n",
    "\n",
    "## Data Description\n",
    "\n",
    "- Features: insured person's gender, age, salary, and number of family members.\n",
    "- Target: number of insurance benefits received by an insured person over the last five years.\n",
    "\n",
    "\n",
    "## Statement\n",
    "\n",
    "- Task 1: Find customers who are similar to a given customer. This will help the company's agents with marketing.\n",
    "- Task 2: Predict whether a new customer is likely to receive an insurance benefit. Can a prediction model do better than a dummy model?\n",
    "- Task 3: Predict the number of insurance benefits a new customer is likely to receive using a linear regression model.\n",
    "- Task 4: Protect clients' personal data without breaking the model from the previous task. It's necessary to develop a data transformation algorithm that would make it hard to recover personal information if the data fell into the wrong hands. This is called data masking, or data obfuscation. But the data should be protected in such a way that the quality of machine learning models doesn't suffer. We won't need to pick the best model, just prove that the algorithm works correctly.\n"
   ]
  },
  {
   "cell_type": "markdown",
   "metadata": {},
   "source": [
    "# Data Preprocessing & Exploration\n",
    "\n",
    "## Initialization"
   ]
  },
  {
   "cell_type": "code",
   "execution_count": 1,
   "metadata": {},
   "outputs": [
    {
     "name": "stdout",
     "output_type": "stream",
     "text": [
      "Requirement already satisfied: scikit-learn in c:\\users\\josef\\anaconda3\\lib\\site-packages (1.1.1)\n",
      "Requirement already satisfied: scipy>=1.3.2 in c:\\users\\josef\\anaconda3\\lib\\site-packages (from scikit-learn) (1.7.1)\n",
      "Requirement already satisfied: numpy>=1.17.3 in c:\\users\\josef\\anaconda3\\lib\\site-packages (from scikit-learn) (1.20.3)\n",
      "Requirement already satisfied: joblib>=1.0.0 in c:\\users\\josef\\anaconda3\\lib\\site-packages (from scikit-learn) (1.1.0)\n",
      "Requirement already satisfied: threadpoolctl>=2.0.0 in c:\\users\\josef\\anaconda3\\lib\\site-packages (from scikit-learn) (2.2.0)\n",
      "Note: you may need to restart the kernel to use updated packages.\n"
     ]
    }
   ],
   "source": [
    "pip install scikit-learn --upgrade"
   ]
  },
  {
   "cell_type": "code",
   "execution_count": 2,
   "metadata": {},
   "outputs": [],
   "source": [
    "#import libraries\n",
    "import numpy as np\n",
    "import pandas as pd\n",
    "\n",
    "import seaborn as sns\n",
    "import matplotlib.pyplot as plt\n",
    "import sklearn.linear_model\n",
    "import sklearn.metrics\n",
    "import sklearn.neighbors\n",
    "import sklearn.preprocessing\n",
    "\n",
    "from sklearn.model_selection import train_test_split\n",
    "\n",
    "from IPython.display import display\n",
    "from scipy.spatial import distance\n",
    "\n",
    "from sklearn.neighbors import NearestNeighbors\n",
    "\n",
    "from sklearn.utils import shuffle"
   ]
  },
  {
   "cell_type": "markdown",
   "metadata": {},
   "source": [
    "## Load Data"
   ]
  },
  {
   "cell_type": "markdown",
   "metadata": {},
   "source": [
    "Load data and conduct a basic check that it's free from obvious issues."
   ]
  },
  {
   "cell_type": "code",
   "execution_count": 3,
   "metadata": {},
   "outputs": [],
   "source": [
    "# Load dataset into a Dataframe\n",
    "try:\n",
    "    df=pd.read_csv('c:/Users/josef/Practicum/Linear algebra/insurance_us.csv')\n",
    "except:\n",
    "    df = pd.read_csv('/datasets/insurance_us.csv')\n",
    "    "
   ]
  },
  {
   "cell_type": "code",
   "execution_count": 4,
   "metadata": {},
   "outputs": [
    {
     "data": {
      "text/html": [
       "<div>\n",
       "<style scoped>\n",
       "    .dataframe tbody tr th:only-of-type {\n",
       "        vertical-align: middle;\n",
       "    }\n",
       "\n",
       "    .dataframe tbody tr th {\n",
       "        vertical-align: top;\n",
       "    }\n",
       "\n",
       "    .dataframe thead th {\n",
       "        text-align: right;\n",
       "    }\n",
       "</style>\n",
       "<table border=\"1\" class=\"dataframe\">\n",
       "  <thead>\n",
       "    <tr style=\"text-align: right;\">\n",
       "      <th></th>\n",
       "      <th>Gender</th>\n",
       "      <th>Age</th>\n",
       "      <th>Salary</th>\n",
       "      <th>Family members</th>\n",
       "      <th>Insurance benefits</th>\n",
       "    </tr>\n",
       "  </thead>\n",
       "  <tbody>\n",
       "    <tr>\n",
       "      <th>0</th>\n",
       "      <td>1</td>\n",
       "      <td>41.0</td>\n",
       "      <td>49600.0</td>\n",
       "      <td>1</td>\n",
       "      <td>0</td>\n",
       "    </tr>\n",
       "    <tr>\n",
       "      <th>1</th>\n",
       "      <td>0</td>\n",
       "      <td>46.0</td>\n",
       "      <td>38000.0</td>\n",
       "      <td>1</td>\n",
       "      <td>1</td>\n",
       "    </tr>\n",
       "    <tr>\n",
       "      <th>2</th>\n",
       "      <td>0</td>\n",
       "      <td>29.0</td>\n",
       "      <td>21000.0</td>\n",
       "      <td>0</td>\n",
       "      <td>0</td>\n",
       "    </tr>\n",
       "    <tr>\n",
       "      <th>3</th>\n",
       "      <td>0</td>\n",
       "      <td>21.0</td>\n",
       "      <td>41700.0</td>\n",
       "      <td>2</td>\n",
       "      <td>0</td>\n",
       "    </tr>\n",
       "    <tr>\n",
       "      <th>4</th>\n",
       "      <td>1</td>\n",
       "      <td>28.0</td>\n",
       "      <td>26100.0</td>\n",
       "      <td>0</td>\n",
       "      <td>0</td>\n",
       "    </tr>\n",
       "  </tbody>\n",
       "</table>\n",
       "</div>"
      ],
      "text/plain": [
       "   Gender   Age   Salary  Family members  Insurance benefits\n",
       "0       1  41.0  49600.0               1                   0\n",
       "1       0  46.0  38000.0               1                   1\n",
       "2       0  29.0  21000.0               0                   0\n",
       "3       0  21.0  41700.0               2                   0\n",
       "4       1  28.0  26100.0               0                   0"
      ]
     },
     "execution_count": 4,
     "metadata": {},
     "output_type": "execute_result"
    }
   ],
   "source": [
    "#print first rows\n",
    "df.head()"
   ]
  },
  {
   "cell_type": "code",
   "execution_count": 5,
   "metadata": {},
   "outputs": [
    {
     "name": "stdout",
     "output_type": "stream",
     "text": [
      "<class 'pandas.core.frame.DataFrame'>\n",
      "RangeIndex: 5000 entries, 0 to 4999\n",
      "Data columns (total 5 columns):\n",
      " #   Column              Non-Null Count  Dtype  \n",
      "---  ------              --------------  -----  \n",
      " 0   Gender              5000 non-null   int64  \n",
      " 1   Age                 5000 non-null   float64\n",
      " 2   Salary              5000 non-null   float64\n",
      " 3   Family members      5000 non-null   int64  \n",
      " 4   Insurance benefits  5000 non-null   int64  \n",
      "dtypes: float64(2), int64(3)\n",
      "memory usage: 195.4 KB\n"
     ]
    }
   ],
   "source": [
    "#Print general info\n",
    "df.info()"
   ]
  },
  {
   "cell_type": "code",
   "execution_count": 6,
   "metadata": {},
   "outputs": [
    {
     "data": {
      "text/plain": [
       "153"
      ]
     },
     "execution_count": 6,
     "metadata": {},
     "output_type": "execute_result"
    }
   ],
   "source": [
    "#check for duplicates\n",
    "df.duplicated().sum()"
   ]
  },
  {
   "cell_type": "code",
   "execution_count": 7,
   "metadata": {},
   "outputs": [
    {
     "data": {
      "text/plain": [
       "0.0306"
      ]
     },
     "execution_count": 7,
     "metadata": {},
     "output_type": "execute_result"
    }
   ],
   "source": [
    "# assess duplicates %\n",
    "\n",
    "df.duplicated().sum()/len(df)"
   ]
  },
  {
   "cell_type": "markdown",
   "metadata": {},
   "source": [
    "## Raw data overview:\n",
    "\n",
    "From the first data overview, we conclude that before moving on with the analysis, we need to perform the following fixes:\n",
    "\n",
    "1) Columns need to be renamed, removing upper cases and applying the snake_case syntax.\n",
    "\n",
    "2) 3% of the observations are duplicated, so we'll drop them out.\n",
    "\n",
    "3) Age dtype will be changed from float to integer.\n",
    "\n",
    "\n",
    "\n",
    "There are no missing values in the dataset, and no other issue has been detected\n"
   ]
  },
  {
   "cell_type": "markdown",
   "metadata": {},
   "source": [
    "### 1) Rename columns"
   ]
  },
  {
   "cell_type": "code",
   "execution_count": 8,
   "metadata": {},
   "outputs": [],
   "source": [
    "#rename columns: remove upper cases and apply snake_case syntax\n",
    "df = df.rename(columns={'Gender': 'gender', 'Age': 'age', 'Salary': 'income', 'Family members': 'family_members', 'Insurance benefits': 'insurance_benefits'})"
   ]
  },
  {
   "cell_type": "markdown",
   "metadata": {},
   "source": [
    "### 2) Remove duplicates"
   ]
  },
  {
   "cell_type": "code",
   "execution_count": 9,
   "metadata": {},
   "outputs": [
    {
     "data": {
      "text/html": [
       "<div>\n",
       "<style scoped>\n",
       "    .dataframe tbody tr th:only-of-type {\n",
       "        vertical-align: middle;\n",
       "    }\n",
       "\n",
       "    .dataframe tbody tr th {\n",
       "        vertical-align: top;\n",
       "    }\n",
       "\n",
       "    .dataframe thead th {\n",
       "        text-align: right;\n",
       "    }\n",
       "</style>\n",
       "<table border=\"1\" class=\"dataframe\">\n",
       "  <thead>\n",
       "    <tr style=\"text-align: right;\">\n",
       "      <th></th>\n",
       "      <th>gender</th>\n",
       "      <th>age</th>\n",
       "      <th>income</th>\n",
       "      <th>family_members</th>\n",
       "      <th>insurance_benefits</th>\n",
       "    </tr>\n",
       "  </thead>\n",
       "  <tbody>\n",
       "    <tr>\n",
       "      <th>4842</th>\n",
       "      <td>0</td>\n",
       "      <td>28.0</td>\n",
       "      <td>35700.0</td>\n",
       "      <td>2</td>\n",
       "      <td>0</td>\n",
       "    </tr>\n",
       "    <tr>\n",
       "      <th>4843</th>\n",
       "      <td>0</td>\n",
       "      <td>34.0</td>\n",
       "      <td>52400.0</td>\n",
       "      <td>1</td>\n",
       "      <td>0</td>\n",
       "    </tr>\n",
       "    <tr>\n",
       "      <th>4844</th>\n",
       "      <td>0</td>\n",
       "      <td>20.0</td>\n",
       "      <td>33900.0</td>\n",
       "      <td>2</td>\n",
       "      <td>0</td>\n",
       "    </tr>\n",
       "    <tr>\n",
       "      <th>4845</th>\n",
       "      <td>1</td>\n",
       "      <td>22.0</td>\n",
       "      <td>32700.0</td>\n",
       "      <td>3</td>\n",
       "      <td>0</td>\n",
       "    </tr>\n",
       "    <tr>\n",
       "      <th>4846</th>\n",
       "      <td>1</td>\n",
       "      <td>28.0</td>\n",
       "      <td>40600.0</td>\n",
       "      <td>1</td>\n",
       "      <td>0</td>\n",
       "    </tr>\n",
       "  </tbody>\n",
       "</table>\n",
       "</div>"
      ],
      "text/plain": [
       "      gender   age   income  family_members  insurance_benefits\n",
       "4842       0  28.0  35700.0               2                   0\n",
       "4843       0  34.0  52400.0               1                   0\n",
       "4844       0  20.0  33900.0               2                   0\n",
       "4845       1  22.0  32700.0               3                   0\n",
       "4846       1  28.0  40600.0               1                   0"
      ]
     },
     "execution_count": 9,
     "metadata": {},
     "output_type": "execute_result"
    }
   ],
   "source": [
    "df.drop_duplicates(inplace=True, ignore_index=True)\n",
    "df.tail()"
   ]
  },
  {
   "cell_type": "markdown",
   "metadata": {},
   "source": [
    "### 3) Fix age data type"
   ]
  },
  {
   "cell_type": "code",
   "execution_count": 10,
   "metadata": {},
   "outputs": [],
   "source": [
    "# Fix the age type (from float to int) \n",
    "df['age'] = df['age'].astype('int')\n"
   ]
  },
  {
   "cell_type": "code",
   "execution_count": 11,
   "metadata": {},
   "outputs": [
    {
     "name": "stdout",
     "output_type": "stream",
     "text": [
      "<class 'pandas.core.frame.DataFrame'>\n",
      "RangeIndex: 4847 entries, 0 to 4846\n",
      "Data columns (total 5 columns):\n",
      " #   Column              Non-Null Count  Dtype  \n",
      "---  ------              --------------  -----  \n",
      " 0   gender              4847 non-null   int64  \n",
      " 1   age                 4847 non-null   int32  \n",
      " 2   income              4847 non-null   float64\n",
      " 3   family_members      4847 non-null   int64  \n",
      " 4   insurance_benefits  4847 non-null   int64  \n",
      "dtypes: float64(1), int32(1), int64(3)\n",
      "memory usage: 170.5 KB\n"
     ]
    }
   ],
   "source": [
    "# check to see that the conversion was successful\n",
    "df.info()"
   ]
  },
  {
   "cell_type": "markdown",
   "metadata": {},
   "source": [
    "Now that general fixes have been carried out, we'll take a look at the dataset descriptive statistics"
   ]
  },
  {
   "cell_type": "code",
   "execution_count": 12,
   "metadata": {},
   "outputs": [
    {
     "data": {
      "text/html": [
       "<div>\n",
       "<style scoped>\n",
       "    .dataframe tbody tr th:only-of-type {\n",
       "        vertical-align: middle;\n",
       "    }\n",
       "\n",
       "    .dataframe tbody tr th {\n",
       "        vertical-align: top;\n",
       "    }\n",
       "\n",
       "    .dataframe thead th {\n",
       "        text-align: right;\n",
       "    }\n",
       "</style>\n",
       "<table border=\"1\" class=\"dataframe\">\n",
       "  <thead>\n",
       "    <tr style=\"text-align: right;\">\n",
       "      <th></th>\n",
       "      <th>gender</th>\n",
       "      <th>age</th>\n",
       "      <th>income</th>\n",
       "      <th>family_members</th>\n",
       "      <th>insurance_benefits</th>\n",
       "    </tr>\n",
       "  </thead>\n",
       "  <tbody>\n",
       "    <tr>\n",
       "      <th>count</th>\n",
       "      <td>4847.000000</td>\n",
       "      <td>4847.000000</td>\n",
       "      <td>4847.000000</td>\n",
       "      <td>4847.000000</td>\n",
       "      <td>4847.000000</td>\n",
       "    </tr>\n",
       "    <tr>\n",
       "      <th>mean</th>\n",
       "      <td>0.498453</td>\n",
       "      <td>31.023932</td>\n",
       "      <td>39895.811842</td>\n",
       "      <td>1.203425</td>\n",
       "      <td>0.152259</td>\n",
       "    </tr>\n",
       "    <tr>\n",
       "      <th>std</th>\n",
       "      <td>0.500049</td>\n",
       "      <td>8.487995</td>\n",
       "      <td>9972.953985</td>\n",
       "      <td>1.098664</td>\n",
       "      <td>0.468934</td>\n",
       "    </tr>\n",
       "    <tr>\n",
       "      <th>min</th>\n",
       "      <td>0.000000</td>\n",
       "      <td>18.000000</td>\n",
       "      <td>5300.000000</td>\n",
       "      <td>0.000000</td>\n",
       "      <td>0.000000</td>\n",
       "    </tr>\n",
       "    <tr>\n",
       "      <th>25%</th>\n",
       "      <td>0.000000</td>\n",
       "      <td>24.000000</td>\n",
       "      <td>33200.000000</td>\n",
       "      <td>0.000000</td>\n",
       "      <td>0.000000</td>\n",
       "    </tr>\n",
       "    <tr>\n",
       "      <th>50%</th>\n",
       "      <td>0.000000</td>\n",
       "      <td>30.000000</td>\n",
       "      <td>40200.000000</td>\n",
       "      <td>1.000000</td>\n",
       "      <td>0.000000</td>\n",
       "    </tr>\n",
       "    <tr>\n",
       "      <th>75%</th>\n",
       "      <td>1.000000</td>\n",
       "      <td>37.000000</td>\n",
       "      <td>46600.000000</td>\n",
       "      <td>2.000000</td>\n",
       "      <td>0.000000</td>\n",
       "    </tr>\n",
       "    <tr>\n",
       "      <th>max</th>\n",
       "      <td>1.000000</td>\n",
       "      <td>65.000000</td>\n",
       "      <td>79000.000000</td>\n",
       "      <td>6.000000</td>\n",
       "      <td>5.000000</td>\n",
       "    </tr>\n",
       "  </tbody>\n",
       "</table>\n",
       "</div>"
      ],
      "text/plain": [
       "            gender          age        income  family_members  \\\n",
       "count  4847.000000  4847.000000   4847.000000     4847.000000   \n",
       "mean      0.498453    31.023932  39895.811842        1.203425   \n",
       "std       0.500049     8.487995   9972.953985        1.098664   \n",
       "min       0.000000    18.000000   5300.000000        0.000000   \n",
       "25%       0.000000    24.000000  33200.000000        0.000000   \n",
       "50%       0.000000    30.000000  40200.000000        1.000000   \n",
       "75%       1.000000    37.000000  46600.000000        2.000000   \n",
       "max       1.000000    65.000000  79000.000000        6.000000   \n",
       "\n",
       "       insurance_benefits  \n",
       "count         4847.000000  \n",
       "mean             0.152259  \n",
       "std              0.468934  \n",
       "min              0.000000  \n",
       "25%              0.000000  \n",
       "50%              0.000000  \n",
       "75%              0.000000  \n",
       "max              5.000000  "
      ]
     },
     "execution_count": 12,
     "metadata": {},
     "output_type": "execute_result"
    }
   ],
   "source": [
    "# Have a look at the data's descriptive statistics. \n",
    "df.describe()"
   ]
  },
  {
   "cell_type": "code",
   "execution_count": 13,
   "metadata": {},
   "outputs": [
    {
     "data": {
      "text/plain": [
       "0    0.501547\n",
       "1    0.498453\n",
       "Name: gender, dtype: float64"
      ]
     },
     "execution_count": 13,
     "metadata": {},
     "output_type": "execute_result"
    }
   ],
   "source": [
    "#check gender distribution\n",
    "\n",
    "df['gender'].value_counts()/len(df)"
   ]
  },
  {
   "cell_type": "code",
   "execution_count": 14,
   "metadata": {},
   "outputs": [
    {
     "data": {
      "text/plain": [
       "1    0.360635\n",
       "0    0.301424\n",
       "2    0.214153\n",
       "3    0.090159\n",
       "4    0.025583\n",
       "5    0.006602\n",
       "6    0.001444\n",
       "Name: family_members, dtype: float64"
      ]
     },
     "execution_count": 14,
     "metadata": {},
     "output_type": "execute_result"
    }
   ],
   "source": [
    "#check family members distribution\n",
    "df['family_members'].value_counts()/len(df)"
   ]
  },
  {
   "cell_type": "code",
   "execution_count": 15,
   "metadata": {},
   "outputs": [
    {
     "data": {
      "text/plain": [
       "0    0.883846\n",
       "1    0.087270\n",
       "2    0.023520\n",
       "3    0.003714\n",
       "4    0.001444\n",
       "5    0.000206\n",
       "Name: insurance_benefits, dtype: float64"
      ]
     },
     "execution_count": 15,
     "metadata": {},
     "output_type": "execute_result"
    }
   ],
   "source": [
    "##check insurance benefits distribution\n",
    "df['insurance_benefits'].value_counts()/len(df)"
   ]
  },
  {
   "cell_type": "markdown",
   "metadata": {},
   "source": [
    "## EDA"
   ]
  },
  {
   "cell_type": "markdown",
   "metadata": {},
   "source": [
    "Let's quickly check whether there are certain groups of customers by looking at the pair plot."
   ]
  },
  {
   "cell_type": "code",
   "execution_count": 16,
   "metadata": {},
   "outputs": [
    {
     "data": {
      "image/png": "[encoded data removed]",
      "text/plain": [
       "<Figure size 864x864 with 30 Axes>"
      ]
     },
     "metadata": {
      "needs_background": "light"
     },
     "output_type": "display_data"
    }
   ],
   "source": [
    "g = sns.pairplot(df, kind='hist')\n",
    "g.fig.set_size_inches(12, 12)"
   ]
  },
  {
   "cell_type": "code",
   "execution_count": 17,
   "metadata": {},
   "outputs": [
    {
     "data": {
      "image/png": "[encoded data removed]",
      "text/plain": [
       "<Figure size 864x576 with 2 Axes>"
      ]
     },
     "metadata": {
      "needs_background": "light"
     },
     "output_type": "display_data"
    }
   ],
   "source": [
    "plt.figure(figsize=(12,8))\n",
    "sns.heatmap(df.corr())\n",
    "plt.show()"
   ]
  },
  {
   "cell_type": "markdown",
   "metadata": {},
   "source": [
    "## General observations:\n",
    "\n",
    "1) An 88% of the population has never received an insurance benefit. Only a 0.2% accounts for the maximum of 5 benefits.\n",
    "\n",
    "2) Large families (3-6 members) have received a maximum of 2 insurance benefits, whereas those composed by up to two members are the ones who achieved the highest count of benefits (4-5 times). However, we must highlight that families with 3+ members account for only a 13% of the dataset, so the aforementioned conclusion might be biased for their lack of representation within the dataset.\n",
    "\n",
    "3) Age seems to be determinant: from both the pairplot and the heatmap, we can deduct that the oldest the person is, the more benefits s/he might have received.\n",
    "\n",
    "4) Gender and income do not seem to have a notorious correlation to the amount of benefits received.\n",
    "\n",
    "\n",
    "\n",
    "\n",
    "Apart from the abovementioned, it is a bit difficult to spot obvious groups (clusters) as it is difficult to combine several variables simultaneously (to analyze multivariate distributions). That's why we'll use LA and ML to systematically try to draw reliable conclusions."
   ]
  },
  {
   "cell_type": "markdown",
   "metadata": {},
   "source": [
    "# Task 1. Similar Customers"
   ]
  },
  {
   "cell_type": "markdown",
   "metadata": {},
   "source": [
    "In the language of ML, it is necessary to develop a procedure that returns k nearest neighbors (objects) for a given object based on the distance between the objects. As said above, this aims to help the company's agents with marketing.\n",
    "\n",
    "The objective is to write a function that returns k nearest neighbors for an $n^{th}$ object based on a specified distance metric. The number of received insurance benefits will not be taken into account for this task. \n",
    "\n",
    "Moreover, we'll first create a Custom ML class to figure out how the logic works from the inside out, and then compare it to the result provided by a ready implementation of the kNN algorithm from scikit-learn (check [the link](https://scikit-learn.org/stable/modules/generated/sklearn.neighbors.NearestNeighbors.html#sklearn.neighbors.NearestNeighbors)).\n",
    "\n",
    "Later on, we will test it for four combination of two cases:\n",
    "\n",
    "- Scaling\n",
    "  - the data is not scaled\n",
    "  - the data is scaled with the [MaxAbsScaler](https://scikit-learn.org/stable/modules/generated/sklearn.preprocessing.MaxAbsScaler.html) scaler\n",
    "  \n",
    "- Distance Metrics\n",
    "  - Euclidean\n",
    "  - Manhattan\n",
    "\n",
    "Finally, we will answer these questions:\n",
    "- Does the data being not scaled affect the kNN algorithm? If so, how does that appear?\n",
    "- How similar are the results using the Manhattan distance metric (regardless of the scaling)?"
   ]
  },
  {
   "cell_type": "code",
   "execution_count": 18,
   "metadata": {},
   "outputs": [],
   "source": [
    "#select every field but insurance_benefits\n",
    "feature_names = ['gender', 'age', 'income', 'family_members']"
   ]
  },
  {
   "cell_type": "markdown",
   "metadata": {},
   "source": [
    "#### Task 1) a) Create a custom ML class with the method \"knn\", which takes: \n",
    "\n",
    "- A dataframe\n",
    "- k= count of nearest neighbors to retrieve from the dataset \n",
    "- n= row index of the observation which nearest neighbors we want to get.\n",
    "\n",
    "And returns a df with the K nearest neighbors of the observation of index n, and their (manhattan/euclidean) distance to such observation"
   ]
  },
  {
   "cell_type": "code",
   "execution_count": 19,
   "metadata": {},
   "outputs": [],
   "source": [
    "#Create a custom ML class to return the k nearest neighbors of the nth observation within the dataset\n",
    "class nearest_neighbor():\n",
    "       \n",
    "    #define knn method\n",
    "    def knn(self, df, n, k, metric='euclidean'):\n",
    "        \n",
    "        \"\"\"\n",
    "        Returns k nearest neighbors\n",
    "\n",
    "        :param df: pandas DataFrame used to find similar objects within\n",
    "        :param n: object no for which the nearest neighbours are looked for\n",
    "        :param k: the number of the nearest neighbours to return\n",
    "        :param metric: name of distance metric\n",
    "        \"\"\"\n",
    "        new_features=df.loc[n,feature_names].values\n",
    "        train_df=df.loc[:,feature_names]\n",
    "        distances=[]\n",
    "        for i in range(len(df)):\n",
    "            feature_vector= train_df.iloc[i].values\n",
    "            if metric=='euclidean':\n",
    "                feature_distance= sum((new_features-feature_vector)**2)**0.5\n",
    "            elif metric=='manhattan':\n",
    "                feature_distance= sum(abs(new_features-feature_vector))\n",
    "            distances.append(feature_distance)\n",
    "\n",
    "        closest_index= np.array(distances).argsort()[:k] \n",
    "        distance_df=pd.DataFrame(np.array([distances]).T, columns= ['distance'])\n",
    "        nearest_neigh= pd.concat([df.loc[closest_index,:], distance_df.loc[closest_index,:]], axis=1)\n",
    "        return nearest_neigh"
   ]
  },
  {
   "cell_type": "code",
   "execution_count": 20,
   "metadata": {},
   "outputs": [
    {
     "data": {
      "text/html": [
       "<div>\n",
       "<style scoped>\n",
       "    .dataframe tbody tr th:only-of-type {\n",
       "        vertical-align: middle;\n",
       "    }\n",
       "\n",
       "    .dataframe tbody tr th {\n",
       "        vertical-align: top;\n",
       "    }\n",
       "\n",
       "    .dataframe thead th {\n",
       "        text-align: right;\n",
       "    }\n",
       "</style>\n",
       "<table border=\"1\" class=\"dataframe\">\n",
       "  <thead>\n",
       "    <tr style=\"text-align: right;\">\n",
       "      <th></th>\n",
       "      <th>gender</th>\n",
       "      <th>age</th>\n",
       "      <th>income</th>\n",
       "      <th>family_members</th>\n",
       "      <th>insurance_benefits</th>\n",
       "      <th>distance</th>\n",
       "    </tr>\n",
       "  </thead>\n",
       "  <tbody>\n",
       "    <tr>\n",
       "      <th>2</th>\n",
       "      <td>0</td>\n",
       "      <td>29</td>\n",
       "      <td>21000.0</td>\n",
       "      <td>0</td>\n",
       "      <td>0</td>\n",
       "      <td>0.000000</td>\n",
       "    </tr>\n",
       "    <tr>\n",
       "      <th>4407</th>\n",
       "      <td>1</td>\n",
       "      <td>31</td>\n",
       "      <td>21000.0</td>\n",
       "      <td>1</td>\n",
       "      <td>0</td>\n",
       "      <td>2.449490</td>\n",
       "    </tr>\n",
       "    <tr>\n",
       "      <th>2001</th>\n",
       "      <td>0</td>\n",
       "      <td>30</td>\n",
       "      <td>20900.0</td>\n",
       "      <td>0</td>\n",
       "      <td>0</td>\n",
       "      <td>100.005000</td>\n",
       "    </tr>\n",
       "    <tr>\n",
       "      <th>1717</th>\n",
       "      <td>1</td>\n",
       "      <td>28</td>\n",
       "      <td>21100.0</td>\n",
       "      <td>0</td>\n",
       "      <td>0</td>\n",
       "      <td>100.010000</td>\n",
       "    </tr>\n",
       "    <tr>\n",
       "      <th>4656</th>\n",
       "      <td>0</td>\n",
       "      <td>28</td>\n",
       "      <td>21100.0</td>\n",
       "      <td>2</td>\n",
       "      <td>0</td>\n",
       "      <td>100.024997</td>\n",
       "    </tr>\n",
       "    <tr>\n",
       "      <th>2693</th>\n",
       "      <td>1</td>\n",
       "      <td>27</td>\n",
       "      <td>21100.0</td>\n",
       "      <td>1</td>\n",
       "      <td>0</td>\n",
       "      <td>100.029996</td>\n",
       "    </tr>\n",
       "    <tr>\n",
       "      <th>3740</th>\n",
       "      <td>1</td>\n",
       "      <td>35</td>\n",
       "      <td>21100.0</td>\n",
       "      <td>2</td>\n",
       "      <td>0</td>\n",
       "      <td>100.204790</td>\n",
       "    </tr>\n",
       "    <tr>\n",
       "      <th>1745</th>\n",
       "      <td>1</td>\n",
       "      <td>38</td>\n",
       "      <td>20900.0</td>\n",
       "      <td>2</td>\n",
       "      <td>0</td>\n",
       "      <td>100.429079</td>\n",
       "    </tr>\n",
       "    <tr>\n",
       "      <th>3931</th>\n",
       "      <td>0</td>\n",
       "      <td>39</td>\n",
       "      <td>20900.0</td>\n",
       "      <td>1</td>\n",
       "      <td>0</td>\n",
       "      <td>100.503731</td>\n",
       "    </tr>\n",
       "    <tr>\n",
       "      <th>2733</th>\n",
       "      <td>0</td>\n",
       "      <td>40</td>\n",
       "      <td>21100.0</td>\n",
       "      <td>0</td>\n",
       "      <td>0</td>\n",
       "      <td>100.603181</td>\n",
       "    </tr>\n",
       "  </tbody>\n",
       "</table>\n",
       "</div>"
      ],
      "text/plain": [
       "      gender  age   income  family_members  insurance_benefits    distance\n",
       "2          0   29  21000.0               0                   0    0.000000\n",
       "4407       1   31  21000.0               1                   0    2.449490\n",
       "2001       0   30  20900.0               0                   0  100.005000\n",
       "1717       1   28  21100.0               0                   0  100.010000\n",
       "4656       0   28  21100.0               2                   0  100.024997\n",
       "2693       1   27  21100.0               1                   0  100.029996\n",
       "3740       1   35  21100.0               2                   0  100.204790\n",
       "1745       1   38  20900.0               2                   0  100.429079\n",
       "3931       0   39  20900.0               1                   0  100.503731\n",
       "2733       0   40  21100.0               0                   0  100.603181"
      ]
     },
     "execution_count": 20,
     "metadata": {},
     "output_type": "execute_result"
    }
   ],
   "source": [
    "#create a model of the previously defined class\n",
    "nrr= nearest_neighbor()\n",
    "\n",
    "#get the 10 closest neighbors of the 3rd observation based on euclidean distance\n",
    "top_ten_euclidean_homemade= nrr.knn(df,2,10)\n",
    "\n",
    "#print them out\n",
    "top_ten_euclidean_homemade"
   ]
  },
  {
   "cell_type": "code",
   "execution_count": 21,
   "metadata": {},
   "outputs": [
    {
     "data": {
      "text/html": [
       "<div>\n",
       "<style scoped>\n",
       "    .dataframe tbody tr th:only-of-type {\n",
       "        vertical-align: middle;\n",
       "    }\n",
       "\n",
       "    .dataframe tbody tr th {\n",
       "        vertical-align: top;\n",
       "    }\n",
       "\n",
       "    .dataframe thead th {\n",
       "        text-align: right;\n",
       "    }\n",
       "</style>\n",
       "<table border=\"1\" class=\"dataframe\">\n",
       "  <thead>\n",
       "    <tr style=\"text-align: right;\">\n",
       "      <th></th>\n",
       "      <th>gender</th>\n",
       "      <th>age</th>\n",
       "      <th>income</th>\n",
       "      <th>family_members</th>\n",
       "      <th>insurance_benefits</th>\n",
       "      <th>distance</th>\n",
       "    </tr>\n",
       "  </thead>\n",
       "  <tbody>\n",
       "    <tr>\n",
       "      <th>2</th>\n",
       "      <td>0</td>\n",
       "      <td>29</td>\n",
       "      <td>21000.0</td>\n",
       "      <td>0</td>\n",
       "      <td>0</td>\n",
       "      <td>0.0</td>\n",
       "    </tr>\n",
       "    <tr>\n",
       "      <th>4407</th>\n",
       "      <td>1</td>\n",
       "      <td>31</td>\n",
       "      <td>21000.0</td>\n",
       "      <td>1</td>\n",
       "      <td>0</td>\n",
       "      <td>4.0</td>\n",
       "    </tr>\n",
       "    <tr>\n",
       "      <th>2001</th>\n",
       "      <td>0</td>\n",
       "      <td>30</td>\n",
       "      <td>20900.0</td>\n",
       "      <td>0</td>\n",
       "      <td>0</td>\n",
       "      <td>101.0</td>\n",
       "    </tr>\n",
       "    <tr>\n",
       "      <th>1717</th>\n",
       "      <td>1</td>\n",
       "      <td>28</td>\n",
       "      <td>21100.0</td>\n",
       "      <td>0</td>\n",
       "      <td>0</td>\n",
       "      <td>102.0</td>\n",
       "    </tr>\n",
       "    <tr>\n",
       "      <th>4656</th>\n",
       "      <td>0</td>\n",
       "      <td>28</td>\n",
       "      <td>21100.0</td>\n",
       "      <td>2</td>\n",
       "      <td>0</td>\n",
       "      <td>103.0</td>\n",
       "    </tr>\n",
       "    <tr>\n",
       "      <th>2693</th>\n",
       "      <td>1</td>\n",
       "      <td>27</td>\n",
       "      <td>21100.0</td>\n",
       "      <td>1</td>\n",
       "      <td>0</td>\n",
       "      <td>104.0</td>\n",
       "    </tr>\n",
       "    <tr>\n",
       "      <th>3740</th>\n",
       "      <td>1</td>\n",
       "      <td>35</td>\n",
       "      <td>21100.0</td>\n",
       "      <td>2</td>\n",
       "      <td>0</td>\n",
       "      <td>109.0</td>\n",
       "    </tr>\n",
       "    <tr>\n",
       "      <th>3931</th>\n",
       "      <td>0</td>\n",
       "      <td>39</td>\n",
       "      <td>20900.0</td>\n",
       "      <td>1</td>\n",
       "      <td>0</td>\n",
       "      <td>111.0</td>\n",
       "    </tr>\n",
       "    <tr>\n",
       "      <th>2733</th>\n",
       "      <td>0</td>\n",
       "      <td>40</td>\n",
       "      <td>21100.0</td>\n",
       "      <td>0</td>\n",
       "      <td>0</td>\n",
       "      <td>111.0</td>\n",
       "    </tr>\n",
       "    <tr>\n",
       "      <th>1745</th>\n",
       "      <td>1</td>\n",
       "      <td>38</td>\n",
       "      <td>20900.0</td>\n",
       "      <td>2</td>\n",
       "      <td>0</td>\n",
       "      <td>112.0</td>\n",
       "    </tr>\n",
       "  </tbody>\n",
       "</table>\n",
       "</div>"
      ],
      "text/plain": [
       "      gender  age   income  family_members  insurance_benefits  distance\n",
       "2          0   29  21000.0               0                   0       0.0\n",
       "4407       1   31  21000.0               1                   0       4.0\n",
       "2001       0   30  20900.0               0                   0     101.0\n",
       "1717       1   28  21100.0               0                   0     102.0\n",
       "4656       0   28  21100.0               2                   0     103.0\n",
       "2693       1   27  21100.0               1                   0     104.0\n",
       "3740       1   35  21100.0               2                   0     109.0\n",
       "3931       0   39  20900.0               1                   0     111.0\n",
       "2733       0   40  21100.0               0                   0     111.0\n",
       "1745       1   38  20900.0               2                   0     112.0"
      ]
     },
     "execution_count": 21,
     "metadata": {},
     "output_type": "execute_result"
    }
   ],
   "source": [
    "#get the 10 closest neighbors of the 3rd observation based on manhattan distance\n",
    "top_ten_manhattan_homemade= nrr.knn(df,2,10,'manhattan')\n",
    "#print them out\n",
    "top_ten_manhattan_homemade"
   ]
  },
  {
   "cell_type": "markdown",
   "metadata": {},
   "source": [
    "#### Task 1) b) Compare it to the result provided by a ready implementation of the kNN algorithm from scikit-learn"
   ]
  },
  {
   "cell_type": "code",
   "execution_count": 22,
   "metadata": {},
   "outputs": [],
   "source": [
    "#define a function that returns the k closest neighbors of the nth observation from a dataframe\n",
    "#using a pre-defined ML classifier.\n",
    "\n",
    "def get_knn(df, n, k, metric):\n",
    "    \n",
    "    \"\"\"\n",
    "    Returns k nearest neighbors\n",
    "\n",
    "    :param df: pandas DataFrame used to find similar objects within\n",
    "    :param n: object no for which the nearest neighbours are looked for\n",
    "    :param k: the number of the nearest neighbours to return\n",
    "    :param metric: name of distance metric\n",
    "    \"\"\"\n",
    "    # Create an object of class nearest neighbors\n",
    "    nbrs = NearestNeighbors(n_neighbors=k, metric=metric)\n",
    "    \n",
    "    #define train df (excluding target)\n",
    "    train_df=df.loc[:,feature_names].values\n",
    "    \n",
    "    #fit the train df to the object\n",
    "    nbrs.fit(train_df)\n",
    "     \n",
    "    #index and distances of the k closest observations\n",
    "    nbrs_distances, nbrs_indices = nbrs.kneighbors([df.iloc[n][feature_names]], k, return_distance=True)\n",
    "    \n",
    "    #create df filtering out the index of the k closest observations, and appending their distance to the target obs\n",
    "    df_res = pd.concat([\n",
    "        df.iloc[nbrs_indices[0]], \n",
    "        pd.DataFrame(nbrs_distances.T, index=nbrs_indices[0], columns=['distance'])\n",
    "        ], axis=1)\n",
    "    \n",
    "    return df_res"
   ]
  },
  {
   "cell_type": "code",
   "execution_count": 23,
   "metadata": {},
   "outputs": [
    {
     "data": {
      "text/html": [
       "<div>\n",
       "<style scoped>\n",
       "    .dataframe tbody tr th:only-of-type {\n",
       "        vertical-align: middle;\n",
       "    }\n",
       "\n",
       "    .dataframe tbody tr th {\n",
       "        vertical-align: top;\n",
       "    }\n",
       "\n",
       "    .dataframe thead th {\n",
       "        text-align: right;\n",
       "    }\n",
       "</style>\n",
       "<table border=\"1\" class=\"dataframe\">\n",
       "  <thead>\n",
       "    <tr style=\"text-align: right;\">\n",
       "      <th></th>\n",
       "      <th>gender</th>\n",
       "      <th>age</th>\n",
       "      <th>income</th>\n",
       "      <th>family_members</th>\n",
       "      <th>insurance_benefits</th>\n",
       "      <th>distance</th>\n",
       "    </tr>\n",
       "  </thead>\n",
       "  <tbody>\n",
       "    <tr>\n",
       "      <th>2</th>\n",
       "      <td>0</td>\n",
       "      <td>29</td>\n",
       "      <td>21000.0</td>\n",
       "      <td>0</td>\n",
       "      <td>0</td>\n",
       "      <td>0.000000</td>\n",
       "    </tr>\n",
       "    <tr>\n",
       "      <th>4407</th>\n",
       "      <td>1</td>\n",
       "      <td>31</td>\n",
       "      <td>21000.0</td>\n",
       "      <td>1</td>\n",
       "      <td>0</td>\n",
       "      <td>2.449490</td>\n",
       "    </tr>\n",
       "    <tr>\n",
       "      <th>2001</th>\n",
       "      <td>0</td>\n",
       "      <td>30</td>\n",
       "      <td>20900.0</td>\n",
       "      <td>0</td>\n",
       "      <td>0</td>\n",
       "      <td>100.005000</td>\n",
       "    </tr>\n",
       "    <tr>\n",
       "      <th>1717</th>\n",
       "      <td>1</td>\n",
       "      <td>28</td>\n",
       "      <td>21100.0</td>\n",
       "      <td>0</td>\n",
       "      <td>0</td>\n",
       "      <td>100.010000</td>\n",
       "    </tr>\n",
       "    <tr>\n",
       "      <th>4656</th>\n",
       "      <td>0</td>\n",
       "      <td>28</td>\n",
       "      <td>21100.0</td>\n",
       "      <td>2</td>\n",
       "      <td>0</td>\n",
       "      <td>100.024997</td>\n",
       "    </tr>\n",
       "    <tr>\n",
       "      <th>2693</th>\n",
       "      <td>1</td>\n",
       "      <td>27</td>\n",
       "      <td>21100.0</td>\n",
       "      <td>1</td>\n",
       "      <td>0</td>\n",
       "      <td>100.029996</td>\n",
       "    </tr>\n",
       "    <tr>\n",
       "      <th>3740</th>\n",
       "      <td>1</td>\n",
       "      <td>35</td>\n",
       "      <td>21100.0</td>\n",
       "      <td>2</td>\n",
       "      <td>0</td>\n",
       "      <td>100.204790</td>\n",
       "    </tr>\n",
       "    <tr>\n",
       "      <th>1745</th>\n",
       "      <td>1</td>\n",
       "      <td>38</td>\n",
       "      <td>20900.0</td>\n",
       "      <td>2</td>\n",
       "      <td>0</td>\n",
       "      <td>100.429079</td>\n",
       "    </tr>\n",
       "    <tr>\n",
       "      <th>3931</th>\n",
       "      <td>0</td>\n",
       "      <td>39</td>\n",
       "      <td>20900.0</td>\n",
       "      <td>1</td>\n",
       "      <td>0</td>\n",
       "      <td>100.503731</td>\n",
       "    </tr>\n",
       "    <tr>\n",
       "      <th>2733</th>\n",
       "      <td>0</td>\n",
       "      <td>40</td>\n",
       "      <td>21100.0</td>\n",
       "      <td>0</td>\n",
       "      <td>0</td>\n",
       "      <td>100.603181</td>\n",
       "    </tr>\n",
       "  </tbody>\n",
       "</table>\n",
       "</div>"
      ],
      "text/plain": [
       "      gender  age   income  family_members  insurance_benefits    distance\n",
       "2          0   29  21000.0               0                   0    0.000000\n",
       "4407       1   31  21000.0               1                   0    2.449490\n",
       "2001       0   30  20900.0               0                   0  100.005000\n",
       "1717       1   28  21100.0               0                   0  100.010000\n",
       "4656       0   28  21100.0               2                   0  100.024997\n",
       "2693       1   27  21100.0               1                   0  100.029996\n",
       "3740       1   35  21100.0               2                   0  100.204790\n",
       "1745       1   38  20900.0               2                   0  100.429079\n",
       "3931       0   39  20900.0               1                   0  100.503731\n",
       "2733       0   40  21100.0               0                   0  100.603181"
      ]
     },
     "execution_count": 23,
     "metadata": {},
     "output_type": "execute_result"
    }
   ],
   "source": [
    "#get the 10 closest neighbors of the 3rd observation based on euclidean distance\n",
    "top_ten_euclidean_takeaway= get_knn(df,2,10,'euclidean')\n",
    "\n",
    "#print them out\n",
    "top_ten_euclidean_takeaway"
   ]
  },
  {
   "cell_type": "code",
   "execution_count": 24,
   "metadata": {},
   "outputs": [
    {
     "data": {
      "text/html": [
       "<div>\n",
       "<style scoped>\n",
       "    .dataframe tbody tr th:only-of-type {\n",
       "        vertical-align: middle;\n",
       "    }\n",
       "\n",
       "    .dataframe tbody tr th {\n",
       "        vertical-align: top;\n",
       "    }\n",
       "\n",
       "    .dataframe thead th {\n",
       "        text-align: right;\n",
       "    }\n",
       "</style>\n",
       "<table border=\"1\" class=\"dataframe\">\n",
       "  <thead>\n",
       "    <tr style=\"text-align: right;\">\n",
       "      <th></th>\n",
       "      <th>gender</th>\n",
       "      <th>age</th>\n",
       "      <th>income</th>\n",
       "      <th>family_members</th>\n",
       "      <th>insurance_benefits</th>\n",
       "      <th>distance</th>\n",
       "    </tr>\n",
       "  </thead>\n",
       "  <tbody>\n",
       "    <tr>\n",
       "      <th>2</th>\n",
       "      <td>0</td>\n",
       "      <td>29</td>\n",
       "      <td>21000.0</td>\n",
       "      <td>0</td>\n",
       "      <td>0</td>\n",
       "      <td>0.0</td>\n",
       "    </tr>\n",
       "    <tr>\n",
       "      <th>4407</th>\n",
       "      <td>1</td>\n",
       "      <td>31</td>\n",
       "      <td>21000.0</td>\n",
       "      <td>1</td>\n",
       "      <td>0</td>\n",
       "      <td>4.0</td>\n",
       "    </tr>\n",
       "    <tr>\n",
       "      <th>2001</th>\n",
       "      <td>0</td>\n",
       "      <td>30</td>\n",
       "      <td>20900.0</td>\n",
       "      <td>0</td>\n",
       "      <td>0</td>\n",
       "      <td>101.0</td>\n",
       "    </tr>\n",
       "    <tr>\n",
       "      <th>1717</th>\n",
       "      <td>1</td>\n",
       "      <td>28</td>\n",
       "      <td>21100.0</td>\n",
       "      <td>0</td>\n",
       "      <td>0</td>\n",
       "      <td>102.0</td>\n",
       "    </tr>\n",
       "    <tr>\n",
       "      <th>4656</th>\n",
       "      <td>0</td>\n",
       "      <td>28</td>\n",
       "      <td>21100.0</td>\n",
       "      <td>2</td>\n",
       "      <td>0</td>\n",
       "      <td>103.0</td>\n",
       "    </tr>\n",
       "    <tr>\n",
       "      <th>2693</th>\n",
       "      <td>1</td>\n",
       "      <td>27</td>\n",
       "      <td>21100.0</td>\n",
       "      <td>1</td>\n",
       "      <td>0</td>\n",
       "      <td>104.0</td>\n",
       "    </tr>\n",
       "    <tr>\n",
       "      <th>3740</th>\n",
       "      <td>1</td>\n",
       "      <td>35</td>\n",
       "      <td>21100.0</td>\n",
       "      <td>2</td>\n",
       "      <td>0</td>\n",
       "      <td>109.0</td>\n",
       "    </tr>\n",
       "    <tr>\n",
       "      <th>3931</th>\n",
       "      <td>0</td>\n",
       "      <td>39</td>\n",
       "      <td>20900.0</td>\n",
       "      <td>1</td>\n",
       "      <td>0</td>\n",
       "      <td>111.0</td>\n",
       "    </tr>\n",
       "    <tr>\n",
       "      <th>2733</th>\n",
       "      <td>0</td>\n",
       "      <td>40</td>\n",
       "      <td>21100.0</td>\n",
       "      <td>0</td>\n",
       "      <td>0</td>\n",
       "      <td>111.0</td>\n",
       "    </tr>\n",
       "    <tr>\n",
       "      <th>1745</th>\n",
       "      <td>1</td>\n",
       "      <td>38</td>\n",
       "      <td>20900.0</td>\n",
       "      <td>2</td>\n",
       "      <td>0</td>\n",
       "      <td>112.0</td>\n",
       "    </tr>\n",
       "  </tbody>\n",
       "</table>\n",
       "</div>"
      ],
      "text/plain": [
       "      gender  age   income  family_members  insurance_benefits  distance\n",
       "2          0   29  21000.0               0                   0       0.0\n",
       "4407       1   31  21000.0               1                   0       4.0\n",
       "2001       0   30  20900.0               0                   0     101.0\n",
       "1717       1   28  21100.0               0                   0     102.0\n",
       "4656       0   28  21100.0               2                   0     103.0\n",
       "2693       1   27  21100.0               1                   0     104.0\n",
       "3740       1   35  21100.0               2                   0     109.0\n",
       "3931       0   39  20900.0               1                   0     111.0\n",
       "2733       0   40  21100.0               0                   0     111.0\n",
       "1745       1   38  20900.0               2                   0     112.0"
      ]
     },
     "execution_count": 24,
     "metadata": {},
     "output_type": "execute_result"
    }
   ],
   "source": [
    "#get the 10 closest neighbors of the 3rd observation based on manhattan distance\n",
    "top_ten_manhattan_takeaway= get_knn(df,2,10,'manhattan')\n",
    "\n",
    "#print them out\n",
    "top_ten_manhattan_takeaway"
   ]
  },
  {
   "cell_type": "code",
   "execution_count": 25,
   "metadata": {},
   "outputs": [
    {
     "data": {
      "text/plain": [
       "gender                0\n",
       "age                   0\n",
       "income                0\n",
       "family_members        0\n",
       "insurance_benefits    0\n",
       "distance              0\n",
       "dtype: int64"
      ]
     },
     "execution_count": 25,
     "metadata": {},
     "output_type": "execute_result"
    }
   ],
   "source": [
    "#Check there's no differences between the custom class and the ready implementation (euclidean distances)\n",
    "(top_ten_euclidean_homemade==top_ten_euclidean_takeaway).sum()-len(top_ten_euclidean_homemade)"
   ]
  },
  {
   "cell_type": "code",
   "execution_count": 26,
   "metadata": {},
   "outputs": [
    {
     "data": {
      "text/plain": [
       "gender                0\n",
       "age                   0\n",
       "income                0\n",
       "family_members        0\n",
       "insurance_benefits    0\n",
       "distance              0\n",
       "dtype: int64"
      ]
     },
     "execution_count": 26,
     "metadata": {},
     "output_type": "execute_result"
    }
   ],
   "source": [
    "#Check there's no differences between the custom class and the ready implementation (manhattan distances)\n",
    "(top_ten_manhattan_homemade==top_ten_manhattan_takeaway).sum()-len(top_ten_manhattan_takeaway)"
   ]
  },
  {
   "cell_type": "markdown",
   "metadata": {},
   "source": [
    "#### It worked! Now we know out custom ML class works correctly."
   ]
  },
  {
   "cell_type": "markdown",
   "metadata": {},
   "source": [
    "Next, we'll scale the data and see if the closest neighbors retrieved change"
   ]
  },
  {
   "cell_type": "code",
   "execution_count": 27,
   "metadata": {},
   "outputs": [],
   "source": [
    "#fit train df (excluding target) to the scaler\n",
    "transformer_mas = sklearn.preprocessing.MaxAbsScaler().fit(df[feature_names].to_numpy())\n",
    "\n",
    "#scale the features and store in separate df\n",
    "df_scaled = df.copy()\n",
    "df_scaled.loc[:, feature_names] = transformer_mas.transform(df[feature_names].to_numpy())"
   ]
  },
  {
   "cell_type": "code",
   "execution_count": 28,
   "metadata": {},
   "outputs": [
    {
     "data": {
      "text/html": [
       "<div>\n",
       "<style scoped>\n",
       "    .dataframe tbody tr th:only-of-type {\n",
       "        vertical-align: middle;\n",
       "    }\n",
       "\n",
       "    .dataframe tbody tr th {\n",
       "        vertical-align: top;\n",
       "    }\n",
       "\n",
       "    .dataframe thead th {\n",
       "        text-align: right;\n",
       "    }\n",
       "</style>\n",
       "<table border=\"1\" class=\"dataframe\">\n",
       "  <thead>\n",
       "    <tr style=\"text-align: right;\">\n",
       "      <th></th>\n",
       "      <th>gender</th>\n",
       "      <th>age</th>\n",
       "      <th>income</th>\n",
       "      <th>family_members</th>\n",
       "      <th>insurance_benefits</th>\n",
       "    </tr>\n",
       "  </thead>\n",
       "  <tbody>\n",
       "    <tr>\n",
       "      <th>3793</th>\n",
       "      <td>1.0</td>\n",
       "      <td>0.369231</td>\n",
       "      <td>0.612658</td>\n",
       "      <td>0.000000</td>\n",
       "      <td>0</td>\n",
       "    </tr>\n",
       "    <tr>\n",
       "      <th>3298</th>\n",
       "      <td>1.0</td>\n",
       "      <td>0.446154</td>\n",
       "      <td>0.529114</td>\n",
       "      <td>0.166667</td>\n",
       "      <td>0</td>\n",
       "    </tr>\n",
       "    <tr>\n",
       "      <th>3406</th>\n",
       "      <td>0.0</td>\n",
       "      <td>0.353846</td>\n",
       "      <td>0.624051</td>\n",
       "      <td>0.166667</td>\n",
       "      <td>0</td>\n",
       "    </tr>\n",
       "    <tr>\n",
       "      <th>544</th>\n",
       "      <td>1.0</td>\n",
       "      <td>0.538462</td>\n",
       "      <td>0.656962</td>\n",
       "      <td>0.333333</td>\n",
       "      <td>0</td>\n",
       "    </tr>\n",
       "    <tr>\n",
       "      <th>2383</th>\n",
       "      <td>0.0</td>\n",
       "      <td>0.307692</td>\n",
       "      <td>0.350633</td>\n",
       "      <td>0.000000</td>\n",
       "      <td>0</td>\n",
       "    </tr>\n",
       "  </tbody>\n",
       "</table>\n",
       "</div>"
      ],
      "text/plain": [
       "      gender       age    income  family_members  insurance_benefits\n",
       "3793     1.0  0.369231  0.612658        0.000000                   0\n",
       "3298     1.0  0.446154  0.529114        0.166667                   0\n",
       "3406     0.0  0.353846  0.624051        0.166667                   0\n",
       "544      1.0  0.538462  0.656962        0.333333                   0\n",
       "2383     0.0  0.307692  0.350633        0.000000                   0"
      ]
     },
     "execution_count": 28,
     "metadata": {},
     "output_type": "execute_result"
    }
   ],
   "source": [
    "#print 5 random rows\n",
    "df_scaled.sample(5)"
   ]
  },
  {
   "cell_type": "markdown",
   "metadata": {},
   "source": [
    "Now, let's get similar records for a given one for every combination"
   ]
  },
  {
   "cell_type": "code",
   "execution_count": 29,
   "metadata": {},
   "outputs": [
    {
     "data": {
      "text/html": [
       "<div>\n",
       "<style scoped>\n",
       "    .dataframe tbody tr th:only-of-type {\n",
       "        vertical-align: middle;\n",
       "    }\n",
       "\n",
       "    .dataframe tbody tr th {\n",
       "        vertical-align: top;\n",
       "    }\n",
       "\n",
       "    .dataframe thead th {\n",
       "        text-align: right;\n",
       "    }\n",
       "</style>\n",
       "<table border=\"1\" class=\"dataframe\">\n",
       "  <thead>\n",
       "    <tr style=\"text-align: right;\">\n",
       "      <th></th>\n",
       "      <th>gender</th>\n",
       "      <th>age</th>\n",
       "      <th>income</th>\n",
       "      <th>family_members</th>\n",
       "      <th>insurance_benefits</th>\n",
       "      <th>distance</th>\n",
       "    </tr>\n",
       "  </thead>\n",
       "  <tbody>\n",
       "    <tr>\n",
       "      <th>2</th>\n",
       "      <td>0.0</td>\n",
       "      <td>0.446154</td>\n",
       "      <td>0.265823</td>\n",
       "      <td>0.0</td>\n",
       "      <td>0</td>\n",
       "      <td>0.000000</td>\n",
       "    </tr>\n",
       "    <tr>\n",
       "      <th>507</th>\n",
       "      <td>0.0</td>\n",
       "      <td>0.446154</td>\n",
       "      <td>0.255696</td>\n",
       "      <td>0.0</td>\n",
       "      <td>0</td>\n",
       "      <td>0.010127</td>\n",
       "    </tr>\n",
       "    <tr>\n",
       "      <th>224</th>\n",
       "      <td>0.0</td>\n",
       "      <td>0.446154</td>\n",
       "      <td>0.277215</td>\n",
       "      <td>0.0</td>\n",
       "      <td>0</td>\n",
       "      <td>0.011392</td>\n",
       "    </tr>\n",
       "    <tr>\n",
       "      <th>2001</th>\n",
       "      <td>0.0</td>\n",
       "      <td>0.461538</td>\n",
       "      <td>0.264557</td>\n",
       "      <td>0.0</td>\n",
       "      <td>0</td>\n",
       "      <td>0.015437</td>\n",
       "    </tr>\n",
       "    <tr>\n",
       "      <th>645</th>\n",
       "      <td>0.0</td>\n",
       "      <td>0.461538</td>\n",
       "      <td>0.289873</td>\n",
       "      <td>0.0</td>\n",
       "      <td>0</td>\n",
       "      <td>0.028550</td>\n",
       "    </tr>\n",
       "    <tr>\n",
       "      <th>3083</th>\n",
       "      <td>0.0</td>\n",
       "      <td>0.446154</td>\n",
       "      <td>0.308861</td>\n",
       "      <td>0.0</td>\n",
       "      <td>0</td>\n",
       "      <td>0.043038</td>\n",
       "    </tr>\n",
       "    <tr>\n",
       "      <th>2778</th>\n",
       "      <td>0.0</td>\n",
       "      <td>0.415385</td>\n",
       "      <td>0.235443</td>\n",
       "      <td>0.0</td>\n",
       "      <td>0</td>\n",
       "      <td>0.043240</td>\n",
       "    </tr>\n",
       "    <tr>\n",
       "      <th>4755</th>\n",
       "      <td>0.0</td>\n",
       "      <td>0.492308</td>\n",
       "      <td>0.259494</td>\n",
       "      <td>0.0</td>\n",
       "      <td>0</td>\n",
       "      <td>0.046586</td>\n",
       "    </tr>\n",
       "    <tr>\n",
       "      <th>2036</th>\n",
       "      <td>0.0</td>\n",
       "      <td>0.492308</td>\n",
       "      <td>0.275949</td>\n",
       "      <td>0.0</td>\n",
       "      <td>0</td>\n",
       "      <td>0.047252</td>\n",
       "    </tr>\n",
       "    <tr>\n",
       "      <th>4079</th>\n",
       "      <td>0.0</td>\n",
       "      <td>0.446154</td>\n",
       "      <td>0.318987</td>\n",
       "      <td>0.0</td>\n",
       "      <td>0</td>\n",
       "      <td>0.053165</td>\n",
       "    </tr>\n",
       "  </tbody>\n",
       "</table>\n",
       "</div>"
      ],
      "text/plain": [
       "      gender       age    income  family_members  insurance_benefits  distance\n",
       "2        0.0  0.446154  0.265823             0.0                   0  0.000000\n",
       "507      0.0  0.446154  0.255696             0.0                   0  0.010127\n",
       "224      0.0  0.446154  0.277215             0.0                   0  0.011392\n",
       "2001     0.0  0.461538  0.264557             0.0                   0  0.015437\n",
       "645      0.0  0.461538  0.289873             0.0                   0  0.028550\n",
       "3083     0.0  0.446154  0.308861             0.0                   0  0.043038\n",
       "2778     0.0  0.415385  0.235443             0.0                   0  0.043240\n",
       "4755     0.0  0.492308  0.259494             0.0                   0  0.046586\n",
       "2036     0.0  0.492308  0.275949             0.0                   0  0.047252\n",
       "4079     0.0  0.446154  0.318987             0.0                   0  0.053165"
      ]
     },
     "execution_count": 29,
     "metadata": {},
     "output_type": "execute_result"
    }
   ],
   "source": [
    "#get 10 closest records for df scaled - euclidean\n",
    "top_ten_euclidean_scaled=nrr.knn(df_scaled,2,10)\n",
    "top_ten_euclidean_scaled"
   ]
  },
  {
   "cell_type": "code",
   "execution_count": 30,
   "metadata": {},
   "outputs": [
    {
     "data": {
      "text/plain": [
       "gender                0\n",
       "age                   0\n",
       "income                0\n",
       "family_members        0\n",
       "insurance_benefits    0\n",
       "distance              0\n",
       "dtype: int64"
      ]
     },
     "execution_count": 30,
     "metadata": {},
     "output_type": "execute_result"
    }
   ],
   "source": [
    "#check there're no differences between custom and pre-set model\n",
    "(get_knn(df_scaled,2,10,'euclidean')==top_ten_euclidean_scaled).sum()-len(nrr.knn(df_scaled,2,10))"
   ]
  },
  {
   "cell_type": "code",
   "execution_count": 31,
   "metadata": {},
   "outputs": [
    {
     "data": {
      "text/html": [
       "<div>\n",
       "<style scoped>\n",
       "    .dataframe tbody tr th:only-of-type {\n",
       "        vertical-align: middle;\n",
       "    }\n",
       "\n",
       "    .dataframe tbody tr th {\n",
       "        vertical-align: top;\n",
       "    }\n",
       "\n",
       "    .dataframe thead th {\n",
       "        text-align: right;\n",
       "    }\n",
       "</style>\n",
       "<table border=\"1\" class=\"dataframe\">\n",
       "  <thead>\n",
       "    <tr style=\"text-align: right;\">\n",
       "      <th></th>\n",
       "      <th>gender</th>\n",
       "      <th>age</th>\n",
       "      <th>income</th>\n",
       "      <th>family_members</th>\n",
       "      <th>insurance_benefits</th>\n",
       "      <th>distance</th>\n",
       "    </tr>\n",
       "  </thead>\n",
       "  <tbody>\n",
       "    <tr>\n",
       "      <th>2</th>\n",
       "      <td>0.0</td>\n",
       "      <td>0.446154</td>\n",
       "      <td>0.265823</td>\n",
       "      <td>0.0</td>\n",
       "      <td>0</td>\n",
       "      <td>0.000000</td>\n",
       "    </tr>\n",
       "    <tr>\n",
       "      <th>507</th>\n",
       "      <td>0.0</td>\n",
       "      <td>0.446154</td>\n",
       "      <td>0.255696</td>\n",
       "      <td>0.0</td>\n",
       "      <td>0</td>\n",
       "      <td>0.010127</td>\n",
       "    </tr>\n",
       "    <tr>\n",
       "      <th>224</th>\n",
       "      <td>0.0</td>\n",
       "      <td>0.446154</td>\n",
       "      <td>0.277215</td>\n",
       "      <td>0.0</td>\n",
       "      <td>0</td>\n",
       "      <td>0.011392</td>\n",
       "    </tr>\n",
       "    <tr>\n",
       "      <th>2001</th>\n",
       "      <td>0.0</td>\n",
       "      <td>0.461538</td>\n",
       "      <td>0.264557</td>\n",
       "      <td>0.0</td>\n",
       "      <td>0</td>\n",
       "      <td>0.016650</td>\n",
       "    </tr>\n",
       "    <tr>\n",
       "      <th>645</th>\n",
       "      <td>0.0</td>\n",
       "      <td>0.461538</td>\n",
       "      <td>0.289873</td>\n",
       "      <td>0.0</td>\n",
       "      <td>0</td>\n",
       "      <td>0.039435</td>\n",
       "    </tr>\n",
       "    <tr>\n",
       "      <th>3083</th>\n",
       "      <td>0.0</td>\n",
       "      <td>0.446154</td>\n",
       "      <td>0.308861</td>\n",
       "      <td>0.0</td>\n",
       "      <td>0</td>\n",
       "      <td>0.043038</td>\n",
       "    </tr>\n",
       "    <tr>\n",
       "      <th>4755</th>\n",
       "      <td>0.0</td>\n",
       "      <td>0.492308</td>\n",
       "      <td>0.259494</td>\n",
       "      <td>0.0</td>\n",
       "      <td>0</td>\n",
       "      <td>0.052483</td>\n",
       "    </tr>\n",
       "    <tr>\n",
       "      <th>4079</th>\n",
       "      <td>0.0</td>\n",
       "      <td>0.446154</td>\n",
       "      <td>0.318987</td>\n",
       "      <td>0.0</td>\n",
       "      <td>0</td>\n",
       "      <td>0.053165</td>\n",
       "    </tr>\n",
       "    <tr>\n",
       "      <th>2036</th>\n",
       "      <td>0.0</td>\n",
       "      <td>0.492308</td>\n",
       "      <td>0.275949</td>\n",
       "      <td>0.0</td>\n",
       "      <td>0</td>\n",
       "      <td>0.056280</td>\n",
       "    </tr>\n",
       "    <tr>\n",
       "      <th>2778</th>\n",
       "      <td>0.0</td>\n",
       "      <td>0.415385</td>\n",
       "      <td>0.235443</td>\n",
       "      <td>0.0</td>\n",
       "      <td>0</td>\n",
       "      <td>0.061149</td>\n",
       "    </tr>\n",
       "  </tbody>\n",
       "</table>\n",
       "</div>"
      ],
      "text/plain": [
       "      gender       age    income  family_members  insurance_benefits  distance\n",
       "2        0.0  0.446154  0.265823             0.0                   0  0.000000\n",
       "507      0.0  0.446154  0.255696             0.0                   0  0.010127\n",
       "224      0.0  0.446154  0.277215             0.0                   0  0.011392\n",
       "2001     0.0  0.461538  0.264557             0.0                   0  0.016650\n",
       "645      0.0  0.461538  0.289873             0.0                   0  0.039435\n",
       "3083     0.0  0.446154  0.308861             0.0                   0  0.043038\n",
       "4755     0.0  0.492308  0.259494             0.0                   0  0.052483\n",
       "4079     0.0  0.446154  0.318987             0.0                   0  0.053165\n",
       "2036     0.0  0.492308  0.275949             0.0                   0  0.056280\n",
       "2778     0.0  0.415385  0.235443             0.0                   0  0.061149"
      ]
     },
     "execution_count": 31,
     "metadata": {},
     "output_type": "execute_result"
    }
   ],
   "source": [
    "#get 10 closest records for df scaled - manhattan\n",
    "top_ten_manhattan_scaled=nrr.knn(df_scaled,2,10,'manhattan')\n",
    "top_ten_manhattan_scaled"
   ]
  },
  {
   "cell_type": "code",
   "execution_count": 32,
   "metadata": {},
   "outputs": [
    {
     "data": {
      "text/plain": [
       "gender                0\n",
       "age                   0\n",
       "income                0\n",
       "family_members        0\n",
       "insurance_benefits    0\n",
       "distance              0\n",
       "dtype: int64"
      ]
     },
     "execution_count": 32,
     "metadata": {},
     "output_type": "execute_result"
    }
   ],
   "source": [
    "#check there're no differences between custom and pre-set mod\n",
    "(get_knn(df_scaled,2,10,'manhattan')==top_ten_manhattan_scaled).sum()-len(nrr.knn(df_scaled,2,10))"
   ]
  },
  {
   "cell_type": "markdown",
   "metadata": {},
   "source": [
    "**Does the data being not scaled affect the kNN algorithm? If so, how does that appear?** \n",
    "\n",
    "To answer to that question we will print out any differences in the nearest neighbors returned for the scaled and non-scaled data, compare it to the observation whose knn we searched, and try to understand what are these divergencies due to (if any)."
   ]
  },
  {
   "cell_type": "code",
   "execution_count": 33,
   "metadata": {},
   "outputs": [
    {
     "data": {
      "text/html": [
       "<div>\n",
       "<style scoped>\n",
       "    .dataframe tbody tr th:only-of-type {\n",
       "        vertical-align: middle;\n",
       "    }\n",
       "\n",
       "    .dataframe tbody tr th {\n",
       "        vertical-align: top;\n",
       "    }\n",
       "\n",
       "    .dataframe thead th {\n",
       "        text-align: right;\n",
       "    }\n",
       "</style>\n",
       "<table border=\"1\" class=\"dataframe\">\n",
       "  <thead>\n",
       "    <tr style=\"text-align: right;\">\n",
       "      <th></th>\n",
       "      <th>gender</th>\n",
       "      <th>age</th>\n",
       "      <th>income</th>\n",
       "      <th>family_members</th>\n",
       "      <th>insurance_benefits</th>\n",
       "    </tr>\n",
       "  </thead>\n",
       "  <tbody>\n",
       "    <tr>\n",
       "      <th>2</th>\n",
       "      <td>0</td>\n",
       "      <td>29</td>\n",
       "      <td>21000.0</td>\n",
       "      <td>0</td>\n",
       "      <td>0</td>\n",
       "    </tr>\n",
       "  </tbody>\n",
       "</table>\n",
       "</div>"
      ],
      "text/plain": [
       "   gender  age   income  family_members  insurance_benefits\n",
       "2       0   29  21000.0               0                   0"
      ]
     },
     "execution_count": 33,
     "metadata": {},
     "output_type": "execute_result"
    }
   ],
   "source": [
    "#print out observation which closest neighbors we looked for\n",
    "df[df.index==2]"
   ]
  },
  {
   "cell_type": "code",
   "execution_count": 34,
   "metadata": {},
   "outputs": [
    {
     "data": {
      "text/html": [
       "<div>\n",
       "<style scoped>\n",
       "    .dataframe tbody tr th:only-of-type {\n",
       "        vertical-align: middle;\n",
       "    }\n",
       "\n",
       "    .dataframe tbody tr th {\n",
       "        vertical-align: top;\n",
       "    }\n",
       "\n",
       "    .dataframe thead th {\n",
       "        text-align: right;\n",
       "    }\n",
       "</style>\n",
       "<table border=\"1\" class=\"dataframe\">\n",
       "  <thead>\n",
       "    <tr style=\"text-align: right;\">\n",
       "      <th></th>\n",
       "      <th>gender</th>\n",
       "      <th>age</th>\n",
       "      <th>income</th>\n",
       "      <th>family_members</th>\n",
       "      <th>insurance_benefits</th>\n",
       "      <th>distance</th>\n",
       "    </tr>\n",
       "  </thead>\n",
       "  <tbody>\n",
       "    <tr>\n",
       "      <th>4407</th>\n",
       "      <td>1</td>\n",
       "      <td>31</td>\n",
       "      <td>21000.0</td>\n",
       "      <td>1</td>\n",
       "      <td>0</td>\n",
       "      <td>2.449490</td>\n",
       "    </tr>\n",
       "    <tr>\n",
       "      <th>1717</th>\n",
       "      <td>1</td>\n",
       "      <td>28</td>\n",
       "      <td>21100.0</td>\n",
       "      <td>0</td>\n",
       "      <td>0</td>\n",
       "      <td>100.010000</td>\n",
       "    </tr>\n",
       "    <tr>\n",
       "      <th>4656</th>\n",
       "      <td>0</td>\n",
       "      <td>28</td>\n",
       "      <td>21100.0</td>\n",
       "      <td>2</td>\n",
       "      <td>0</td>\n",
       "      <td>100.024997</td>\n",
       "    </tr>\n",
       "    <tr>\n",
       "      <th>2693</th>\n",
       "      <td>1</td>\n",
       "      <td>27</td>\n",
       "      <td>21100.0</td>\n",
       "      <td>1</td>\n",
       "      <td>0</td>\n",
       "      <td>100.029996</td>\n",
       "    </tr>\n",
       "    <tr>\n",
       "      <th>3740</th>\n",
       "      <td>1</td>\n",
       "      <td>35</td>\n",
       "      <td>21100.0</td>\n",
       "      <td>2</td>\n",
       "      <td>0</td>\n",
       "      <td>100.204790</td>\n",
       "    </tr>\n",
       "    <tr>\n",
       "      <th>1745</th>\n",
       "      <td>1</td>\n",
       "      <td>38</td>\n",
       "      <td>20900.0</td>\n",
       "      <td>2</td>\n",
       "      <td>0</td>\n",
       "      <td>100.429079</td>\n",
       "    </tr>\n",
       "    <tr>\n",
       "      <th>3931</th>\n",
       "      <td>0</td>\n",
       "      <td>39</td>\n",
       "      <td>20900.0</td>\n",
       "      <td>1</td>\n",
       "      <td>0</td>\n",
       "      <td>100.503731</td>\n",
       "    </tr>\n",
       "    <tr>\n",
       "      <th>2733</th>\n",
       "      <td>0</td>\n",
       "      <td>40</td>\n",
       "      <td>21100.0</td>\n",
       "      <td>0</td>\n",
       "      <td>0</td>\n",
       "      <td>100.603181</td>\n",
       "    </tr>\n",
       "  </tbody>\n",
       "</table>\n",
       "</div>"
      ],
      "text/plain": [
       "      gender  age   income  family_members  insurance_benefits    distance\n",
       "4407       1   31  21000.0               1                   0    2.449490\n",
       "1717       1   28  21100.0               0                   0  100.010000\n",
       "4656       0   28  21100.0               2                   0  100.024997\n",
       "2693       1   27  21100.0               1                   0  100.029996\n",
       "3740       1   35  21100.0               2                   0  100.204790\n",
       "1745       1   38  20900.0               2                   0  100.429079\n",
       "3931       0   39  20900.0               1                   0  100.503731\n",
       "2733       0   40  21100.0               0                   0  100.603181"
      ]
     },
     "execution_count": 34,
     "metadata": {},
     "output_type": "execute_result"
    }
   ],
   "source": [
    "#print records that are retrieved when using the original dataset, but not with the scaled one\n",
    "top_ten_euclidean_homemade[top_ten_euclidean_homemade.index.isin(list(top_ten_euclidean_scaled.index))==False]"
   ]
  },
  {
   "cell_type": "code",
   "execution_count": 35,
   "metadata": {},
   "outputs": [
    {
     "data": {
      "text/html": [
       "<div>\n",
       "<style scoped>\n",
       "    .dataframe tbody tr th:only-of-type {\n",
       "        vertical-align: middle;\n",
       "    }\n",
       "\n",
       "    .dataframe tbody tr th {\n",
       "        vertical-align: top;\n",
       "    }\n",
       "\n",
       "    .dataframe thead th {\n",
       "        text-align: right;\n",
       "    }\n",
       "</style>\n",
       "<table border=\"1\" class=\"dataframe\">\n",
       "  <thead>\n",
       "    <tr style=\"text-align: right;\">\n",
       "      <th></th>\n",
       "      <th>gender</th>\n",
       "      <th>age</th>\n",
       "      <th>income</th>\n",
       "      <th>family_members</th>\n",
       "      <th>insurance_benefits</th>\n",
       "    </tr>\n",
       "  </thead>\n",
       "  <tbody>\n",
       "    <tr>\n",
       "      <th>224</th>\n",
       "      <td>0</td>\n",
       "      <td>29</td>\n",
       "      <td>21900.0</td>\n",
       "      <td>0</td>\n",
       "      <td>0</td>\n",
       "    </tr>\n",
       "    <tr>\n",
       "      <th>507</th>\n",
       "      <td>0</td>\n",
       "      <td>29</td>\n",
       "      <td>20200.0</td>\n",
       "      <td>0</td>\n",
       "      <td>0</td>\n",
       "    </tr>\n",
       "    <tr>\n",
       "      <th>645</th>\n",
       "      <td>0</td>\n",
       "      <td>30</td>\n",
       "      <td>22900.0</td>\n",
       "      <td>0</td>\n",
       "      <td>0</td>\n",
       "    </tr>\n",
       "    <tr>\n",
       "      <th>2036</th>\n",
       "      <td>0</td>\n",
       "      <td>32</td>\n",
       "      <td>21800.0</td>\n",
       "      <td>0</td>\n",
       "      <td>0</td>\n",
       "    </tr>\n",
       "    <tr>\n",
       "      <th>2778</th>\n",
       "      <td>0</td>\n",
       "      <td>27</td>\n",
       "      <td>18600.0</td>\n",
       "      <td>0</td>\n",
       "      <td>0</td>\n",
       "    </tr>\n",
       "    <tr>\n",
       "      <th>3083</th>\n",
       "      <td>0</td>\n",
       "      <td>29</td>\n",
       "      <td>24400.0</td>\n",
       "      <td>0</td>\n",
       "      <td>0</td>\n",
       "    </tr>\n",
       "    <tr>\n",
       "      <th>4079</th>\n",
       "      <td>0</td>\n",
       "      <td>29</td>\n",
       "      <td>25200.0</td>\n",
       "      <td>0</td>\n",
       "      <td>0</td>\n",
       "    </tr>\n",
       "    <tr>\n",
       "      <th>4755</th>\n",
       "      <td>0</td>\n",
       "      <td>32</td>\n",
       "      <td>20500.0</td>\n",
       "      <td>0</td>\n",
       "      <td>0</td>\n",
       "    </tr>\n",
       "  </tbody>\n",
       "</table>\n",
       "</div>"
      ],
      "text/plain": [
       "      gender  age   income  family_members  insurance_benefits\n",
       "224        0   29  21900.0               0                   0\n",
       "507        0   29  20200.0               0                   0\n",
       "645        0   30  22900.0               0                   0\n",
       "2036       0   32  21800.0               0                   0\n",
       "2778       0   27  18600.0               0                   0\n",
       "3083       0   29  24400.0               0                   0\n",
       "4079       0   29  25200.0               0                   0\n",
       "4755       0   32  20500.0               0                   0"
      ]
     },
     "execution_count": 35,
     "metadata": {},
     "output_type": "execute_result"
    }
   ],
   "source": [
    "#print records that are retrieved when using the scaled dataset, but not with the original one\n",
    "df[(df.index.isin(list(top_ten_euclidean_homemade.index))==False) & (df.index.isin(list(top_ten_euclidean_scaled.index)))]"
   ]
  },
  {
   "cell_type": "code",
   "execution_count": 36,
   "metadata": {},
   "outputs": [
    {
     "data": {
      "text/html": [
       "<div>\n",
       "<style scoped>\n",
       "    .dataframe tbody tr th:only-of-type {\n",
       "        vertical-align: middle;\n",
       "    }\n",
       "\n",
       "    .dataframe tbody tr th {\n",
       "        vertical-align: top;\n",
       "    }\n",
       "\n",
       "    .dataframe thead th {\n",
       "        text-align: right;\n",
       "    }\n",
       "</style>\n",
       "<table border=\"1\" class=\"dataframe\">\n",
       "  <thead>\n",
       "    <tr style=\"text-align: right;\">\n",
       "      <th></th>\n",
       "      <th>gender</th>\n",
       "      <th>age</th>\n",
       "      <th>income</th>\n",
       "      <th>family_members</th>\n",
       "      <th>insurance_benefits</th>\n",
       "      <th>distance</th>\n",
       "    </tr>\n",
       "  </thead>\n",
       "  <tbody>\n",
       "    <tr>\n",
       "      <th>4407</th>\n",
       "      <td>1</td>\n",
       "      <td>31</td>\n",
       "      <td>21000.0</td>\n",
       "      <td>1</td>\n",
       "      <td>0</td>\n",
       "      <td>4.0</td>\n",
       "    </tr>\n",
       "    <tr>\n",
       "      <th>1717</th>\n",
       "      <td>1</td>\n",
       "      <td>28</td>\n",
       "      <td>21100.0</td>\n",
       "      <td>0</td>\n",
       "      <td>0</td>\n",
       "      <td>102.0</td>\n",
       "    </tr>\n",
       "    <tr>\n",
       "      <th>4656</th>\n",
       "      <td>0</td>\n",
       "      <td>28</td>\n",
       "      <td>21100.0</td>\n",
       "      <td>2</td>\n",
       "      <td>0</td>\n",
       "      <td>103.0</td>\n",
       "    </tr>\n",
       "    <tr>\n",
       "      <th>2693</th>\n",
       "      <td>1</td>\n",
       "      <td>27</td>\n",
       "      <td>21100.0</td>\n",
       "      <td>1</td>\n",
       "      <td>0</td>\n",
       "      <td>104.0</td>\n",
       "    </tr>\n",
       "    <tr>\n",
       "      <th>3740</th>\n",
       "      <td>1</td>\n",
       "      <td>35</td>\n",
       "      <td>21100.0</td>\n",
       "      <td>2</td>\n",
       "      <td>0</td>\n",
       "      <td>109.0</td>\n",
       "    </tr>\n",
       "    <tr>\n",
       "      <th>3931</th>\n",
       "      <td>0</td>\n",
       "      <td>39</td>\n",
       "      <td>20900.0</td>\n",
       "      <td>1</td>\n",
       "      <td>0</td>\n",
       "      <td>111.0</td>\n",
       "    </tr>\n",
       "    <tr>\n",
       "      <th>2733</th>\n",
       "      <td>0</td>\n",
       "      <td>40</td>\n",
       "      <td>21100.0</td>\n",
       "      <td>0</td>\n",
       "      <td>0</td>\n",
       "      <td>111.0</td>\n",
       "    </tr>\n",
       "    <tr>\n",
       "      <th>1745</th>\n",
       "      <td>1</td>\n",
       "      <td>38</td>\n",
       "      <td>20900.0</td>\n",
       "      <td>2</td>\n",
       "      <td>0</td>\n",
       "      <td>112.0</td>\n",
       "    </tr>\n",
       "  </tbody>\n",
       "</table>\n",
       "</div>"
      ],
      "text/plain": [
       "      gender  age   income  family_members  insurance_benefits  distance\n",
       "4407       1   31  21000.0               1                   0       4.0\n",
       "1717       1   28  21100.0               0                   0     102.0\n",
       "4656       0   28  21100.0               2                   0     103.0\n",
       "2693       1   27  21100.0               1                   0     104.0\n",
       "3740       1   35  21100.0               2                   0     109.0\n",
       "3931       0   39  20900.0               1                   0     111.0\n",
       "2733       0   40  21100.0               0                   0     111.0\n",
       "1745       1   38  20900.0               2                   0     112.0"
      ]
     },
     "execution_count": 36,
     "metadata": {},
     "output_type": "execute_result"
    }
   ],
   "source": [
    "#print records that are retrieved when using the original dataset, but not with the scaled one\n",
    "top_ten_manhattan_homemade[top_ten_manhattan_homemade.index.isin(list(top_ten_manhattan_scaled.index))==False]"
   ]
  },
  {
   "cell_type": "code",
   "execution_count": 37,
   "metadata": {},
   "outputs": [
    {
     "data": {
      "text/html": [
       "<div>\n",
       "<style scoped>\n",
       "    .dataframe tbody tr th:only-of-type {\n",
       "        vertical-align: middle;\n",
       "    }\n",
       "\n",
       "    .dataframe tbody tr th {\n",
       "        vertical-align: top;\n",
       "    }\n",
       "\n",
       "    .dataframe thead th {\n",
       "        text-align: right;\n",
       "    }\n",
       "</style>\n",
       "<table border=\"1\" class=\"dataframe\">\n",
       "  <thead>\n",
       "    <tr style=\"text-align: right;\">\n",
       "      <th></th>\n",
       "      <th>gender</th>\n",
       "      <th>age</th>\n",
       "      <th>income</th>\n",
       "      <th>family_members</th>\n",
       "      <th>insurance_benefits</th>\n",
       "    </tr>\n",
       "  </thead>\n",
       "  <tbody>\n",
       "    <tr>\n",
       "      <th>224</th>\n",
       "      <td>0</td>\n",
       "      <td>29</td>\n",
       "      <td>21900.0</td>\n",
       "      <td>0</td>\n",
       "      <td>0</td>\n",
       "    </tr>\n",
       "    <tr>\n",
       "      <th>507</th>\n",
       "      <td>0</td>\n",
       "      <td>29</td>\n",
       "      <td>20200.0</td>\n",
       "      <td>0</td>\n",
       "      <td>0</td>\n",
       "    </tr>\n",
       "    <tr>\n",
       "      <th>645</th>\n",
       "      <td>0</td>\n",
       "      <td>30</td>\n",
       "      <td>22900.0</td>\n",
       "      <td>0</td>\n",
       "      <td>0</td>\n",
       "    </tr>\n",
       "    <tr>\n",
       "      <th>2036</th>\n",
       "      <td>0</td>\n",
       "      <td>32</td>\n",
       "      <td>21800.0</td>\n",
       "      <td>0</td>\n",
       "      <td>0</td>\n",
       "    </tr>\n",
       "    <tr>\n",
       "      <th>2778</th>\n",
       "      <td>0</td>\n",
       "      <td>27</td>\n",
       "      <td>18600.0</td>\n",
       "      <td>0</td>\n",
       "      <td>0</td>\n",
       "    </tr>\n",
       "    <tr>\n",
       "      <th>3083</th>\n",
       "      <td>0</td>\n",
       "      <td>29</td>\n",
       "      <td>24400.0</td>\n",
       "      <td>0</td>\n",
       "      <td>0</td>\n",
       "    </tr>\n",
       "    <tr>\n",
       "      <th>4079</th>\n",
       "      <td>0</td>\n",
       "      <td>29</td>\n",
       "      <td>25200.0</td>\n",
       "      <td>0</td>\n",
       "      <td>0</td>\n",
       "    </tr>\n",
       "    <tr>\n",
       "      <th>4755</th>\n",
       "      <td>0</td>\n",
       "      <td>32</td>\n",
       "      <td>20500.0</td>\n",
       "      <td>0</td>\n",
       "      <td>0</td>\n",
       "    </tr>\n",
       "  </tbody>\n",
       "</table>\n",
       "</div>"
      ],
      "text/plain": [
       "      gender  age   income  family_members  insurance_benefits\n",
       "224        0   29  21900.0               0                   0\n",
       "507        0   29  20200.0               0                   0\n",
       "645        0   30  22900.0               0                   0\n",
       "2036       0   32  21800.0               0                   0\n",
       "2778       0   27  18600.0               0                   0\n",
       "3083       0   29  24400.0               0                   0\n",
       "4079       0   29  25200.0               0                   0\n",
       "4755       0   32  20500.0               0                   0"
      ]
     },
     "execution_count": 37,
     "metadata": {},
     "output_type": "execute_result"
    }
   ],
   "source": [
    "#print records that are retrieved when using the scaled dataset, but not with the original one\n",
    "df[(df.index.isin(list(top_ten_manhattan_homemade.index))==False) & (df.index.isin(list(top_ten_manhattan_scaled.index)))]"
   ]
  },
  {
   "cell_type": "code",
   "execution_count": 38,
   "metadata": {},
   "outputs": [
    {
     "data": {
      "text/html": [
       "<div>\n",
       "<style scoped>\n",
       "    .dataframe tbody tr th:only-of-type {\n",
       "        vertical-align: middle;\n",
       "    }\n",
       "\n",
       "    .dataframe tbody tr th {\n",
       "        vertical-align: top;\n",
       "    }\n",
       "\n",
       "    .dataframe thead th {\n",
       "        text-align: right;\n",
       "    }\n",
       "</style>\n",
       "<table border=\"1\" class=\"dataframe\">\n",
       "  <thead>\n",
       "    <tr style=\"text-align: right;\">\n",
       "      <th></th>\n",
       "      <th>gender</th>\n",
       "      <th>age</th>\n",
       "      <th>income</th>\n",
       "      <th>family_members</th>\n",
       "      <th>insurance_benefits</th>\n",
       "    </tr>\n",
       "  </thead>\n",
       "  <tbody>\n",
       "    <tr>\n",
       "      <th>count</th>\n",
       "      <td>4847.000000</td>\n",
       "      <td>4847.000000</td>\n",
       "      <td>4847.000000</td>\n",
       "      <td>4847.000000</td>\n",
       "      <td>4847.000000</td>\n",
       "    </tr>\n",
       "    <tr>\n",
       "      <th>mean</th>\n",
       "      <td>0.498453</td>\n",
       "      <td>31.023932</td>\n",
       "      <td>39895.811842</td>\n",
       "      <td>1.203425</td>\n",
       "      <td>0.152259</td>\n",
       "    </tr>\n",
       "    <tr>\n",
       "      <th>std</th>\n",
       "      <td>0.500049</td>\n",
       "      <td>8.487995</td>\n",
       "      <td>9972.953985</td>\n",
       "      <td>1.098664</td>\n",
       "      <td>0.468934</td>\n",
       "    </tr>\n",
       "    <tr>\n",
       "      <th>min</th>\n",
       "      <td>0.000000</td>\n",
       "      <td>18.000000</td>\n",
       "      <td>5300.000000</td>\n",
       "      <td>0.000000</td>\n",
       "      <td>0.000000</td>\n",
       "    </tr>\n",
       "    <tr>\n",
       "      <th>25%</th>\n",
       "      <td>0.000000</td>\n",
       "      <td>24.000000</td>\n",
       "      <td>33200.000000</td>\n",
       "      <td>0.000000</td>\n",
       "      <td>0.000000</td>\n",
       "    </tr>\n",
       "    <tr>\n",
       "      <th>50%</th>\n",
       "      <td>0.000000</td>\n",
       "      <td>30.000000</td>\n",
       "      <td>40200.000000</td>\n",
       "      <td>1.000000</td>\n",
       "      <td>0.000000</td>\n",
       "    </tr>\n",
       "    <tr>\n",
       "      <th>75%</th>\n",
       "      <td>1.000000</td>\n",
       "      <td>37.000000</td>\n",
       "      <td>46600.000000</td>\n",
       "      <td>2.000000</td>\n",
       "      <td>0.000000</td>\n",
       "    </tr>\n",
       "    <tr>\n",
       "      <th>max</th>\n",
       "      <td>1.000000</td>\n",
       "      <td>65.000000</td>\n",
       "      <td>79000.000000</td>\n",
       "      <td>6.000000</td>\n",
       "      <td>5.000000</td>\n",
       "    </tr>\n",
       "  </tbody>\n",
       "</table>\n",
       "</div>"
      ],
      "text/plain": [
       "            gender          age        income  family_members  \\\n",
       "count  4847.000000  4847.000000   4847.000000     4847.000000   \n",
       "mean      0.498453    31.023932  39895.811842        1.203425   \n",
       "std       0.500049     8.487995   9972.953985        1.098664   \n",
       "min       0.000000    18.000000   5300.000000        0.000000   \n",
       "25%       0.000000    24.000000  33200.000000        0.000000   \n",
       "50%       0.000000    30.000000  40200.000000        1.000000   \n",
       "75%       1.000000    37.000000  46600.000000        2.000000   \n",
       "max       1.000000    65.000000  79000.000000        6.000000   \n",
       "\n",
       "       insurance_benefits  \n",
       "count         4847.000000  \n",
       "mean             0.152259  \n",
       "std              0.468934  \n",
       "min              0.000000  \n",
       "25%              0.000000  \n",
       "50%              0.000000  \n",
       "75%              0.000000  \n",
       "max              5.000000  "
      ]
     },
     "execution_count": 38,
     "metadata": {},
     "output_type": "execute_result"
    }
   ],
   "source": [
    "df.describe()"
   ]
  },
  {
   "cell_type": "markdown",
   "metadata": {},
   "source": [
    "Clearly, not scaling the data hits the results retrieved by the kNN Algorithm. For both metrics, euclidean and manhattan distance, we got 8 differences out of 10 records (note that one of the 2 matches is the row whose closest neighbors we're looking for).\n",
    "\n",
    "This is because when the data is not scaled, differences in income make the total difference of the row much higher than differences in gender, age or family members (as the values range from 5,300 to 79,000). \n",
    "\n",
    "When printing out differences, we can see that at the time of using the scaled dataframe, many of the records detected as close neighbors have a larger difference in the income value [Income = 18,600 to 25,200]  (as compared to row 2) than the ones retrieved when using the original dataframe [Income = 20,900 to 21,100] (non-scaled).\n",
    "\n",
    "Definetly, using a scaled dataframe is prooved to be more effective, as it allows for every feature to have the same weight at the time of making a decision."
   ]
  },
  {
   "cell_type": "markdown",
   "metadata": {},
   "source": [
    "**How similar are the results using the Manhattan distance metric (regardless of the scaling)?** \n"
   ]
  },
  {
   "cell_type": "code",
   "execution_count": 39,
   "metadata": {},
   "outputs": [
    {
     "data": {
      "text/html": [
       "<div>\n",
       "<style scoped>\n",
       "    .dataframe tbody tr th:only-of-type {\n",
       "        vertical-align: middle;\n",
       "    }\n",
       "\n",
       "    .dataframe tbody tr th {\n",
       "        vertical-align: top;\n",
       "    }\n",
       "\n",
       "    .dataframe thead th {\n",
       "        text-align: right;\n",
       "    }\n",
       "</style>\n",
       "<table border=\"1\" class=\"dataframe\">\n",
       "  <thead>\n",
       "    <tr style=\"text-align: right;\">\n",
       "      <th></th>\n",
       "      <th>gender</th>\n",
       "      <th>age</th>\n",
       "      <th>income</th>\n",
       "      <th>family_members</th>\n",
       "      <th>insurance_benefits</th>\n",
       "    </tr>\n",
       "  </thead>\n",
       "  <tbody>\n",
       "  </tbody>\n",
       "</table>\n",
       "</div>"
      ],
      "text/plain": [
       "Empty DataFrame\n",
       "Columns: [gender, age, income, family_members, insurance_benefits]\n",
       "Index: []"
      ]
     },
     "execution_count": 39,
     "metadata": {},
     "output_type": "execute_result"
    }
   ],
   "source": [
    "#print records that are retrieved when using manhattan distance (non-scaled dataset), but not with euclidean\n",
    "df[(df.index.isin(list(top_ten_euclidean_homemade.index))==False) & (df.index.isin(list(top_ten_manhattan_homemade.index)))]"
   ]
  },
  {
   "cell_type": "code",
   "execution_count": 40,
   "metadata": {},
   "outputs": [
    {
     "data": {
      "text/html": [
       "<div>\n",
       "<style scoped>\n",
       "    .dataframe tbody tr th:only-of-type {\n",
       "        vertical-align: middle;\n",
       "    }\n",
       "\n",
       "    .dataframe tbody tr th {\n",
       "        vertical-align: top;\n",
       "    }\n",
       "\n",
       "    .dataframe thead th {\n",
       "        text-align: right;\n",
       "    }\n",
       "</style>\n",
       "<table border=\"1\" class=\"dataframe\">\n",
       "  <thead>\n",
       "    <tr style=\"text-align: right;\">\n",
       "      <th></th>\n",
       "      <th>gender</th>\n",
       "      <th>age</th>\n",
       "      <th>income</th>\n",
       "      <th>family_members</th>\n",
       "      <th>insurance_benefits</th>\n",
       "    </tr>\n",
       "  </thead>\n",
       "  <tbody>\n",
       "  </tbody>\n",
       "</table>\n",
       "</div>"
      ],
      "text/plain": [
       "Empty DataFrame\n",
       "Columns: [gender, age, income, family_members, insurance_benefits]\n",
       "Index: []"
      ]
     },
     "execution_count": 40,
     "metadata": {},
     "output_type": "execute_result"
    }
   ],
   "source": [
    "#print records that are retrieved when using manhattan distance (scaled dataset), but not with euclidean\n",
    "df[(df.index.isin(list(top_ten_euclidean_scaled.index))==False) & (df.index.isin(list(top_ten_manhattan_scaled.index)))]"
   ]
  },
  {
   "cell_type": "markdown",
   "metadata": {},
   "source": [
    "Even though there are some differences in the position at which the last rows are returned (meaning that if we printed out the top 8 closest neighbors instead of 10, we'd have some differences), the 10 closest records returned are the same for both metrics."
   ]
  },
  {
   "cell_type": "markdown",
   "metadata": {},
   "source": [
    "# Task 2. Is Customer Likely to Receive Insurance Benefit?"
   ]
  },
  {
   "cell_type": "markdown",
   "metadata": {},
   "source": [
    "# Task 2.a) F1 score assessment with kNN from 1 to 10\n",
    "\n",
    "First step will consist of building a KNN-based classifier and measure its quality with the F1 metric for k=1..10 for both the original data and the scaled one. \n",
    "\n",
    "The point is to see how k may influence the evaluation metric, and whether scaling the data makes any difference. \n",
    "\n",
    "We will build a custom model, compare its results to the ones issued by a ready implemention of the kNN classification algorithm from scikit-learn (check [the link](https://scikit-learn.org/stable/modules/generated/sklearn.neighbors.KNeighborsClassifier.html)), and if it proves to work correctly, we'll assess the f1 score using the self-built model.\n",
    "\n",
    "We will split the whole data in the 70:30 proportion for the training/testing parts."
   ]
  },
  {
   "cell_type": "markdown",
   "metadata": {},
   "source": [
    "In terms of machine learning we can look at this like a binary classification task: did the customer receive any insurance benefit or not?\n",
    "We'll add a column to the dataset set to 1 (True) if insurance benefits is > 0 or to 0 (False) otherwise."
   ]
  },
  {
   "cell_type": "code",
   "execution_count": 41,
   "metadata": {},
   "outputs": [
    {
     "data": {
      "text/plain": [
       "array([1], dtype=int64)"
      ]
     },
     "execution_count": 41,
     "metadata": {},
     "output_type": "execute_result"
    }
   ],
   "source": [
    "# calculate the target (1 if the client received 1+ insurance benefits or 0 otherwise)\n",
    "df['insurance_benefits_received'] = df['insurance_benefits'].apply(lambda x: int(x>0))\n",
    "\n",
    "#check that every customer with 1+ insurance benefits received was assigned a 1\n",
    "df[df['insurance_benefits']>0]['insurance_benefits_received'].unique()"
   ]
  },
  {
   "cell_type": "code",
   "execution_count": 42,
   "metadata": {},
   "outputs": [
    {
     "data": {
      "text/plain": [
       "0    4284\n",
       "1     563\n",
       "Name: insurance_benefits_received, dtype: int64"
      ]
     },
     "execution_count": 42,
     "metadata": {},
     "output_type": "execute_result"
    }
   ],
   "source": [
    "# check for the class imbalance with value_counts()\n",
    "df['insurance_benefits_received'].value_counts()"
   ]
  },
  {
   "cell_type": "markdown",
   "metadata": {},
   "source": [
    "We can see that users who ever received an insurance benefit represent a low percentage of the total samples. Next we'll create a Custom KNN based classifier to predict whether a customer is likely to receive any insurance benefit, based on whether it's closest neighbors in the dataset did so or not (the result that gets the majority of votes among the nearest neighbors target will be applied).Finally, ee'll evaluate it's performance through the f1 score before fixing class imbalance"
   ]
  },
  {
   "cell_type": "markdown",
   "metadata": {},
   "source": [
    "We'll split the dataset into train and test (70:30 proportion)"
   ]
  },
  {
   "cell_type": "code",
   "execution_count": 43,
   "metadata": {},
   "outputs": [],
   "source": [
    "#split into train and test features and target\n",
    "X= df[feature_names]\n",
    "Y= df['insurance_benefits_received'] \n",
    "\n",
    "X_train, X_test, Y_train, Y_test = train_test_split(X, Y, test_size=0.30, random_state=12345)\n",
    "\n"
   ]
  },
  {
   "cell_type": "code",
   "execution_count": 44,
   "metadata": {},
   "outputs": [],
   "source": [
    "#fit train df (excluding target) to the scaler\n",
    "transformer_mas = sklearn.preprocessing.MaxAbsScaler().fit(X_train)\n",
    "\n",
    "#scale the features and store in separate array\n",
    "X_train_scaled_array = transformer_mas.transform(X_train)\n",
    "X_test_scaled_array = transformer_mas.transform(X_test)"
   ]
  },
  {
   "cell_type": "code",
   "execution_count": 45,
   "metadata": {},
   "outputs": [],
   "source": [
    "#store arrays in dataframes using same index as target dfs\n",
    "X_train_scaled= pd.DataFrame(X_train_scaled_array, columns=feature_names, index=Y_train.index)\n",
    "X_test_scaled=pd.DataFrame(X_test_scaled_array, columns=feature_names,index=Y_test.index)"
   ]
  },
  {
   "cell_type": "markdown",
   "metadata": {},
   "source": [
    "Now we'll define a class with a method for making predictions based on customers with similar characteristics. We will use the euclidean distance for picking the closest neighbors."
   ]
  },
  {
   "cell_type": "code",
   "execution_count": 46,
   "metadata": {},
   "outputs": [],
   "source": [
    "#Create a custom kNN classifier\n",
    "class KnnClassifier():\n",
    "    \n",
    "    def __init__(self,k):\n",
    "    \n",
    "        self.k = k\n",
    "\n",
    "    def fit(self, features_train, target_train):\n",
    "        self.features_train = features_train.reset_index(drop=True).values\n",
    "        self.target_train = target_train.reset_index(drop=True)\n",
    "\n",
    "    def predict(self, features_test):\n",
    "        features_test=features_test.reset_index(drop=True)\n",
    "        values = []\n",
    "        \n",
    "        for i in range(len(features_test)):\n",
    "            features_test_vector = features_test.iloc[i].values\n",
    "            distances= np.sum((self.features_train-features_test_vector)**2, axis=1)**0.5\n",
    "            \n",
    "            closest_indexes= distances.argsort()[:self.k]\n",
    "            #get the corresponding target for such indexes\n",
    "            target_nn= self.target_train.loc[closest_indexes]\n",
    "            #return the prediction for that observation as the one that got the majority of votes\n",
    "\n",
    "            pred= target_nn.mode()[0]\n",
    "            values.append(pred)\n",
    "        return pd.Series(values)\n",
    "    "
   ]
  },
  {
   "cell_type": "code",
   "execution_count": 47,
   "metadata": {},
   "outputs": [
    {
     "data": {
      "text/plain": [
       "0    1408\n",
       "1      47\n",
       "dtype: int64"
      ]
     },
     "execution_count": 47,
     "metadata": {},
     "output_type": "execute_result"
    }
   ],
   "source": [
    "#Make sure the predictions match the ones made with a ready implementation model\n",
    "model = KnnClassifier(k=2)\n",
    "model.fit(X_train, Y_train)\n",
    "pred_ok=model.predict(X_test)\n",
    "pred_ok.value_counts()"
   ]
  },
  {
   "cell_type": "code",
   "execution_count": 48,
   "metadata": {},
   "outputs": [
    {
     "data": {
      "text/plain": [
       "0    1407\n",
       "1      48\n",
       "dtype: int64"
      ]
     },
     "execution_count": 48,
     "metadata": {},
     "output_type": "execute_result"
    }
   ],
   "source": [
    "#Compare results to the ones of the pre-defined kNN classifier\n",
    "pre_defined_model=  sklearn.neighbors.KNeighborsClassifier(n_neighbors=2, metric='euclidean')\n",
    "pre_defined_model.fit(X_train, Y_train)\n",
    "Y_pred= pd.Series(pre_defined_model.predict(X_test))\n",
    "Y_pred.value_counts()"
   ]
  },
  {
   "cell_type": "markdown",
   "metadata": {},
   "source": [
    "Now that we ensured the custom model works correctly, we'll define a function to test its performance throughout the f1 score achieved using k neighbors from 1 to 10 to make predictions"
   ]
  },
  {
   "cell_type": "code",
   "execution_count": 49,
   "metadata": {},
   "outputs": [],
   "source": [
    "#function to plot f1 score achieved by the model when making predictions based on kNN from 1 to 10\n",
    "def plot_f1_score(X_train, X_test, Y_train, Y_test):\n",
    "    ''' \n",
    "    Takes training and test features and target and\n",
    "    plots f1 score achieved by a kNN Classifier model\n",
    "    making predictions based on the k Nearest neighbors(from 1 to 10)'''\n",
    "    \n",
    "    #empty list to store scored achieved with each k \n",
    "    f1_scores= []\n",
    "    \n",
    "    #Loop through k from 1 to 10\n",
    "    for k in range(1,11):\n",
    "        #define model\n",
    "        model= KnnClassifier(k=k)\n",
    "        \n",
    "        #fit train set\n",
    "        model.fit(X_train, Y_train)\n",
    "        \n",
    "        #make predictions\n",
    "        Y_pred=model.predict(X_test)\n",
    "\n",
    "        #get f1 score for the model with k neighbors\n",
    "        f1_score = sklearn.metrics.f1_score(Y_pred, Y_test)\n",
    "        \n",
    "        #append to list\n",
    "        f1_scores.append(f1_score)\n",
    "    \n",
    "    #define plot size\n",
    "    plt.figure(figsize=(10,6))\n",
    "    \n",
    "    #plot f1 scores\n",
    "    plt.plot(range(1,11),f1_scores,color='blue', linestyle='dashed', \n",
    "             marker='o',markerfacecolor='red', markersize=10)\n",
    "    #set title\n",
    "    plt.title('F1 score vs. K Value')\n",
    "    \n",
    "    #set x label\n",
    "    plt.xlabel('K')\n",
    "    \n",
    "    #set y label\n",
    "    plt.ylabel('F1 score')\n",
    "    \n",
    "    #print best result and k used\n",
    "    print(\"Max F1 score:\",round(max(f1_scores),2),\"at K =\",f1_scores.index(max(f1_scores))+1)"
   ]
  },
  {
   "cell_type": "code",
   "execution_count": 50,
   "metadata": {},
   "outputs": [
    {
     "name": "stdout",
     "output_type": "stream",
     "text": [
      "Max F1 score: 0.68 at K = 1\n"
     ]
    },
    {
     "data": {
      "image/png": "[encoded data removed]",
      "text/plain": [
       "<Figure size 720x432 with 1 Axes>"
      ]
     },
     "metadata": {
      "needs_background": "light"
     },
     "output_type": "display_data"
    }
   ],
   "source": [
    "#Plot f1 score achieved with dif kNN from 1 to 10, using non-scaled, non-upsampled df\n",
    "plot_f1_score(X_train, X_test, Y_train, Y_test)"
   ]
  },
  {
   "cell_type": "markdown",
   "metadata": {},
   "source": [
    "We can identify a clear pattern: the less nearest neighbors we use to predict the target, the higher the score. Since class imbalance can be biasing the results (a model that always predicts \"0\" as a result would have a great performance regardless of the input features), we will fix this issue and re-asses f1 score."
   ]
  },
  {
   "cell_type": "markdown",
   "metadata": {},
   "source": [
    "### Improve the model quality\n",
    "Now, we will fix the class imbalance using upsampling and re-assess the quality of the models using the F1 score:\n",
    "\n",
    "**Upsampling: repeating the samples with the rarest class result (received insurance=1)**\n",
    "\n",
    "Upsampling is performed in several steps:\n",
    "\n",
    "Split the training sample into negative and positive observations;\n",
    "\n",
    "Duplicate the positive observations several times;\n",
    "\n",
    "Create a new training sample based on the data obtained;\n",
    "\n",
    "Shuffle the data: identical questions following one another will not help the training.\n",
    "\n",
    "First we'll assess the model without scaling the data, and then using a scaled dataset"
   ]
  },
  {
   "cell_type": "code",
   "execution_count": 51,
   "metadata": {},
   "outputs": [],
   "source": [
    "#Define function to upsample\n",
    "\n",
    "def upsample(features, target, repeat):\n",
    "    features_zeros = features[target == 0]\n",
    "    features_ones = features[target == 1]\n",
    "    target_zeros = target[target == 0]\n",
    "    target_ones = target[target == 1]\n",
    "\n",
    "    features_upsampled = pd.concat([features_zeros] + [features_ones] * repeat)\n",
    "    target_upsampled = pd.concat([target_zeros] + [target_ones] * repeat)\n",
    "\n",
    "    features_upsampled, target_upsampled = shuffle(\n",
    "        features_upsampled, target_upsampled, random_state=12345\n",
    "    )\n",
    "\n",
    "    return features_upsampled, target_upsampled"
   ]
  },
  {
   "cell_type": "code",
   "execution_count": 52,
   "metadata": {},
   "outputs": [
    {
     "data": {
      "text/plain": [
       "0    0.883846\n",
       "1    0.116154\n",
       "Name: insurance_benefits_received, dtype: float64"
      ]
     },
     "execution_count": 52,
     "metadata": {},
     "output_type": "execute_result"
    }
   ],
   "source": [
    "#check percentage of each class in the df\n",
    "df['insurance_benefits_received'].value_counts()/len(df)"
   ]
  },
  {
   "cell_type": "code",
   "execution_count": 53,
   "metadata": {},
   "outputs": [],
   "source": [
    "\n",
    "#Upsample, increasing the repetiton of positive answers by 8 (note above that the ratio is 9:1)\n",
    "features_upsampled, target_upsampled = upsample(\n",
    "    X_train, Y_train, 8\n",
    ")\n"
   ]
  },
  {
   "cell_type": "code",
   "execution_count": 54,
   "metadata": {},
   "outputs": [
    {
     "data": {
      "text/plain": [
       "1    0.513237\n",
       "0    0.486763\n",
       "Name: insurance_benefits_received, dtype: float64"
      ]
     },
     "execution_count": 54,
     "metadata": {},
     "output_type": "execute_result"
    }
   ],
   "source": [
    "#check percentage of each class in the train df after upsampling\n",
    "target_upsampled.value_counts()/len(target_upsampled)"
   ]
  },
  {
   "cell_type": "code",
   "execution_count": 55,
   "metadata": {},
   "outputs": [
    {
     "name": "stdout",
     "output_type": "stream",
     "text": [
      "Max F1 score: 0.67 at K = 1\n"
     ]
    },
    {
     "data": {
      "image/png": "[encoded data removed]",
      "text/plain": [
       "<Figure size 720x432 with 1 Axes>"
      ]
     },
     "metadata": {
      "needs_background": "light"
     },
     "output_type": "display_data"
    }
   ],
   "source": [
    "#Plot f1 score achieved with dif kNN from 1 to 10, using non-scaled, upsampled df\n",
    "plot_f1_score(features_upsampled, X_test, target_upsampled , Y_test)"
   ]
  },
  {
   "cell_type": "markdown",
   "metadata": {},
   "source": [
    "Even though the f1 score seems to have improved for k>1, the highest score was the same as the one achieved using an imbalanced train set. Taking that into account, we'll try out the performance of the model using a scaled dataset."
   ]
  },
  {
   "cell_type": "markdown",
   "metadata": {},
   "source": [
    "### Scaled dataset\n",
    "\n",
    "Finally, we'll assess the performance of the model with the scaled df:\n",
    "\n",
    "a) Before upsampling.\n",
    "\n",
    "b) With upsampled data.\n"
   ]
  },
  {
   "cell_type": "code",
   "execution_count": 56,
   "metadata": {},
   "outputs": [
    {
     "name": "stdout",
     "output_type": "stream",
     "text": [
      "Max F1 score: 0.92 at K = 1\n"
     ]
    },
    {
     "data": {
      "image/png": "[encoded data removed]",
      "text/plain": [
       "<Figure size 720x432 with 1 Axes>"
      ]
     },
     "metadata": {
      "needs_background": "light"
     },
     "output_type": "display_data"
    }
   ],
   "source": [
    "#Plot f1 score achieved with dif kNN from 1 to 10, using scaled, non-upsampled df\n",
    "plot_f1_score(X_train_scaled,X_test_scaled, Y_train , Y_test)"
   ]
  },
  {
   "cell_type": "markdown",
   "metadata": {},
   "source": [
    "By looking at the F1 scores chart above, we can draw two conclusions:\n",
    "\n",
    "1) The model performs better with odd k values (note that as the target is binary, only when using odd k nearest neighbors we get more votes for one value).\n",
    "\n",
    "2) The highest f1 score achieved is greater than with the non-scaled df (0.68 vs 0.92).\n",
    "\n",
    "Now we'll upsample the scaled df to fix class imbalance and assess the results again.\n"
   ]
  },
  {
   "cell_type": "code",
   "execution_count": 57,
   "metadata": {},
   "outputs": [
    {
     "data": {
      "text/html": [
       "<div>\n",
       "<style scoped>\n",
       "    .dataframe tbody tr th:only-of-type {\n",
       "        vertical-align: middle;\n",
       "    }\n",
       "\n",
       "    .dataframe tbody tr th {\n",
       "        vertical-align: top;\n",
       "    }\n",
       "\n",
       "    .dataframe thead th {\n",
       "        text-align: right;\n",
       "    }\n",
       "</style>\n",
       "<table border=\"1\" class=\"dataframe\">\n",
       "  <thead>\n",
       "    <tr style=\"text-align: right;\">\n",
       "      <th></th>\n",
       "      <th>gender</th>\n",
       "      <th>age</th>\n",
       "      <th>income</th>\n",
       "      <th>family_members</th>\n",
       "    </tr>\n",
       "  </thead>\n",
       "  <tbody>\n",
       "    <tr>\n",
       "      <th>2365</th>\n",
       "      <td>1.0</td>\n",
       "      <td>0.338462</td>\n",
       "      <td>0.495989</td>\n",
       "      <td>0.166667</td>\n",
       "    </tr>\n",
       "    <tr>\n",
       "      <th>1627</th>\n",
       "      <td>0.0</td>\n",
       "      <td>0.707692</td>\n",
       "      <td>0.562834</td>\n",
       "      <td>0.333333</td>\n",
       "    </tr>\n",
       "    <tr>\n",
       "      <th>2618</th>\n",
       "      <td>0.0</td>\n",
       "      <td>0.353846</td>\n",
       "      <td>0.556150</td>\n",
       "      <td>0.000000</td>\n",
       "    </tr>\n",
       "    <tr>\n",
       "      <th>4138</th>\n",
       "      <td>0.0</td>\n",
       "      <td>0.476923</td>\n",
       "      <td>0.625668</td>\n",
       "      <td>0.000000</td>\n",
       "    </tr>\n",
       "    <tr>\n",
       "      <th>4753</th>\n",
       "      <td>1.0</td>\n",
       "      <td>0.276923</td>\n",
       "      <td>0.438503</td>\n",
       "      <td>0.166667</td>\n",
       "    </tr>\n",
       "    <tr>\n",
       "      <th>...</th>\n",
       "      <td>...</td>\n",
       "      <td>...</td>\n",
       "      <td>...</td>\n",
       "      <td>...</td>\n",
       "    </tr>\n",
       "    <tr>\n",
       "      <th>3497</th>\n",
       "      <td>1.0</td>\n",
       "      <td>0.353846</td>\n",
       "      <td>0.377005</td>\n",
       "      <td>0.166667</td>\n",
       "    </tr>\n",
       "    <tr>\n",
       "      <th>3492</th>\n",
       "      <td>0.0</td>\n",
       "      <td>0.461538</td>\n",
       "      <td>0.450535</td>\n",
       "      <td>0.166667</td>\n",
       "    </tr>\n",
       "    <tr>\n",
       "      <th>2177</th>\n",
       "      <td>1.0</td>\n",
       "      <td>0.307692</td>\n",
       "      <td>0.386364</td>\n",
       "      <td>0.166667</td>\n",
       "    </tr>\n",
       "    <tr>\n",
       "      <th>3557</th>\n",
       "      <td>1.0</td>\n",
       "      <td>0.507692</td>\n",
       "      <td>0.518717</td>\n",
       "      <td>0.166667</td>\n",
       "    </tr>\n",
       "    <tr>\n",
       "      <th>4578</th>\n",
       "      <td>0.0</td>\n",
       "      <td>0.630769</td>\n",
       "      <td>0.632353</td>\n",
       "      <td>0.333333</td>\n",
       "    </tr>\n",
       "  </tbody>\n",
       "</table>\n",
       "<p>3392 rows × 4 columns</p>\n",
       "</div>"
      ],
      "text/plain": [
       "      gender       age    income  family_members\n",
       "2365     1.0  0.338462  0.495989        0.166667\n",
       "1627     0.0  0.707692  0.562834        0.333333\n",
       "2618     0.0  0.353846  0.556150        0.000000\n",
       "4138     0.0  0.476923  0.625668        0.000000\n",
       "4753     1.0  0.276923  0.438503        0.166667\n",
       "...      ...       ...       ...             ...\n",
       "3497     1.0  0.353846  0.377005        0.166667\n",
       "3492     0.0  0.461538  0.450535        0.166667\n",
       "2177     1.0  0.307692  0.386364        0.166667\n",
       "3557     1.0  0.507692  0.518717        0.166667\n",
       "4578     0.0  0.630769  0.632353        0.333333\n",
       "\n",
       "[3392 rows x 4 columns]"
      ]
     },
     "execution_count": 57,
     "metadata": {},
     "output_type": "execute_result"
    }
   ],
   "source": [
    "#print overview\n",
    "X_train_scaled"
   ]
  },
  {
   "cell_type": "code",
   "execution_count": 58,
   "metadata": {},
   "outputs": [],
   "source": [
    "\n",
    "#Upsample, increasing the repetiton of positive answers by 8 (note above that the ratio is 9:1)\n",
    "features_upsampled_scaled, target_upsampled_scaled = upsample(\n",
    "    X_train_scaled, Y_train, 8\n",
    ")\n"
   ]
  },
  {
   "cell_type": "code",
   "execution_count": 59,
   "metadata": {},
   "outputs": [
    {
     "name": "stdout",
     "output_type": "stream",
     "text": [
      "Max F1 score: 0.94 at K = 3\n"
     ]
    },
    {
     "data": {
      "image/png": "[encoded data removed]",
      "text/plain": [
       "<Figure size 720x432 with 1 Axes>"
      ]
     },
     "metadata": {
      "needs_background": "light"
     },
     "output_type": "display_data"
    }
   ],
   "source": [
    "#plot f1 score using the scaled upsampled df\n",
    "\n",
    "plot_f1_score(features_upsampled_scaled, X_test_scaled, target_upsampled_scaled, Y_test)"
   ]
  },
  {
   "cell_type": "markdown",
   "metadata": {},
   "source": [
    "Undoubtedly, the way to get the model to achieve the best performance is using a scaled, upsampled dataset, and making predictions based on the 3 or 4 nearest neighbors."
   ]
  },
  {
   "cell_type": "markdown",
   "metadata": {},
   "source": [
    "## Task 2.b) Evaluate if the kNN Classifier can do better than a dummy model\n",
    "\n",
    "With insurance_benefits being more than zero as the target, evaluate whether the kNN classification approach can do better than a dummy model.\n",
    "\n",
    "- Build the dummy model which is just random for this case. It should return \"1\" with some probability. Let's test the model with four probability values: 0, the probability of paying any insurance benefit, 0.5, 1.\n",
    "\n",
    "The probability of paying any insurance benefit can be defined as\n",
    "\n",
    "$$\n",
    "P\\{\\text{insurance benefit received}\\}=\\frac{\\text{number of clients received any insurance benefit}}{\\text{total number of clients}}.\n",
    "$$\n"
   ]
  },
  {
   "cell_type": "code",
   "execution_count": 60,
   "metadata": {},
   "outputs": [],
   "source": [
    "#Define function to get F1 score and confusion matrix from comparing target and predictions\n",
    "def eval_classifier(y_true, y_pred):\n",
    "    \n",
    "    ''' Takes ML predictions and real targets and returns \n",
    "    the f1 score and confusion matrix achieved '''\n",
    "    \n",
    "    f1_score = sklearn.metrics.f1_score(y_true, y_pred)\n",
    "    print(f'F1: {f1_score:.2f}')\n",
    "    \n",
    "    cm = sklearn.metrics.confusion_matrix(y_true, y_pred, normalize='all')\n",
    "    print('Confusion Matrix')\n",
    "    print(cm)"
   ]
  },
  {
   "cell_type": "code",
   "execution_count": 61,
   "metadata": {},
   "outputs": [],
   "source": [
    "# generating output of a random model\n",
    "\n",
    "    \n",
    "def rnd_model_predict(P, size, seed=42):\n",
    "    \n",
    "    ''' Gerenerates the output of the required size for a random model\n",
    "    with a P probability of returning a True value (binary classification task)'''\n",
    "\n",
    "    rng = np.random.default_rng(seed=seed)\n",
    "    return rng.binomial(n=1, p=P, size=size)"
   ]
  },
  {
   "cell_type": "code",
   "execution_count": 62,
   "metadata": {},
   "outputs": [
    {
     "name": "stdout",
     "output_type": "stream",
     "text": [
      "The probability: 0.00\n",
      "F1: 0.00\n",
      "Confusion Matrix\n",
      "[[0.88384568 0.        ]\n",
      " [0.11615432 0.        ]]\n",
      "\n",
      "The probability: 0.12\n",
      "F1: 0.13\n",
      "Confusion Matrix\n",
      "[[0.78502166 0.09882401]\n",
      " [0.1017124  0.01444192]]\n",
      "\n",
      "The probability: 0.50\n",
      "F1: 0.19\n",
      "Confusion Matrix\n",
      "[[0.44873117 0.4351145 ]\n",
      " [0.05921188 0.05694244]]\n",
      "\n",
      "The probability: 1.00\n",
      "F1: 0.21\n",
      "Confusion Matrix\n",
      "[[0.         0.88384568]\n",
      " [0.         0.11615432]]\n",
      "\n"
     ]
    }
   ],
   "source": [
    "#Print the f1 score and confusion matrix from the dummy model when Probability of receiving an insurance benefit is 0,\n",
    "#real % from the df, 0.50 and 1.\n",
    "\n",
    "#loop through 4 different probabilities of customers receiving an insurance benefit\n",
    "for P in [0, df['insurance_benefits_received'].sum() / len(df), 0.5, 1]:\n",
    "    \n",
    "    #Print f1 score and confusion matrix for the results achieved by each random model\n",
    "    \n",
    "    print(f'The probability: {P:.2f}')\n",
    "    y_pred_rnd = rnd_model_predict(P, len(df), seed=42)  \n",
    "        \n",
    "    eval_classifier(df['insurance_benefits_received'], y_pred_rnd)\n",
    "    \n",
    "    print()"
   ]
  },
  {
   "cell_type": "code",
   "execution_count": 63,
   "metadata": {},
   "outputs": [
    {
     "name": "stdout",
     "output_type": "stream",
     "text": [
      "F1: 0.16\n",
      "Confusion Matrix\n",
      "[[0.78350515 0.10103093]\n",
      " [0.09621993 0.01924399]]\n"
     ]
    }
   ],
   "source": [
    "#Track the performance of the dummy model (with a probability equal to the \n",
    "#real % of received_insurance=1 from the train set )\n",
    "\n",
    "y_pred_rnd = rnd_model_predict(Y_train.sum()/len(Y_train), len(Y_test), seed=42)  \n",
    "\n",
    "eval_classifier(Y_test, y_pred_rnd)"
   ]
  },
  {
   "cell_type": "code",
   "execution_count": 64,
   "metadata": {},
   "outputs": [
    {
     "name": "stdout",
     "output_type": "stream",
     "text": [
      "F1: 0.94\n",
      "Confusion Matrix\n",
      "[[0.8742268  0.01030928]\n",
      " [0.004811   0.11065292]]\n"
     ]
    }
   ],
   "source": [
    "#Now evaluate the performance of the best kNN Classifier built above\n",
    "\n",
    "#define model\n",
    "model= KnnClassifier(k=3)\n",
    "\n",
    "#fit train set\n",
    "model.fit(features_upsampled_scaled, target_upsampled_scaled)\n",
    "\n",
    "#make predictions\n",
    "Y_pred=model.predict(X_test_scaled)\n",
    "\n",
    "#print f1 score and confusion matrix \n",
    "\n",
    "eval_classifier(Y_test, Y_pred)"
   ]
  },
  {
   "cell_type": "markdown",
   "metadata": {},
   "source": [
    "Definetly the performance of the kNN classifier using 3 nearest neighbors, and the scaled upsampled dataset is much better than a dummy model making random predictions with the same probability of paying an insurance benefit as the one from the train target.\n",
    "\n",
    "Not only the true positives and true negatives are higher, also the false positives and negatives are lower."
   ]
  },
  {
   "cell_type": "markdown",
   "metadata": {},
   "source": [
    "# Task 3. Regression (with Linear Regression)"
   ]
  },
  {
   "cell_type": "markdown",
   "metadata": {},
   "source": [
    "With `insurance_benefits` as the target, we will evaluate what RMSE would be for a Linear Regression model."
   ]
  },
  {
   "cell_type": "markdown",
   "metadata": {},
   "source": [
    "We'll build out own implementation of Linear Regression. \n",
    "\n",
    "Then we'll check RMSE for both the original data and the scaled one and see if there're any difference in RMSE between these two cases.\n",
    "\n",
    "Let's denote\n",
    "- $X$ — feature matrix, each row is a case, each column is a feature, the first column consists of unities\n",
    "- $y$ — target (a vector)\n",
    "- $\\hat{y}$ — estimated tagret (a vector)\n",
    "- $w$ — weight vector\n",
    "\n",
    "The task of linear regression in the language of matrices can be formulated as\n",
    "\n",
    "$$\n",
    "y = Xw\n",
    "$$\n",
    "\n",
    "The training objective then is to find such $w$ that it would minimize the L2-distance (MSE) between $Xw$ and $y$:\n",
    "\n",
    "$$\n",
    "\\min_w d_2(Xw, y) \\quad \\text{or} \\quad \\min_w \\text{MSE}(Xw, y)\n",
    "$$\n",
    "\n",
    "It appears that there is analytical solution for the above:\n",
    "\n",
    "$$\n",
    "w = (X^T X)^{-1} X^T y\n",
    "$$\n",
    "\n",
    "The formula above can be used to find the weights $w$ and the latter can be used to calculate predicted values\n",
    "\n",
    "$$\n",
    "\\hat{y} = X_{val}w\n",
    "$$"
   ]
  },
  {
   "cell_type": "markdown",
   "metadata": {},
   "source": [
    "Split the whole data in the 70:30 proportion for the training/validation parts. Use the RMSE metric for the model evaluation."
   ]
  },
  {
   "cell_type": "code",
   "execution_count": 65,
   "metadata": {},
   "outputs": [],
   "source": [
    "#Create LR implementation class\n",
    "class MyLinearRegression:\n",
    "    \n",
    "    def __init__(self):\n",
    "        #placeholder for weights\n",
    "        self.weights = None\n",
    "    \n",
    "    def fit(self, X, y):\n",
    "        \n",
    "        # adding the unities\n",
    "        X2 = np.append(np.ones([len(X), 1]), X, axis=1)\n",
    "        \n",
    "        #Calculate weights \n",
    "        #1-The transposed feature matrix is multiplied by itself.\n",
    "        #2-The matrix inverse to that result is calculated.\n",
    "        #3-The inverse matrix is multiplied by the transposed feature matrix.\n",
    "        self.weights = np.linalg.inv(X2.T.dot(X2)).dot(X2.T).dot(y) \n",
    "        \n",
    "        #split weights into:\n",
    "        #w0 \n",
    "        self.w0 = self.weights[0]\n",
    "       \n",
    "        #w1 to n\n",
    "        self.w = self.weights[1:]\n",
    "\n",
    "    def predict(self, X):\n",
    "        \n",
    "\n",
    "        y_pred = X.dot(self.w) + self.w0\n",
    "        \n",
    "        return y_pred"
   ]
  },
  {
   "cell_type": "code",
   "execution_count": 66,
   "metadata": {},
   "outputs": [],
   "source": [
    "#define function to get the RMSE and R2 score of predictions\n",
    "def eval_regressor(y_true, y_pred):\n",
    "    \n",
    "    rmse =(sklearn.metrics.mean_squared_error(y_true, y_pred))**0.5\n",
    "    print(f'RMSE: {rmse:.2f}')\n",
    "    \n",
    "    r2_score = (sklearn.metrics.r2_score(y_true, y_pred))**0.5\n",
    "    print(f'R2: {r2_score:.2f}')    "
   ]
  },
  {
   "cell_type": "code",
   "execution_count": 67,
   "metadata": {},
   "outputs": [
    {
     "name": "stdout",
     "output_type": "stream",
     "text": [
      "[-9.77366729e-01  3.58042291e-02  1.95594888e-02  5.85336165e-07\n",
      " -1.21618420e-02]\n",
      "RMSE: 0.36\n",
      "R2: 0.66\n"
     ]
    }
   ],
   "source": [
    "#print weights, RMSE & r2 score\n",
    "\n",
    "X = df[['age', 'gender', 'income', 'family_members']].to_numpy()\n",
    "y = df['insurance_benefits'].to_numpy()\n",
    "\n",
    "X_train, X_test, y_train, y_test = train_test_split(X, y, test_size=0.3, random_state=12345)\n",
    "\n",
    "lr = MyLinearRegression()\n",
    "\n",
    "lr.fit(X_train, y_train)\n",
    "print(lr.weights)\n",
    "\n",
    "y_test_pred = lr.predict(X_test)\n",
    "eval_regressor(y_test, y_test_pred)"
   ]
  },
  {
   "cell_type": "markdown",
   "metadata": {},
   "source": [
    "Now let's print out RMSE & r2 score when using scaled data"
   ]
  },
  {
   "cell_type": "code",
   "execution_count": 68,
   "metadata": {},
   "outputs": [
    {
     "name": "stdout",
     "output_type": "stream",
     "text": [
      "[-0.97736673  2.32727489  0.01955949  0.04624156 -0.07297105]\n",
      "RMSE: 0.36\n",
      "R2: 0.66\n"
     ]
    }
   ],
   "source": [
    "#print weights, RMSE & r2 score\n",
    "\n",
    "X = df_scaled[['age', 'gender', 'income', 'family_members']].to_numpy()\n",
    "y = df_scaled['insurance_benefits'].to_numpy()\n",
    "\n",
    "X_train, X_test, y_train, y_test = train_test_split(X, y, test_size=0.3, random_state=12345)\n",
    "\n",
    "lr = MyLinearRegression()\n",
    "\n",
    "lr.fit(X_train, y_train)\n",
    "print(lr.weights)\n",
    "\n",
    "y_test_pred = lr.predict(X_test)\n",
    "eval_regressor(y_test, y_test_pred)"
   ]
  },
  {
   "cell_type": "markdown",
   "metadata": {},
   "source": [
    "We see that RMSE and R2 didn't change, because the model adjusted the weights instead. Based on a rule of thumb, it can be said that RMSE values between 0.2 and 0.5 shows that the model can relatively predict the data accurately, so the result achieved is deemed satisfactory."
   ]
  },
  {
   "cell_type": "markdown",
   "metadata": {},
   "source": [
    "# Task 4. Obfuscating Data"
   ]
  },
  {
   "cell_type": "markdown",
   "metadata": {},
   "source": [
    "It best to obfuscate data by multiplying the numerical features (they can be seen as the matrix $X$) by an invertible matrix $P$. \n",
    "\n",
    "$$\n",
    "X' = X \\times P\n",
    "$$\n",
    "\n",
    "Try to do that and check how the features' values will look like after the transformation. By the way, the intertible property is important here so make sure that $P$ is indeed invertible.\n",
    "\n"
   ]
  },
  {
   "cell_type": "code",
   "execution_count": 69,
   "metadata": {},
   "outputs": [],
   "source": [
    "#create list with names of columns containing personal info\n",
    "personal_info_column_list = ['gender', 'age', 'income', 'family_members']\n",
    "\n",
    "#create df with personal info to mask\n",
    "df_pn = df[personal_info_column_list]"
   ]
  },
  {
   "cell_type": "code",
   "execution_count": 70,
   "metadata": {},
   "outputs": [],
   "source": [
    "#convert df into an array\n",
    "X = df_pn.to_numpy()"
   ]
  },
  {
   "cell_type": "code",
   "execution_count": 71,
   "metadata": {},
   "outputs": [
    {
     "data": {
      "text/plain": [
       "array([[1.00e+00, 4.10e+01, 4.96e+04, 1.00e+00],\n",
       "       [0.00e+00, 4.60e+01, 3.80e+04, 1.00e+00],\n",
       "       [0.00e+00, 2.90e+01, 2.10e+04, 0.00e+00],\n",
       "       [0.00e+00, 2.10e+01, 4.17e+04, 2.00e+00],\n",
       "       [1.00e+00, 2.80e+01, 2.61e+04, 0.00e+00]])"
      ]
     },
     "execution_count": 71,
     "metadata": {},
     "output_type": "execute_result"
    }
   ],
   "source": [
    "#print first five observations\n",
    "X[:5]"
   ]
  },
  {
   "cell_type": "markdown",
   "metadata": {},
   "source": [
    "Generating a random matrix $P$."
   ]
  },
  {
   "cell_type": "code",
   "execution_count": 72,
   "metadata": {},
   "outputs": [
    {
     "data": {
      "text/plain": [
       "array([[0.77395605, 0.43887844, 0.85859792, 0.69736803],\n",
       "       [0.09417735, 0.97562235, 0.7611397 , 0.78606431],\n",
       "       [0.12811363, 0.45038594, 0.37079802, 0.92676499],\n",
       "       [0.64386512, 0.82276161, 0.4434142 , 0.22723872]])"
      ]
     },
     "execution_count": 72,
     "metadata": {},
     "output_type": "execute_result"
    }
   ],
   "source": [
    "#generate random squared matrix of the size of X columns\n",
    "rng = np.random.default_rng(seed=42)\n",
    "P = rng.random(size=(X.shape[1], X.shape[1]))\n",
    "P"
   ]
  },
  {
   "cell_type": "markdown",
   "metadata": {},
   "source": [
    "Checking the matrix $P$ is invertible"
   ]
  },
  {
   "cell_type": "code",
   "execution_count": 73,
   "metadata": {},
   "outputs": [
    {
     "data": {
      "text/plain": [
       "array([[ 0.41467992, -1.43783972,  0.62798546,  1.14001268],\n",
       "       [-1.06101789,  0.44219337,  0.1329549 ,  1.18425933],\n",
       "       [ 1.42362442,  1.60461607, -2.0553823 , -1.53699695],\n",
       "       [-0.11128575, -0.65813802,  1.74995517, -0.11816316]])"
      ]
     },
     "execution_count": 73,
     "metadata": {},
     "output_type": "execute_result"
    }
   ],
   "source": [
    "#see if we get an error when trying to get the inverse matrix\n",
    "np.linalg.inv(P)"
   ]
  },
  {
   "cell_type": "code",
   "execution_count": 74,
   "metadata": {},
   "outputs": [
    {
     "data": {
      "text/plain": [
       "array([[ 1.00000000e+00, -1.14337421e-16, -7.58122972e-17,\n",
       "         1.89091165e-17],\n",
       "       [ 8.51680974e-17,  1.00000000e+00, -7.10568689e-17,\n",
       "         1.47898982e-16],\n",
       "       [-4.34608597e-19, -8.01461326e-17,  1.00000000e+00,\n",
       "         1.93902515e-17],\n",
       "       [ 1.20295083e-16, -3.05630046e-16, -1.91527957e-16,\n",
       "         1.00000000e+00]])"
      ]
     },
     "execution_count": 74,
     "metadata": {},
     "output_type": "execute_result"
    }
   ],
   "source": [
    "#Check that P x 1/P = Identity matrix\n",
    "inverse_P=np.dot(P, np.linalg.inv(P))\n",
    "inverse_P"
   ]
  },
  {
   "cell_type": "code",
   "execution_count": 75,
   "metadata": {},
   "outputs": [],
   "source": [
    "#get obfuscated data\n",
    "obf_data= np.dot(X,P)"
   ]
  },
  {
   "cell_type": "markdown",
   "metadata": {},
   "source": [
    "Let's see if we can guess the customers' ages or income after the transformation"
   ]
  },
  {
   "cell_type": "code",
   "execution_count": 76,
   "metadata": {},
   "outputs": [
    {
     "data": {
      "text/plain": [
       "array([[ 6359.71527314, 22380.40467609, 18424.09074184, 46000.69669016],\n",
       "       [ 4873.29406479, 17160.36702982, 14125.78076133, 35253.45577301],\n",
       "       [ 2693.11742928,  9486.397744  ,  7808.83156024, 19484.86063067],\n",
       "       [ 5345.60393712, 18803.22720286, 15479.14837264, 38663.06186284],\n",
       "       [ 3347.17673462, 11782.82928336,  9699.99894205, 24211.27337753]])"
      ]
     },
     "execution_count": 76,
     "metadata": {},
     "output_type": "execute_result"
    }
   ],
   "source": [
    "#print first five observations\n",
    "obf_data[:5]"
   ]
  },
  {
   "cell_type": "markdown",
   "metadata": {},
   "source": [
    "At a glance, we realize it'd be almost impossible to get the original data back from the obsfuscated data."
   ]
  },
  {
   "cell_type": "markdown",
   "metadata": {},
   "source": [
    "Now, we'll try to recover the original data from $X'$ provided that we know $P$? \n",
    "\n",
    "The idea is to try to check that by moving $P$ from the right side of the formula above to the left one. "
   ]
  },
  {
   "cell_type": "code",
   "execution_count": 77,
   "metadata": {},
   "outputs": [],
   "source": [
    "#Multiply obftuscated matix by the inverse of P\n",
    "X_guess= np.dot(obf_data,np.linalg.inv(P))\n"
   ]
  },
  {
   "cell_type": "markdown",
   "metadata": {},
   "source": [
    "Print all three cases for a few customers\n",
    "- The original data\n",
    "- The transformed one\n",
    "- The reversed (recovered) one"
   ]
  },
  {
   "cell_type": "code",
   "execution_count": 78,
   "metadata": {},
   "outputs": [
    {
     "data": {
      "text/plain": [
       "array([[1.00e+00, 4.10e+01, 4.96e+04, 1.00e+00],\n",
       "       [0.00e+00, 4.60e+01, 3.80e+04, 1.00e+00],\n",
       "       [0.00e+00, 2.90e+01, 2.10e+04, 0.00e+00],\n",
       "       [0.00e+00, 2.10e+01, 4.17e+04, 2.00e+00],\n",
       "       [1.00e+00, 2.80e+01, 2.61e+04, 0.00e+00]])"
      ]
     },
     "execution_count": 78,
     "metadata": {},
     "output_type": "execute_result"
    }
   ],
   "source": [
    "X[:5]"
   ]
  },
  {
   "cell_type": "code",
   "execution_count": 79,
   "metadata": {},
   "outputs": [
    {
     "data": {
      "text/plain": [
       "array([[0.77395605, 0.43887844, 0.85859792, 0.69736803],\n",
       "       [0.09417735, 0.97562235, 0.7611397 , 0.78606431],\n",
       "       [0.12811363, 0.45038594, 0.37079802, 0.92676499],\n",
       "       [0.64386512, 0.82276161, 0.4434142 , 0.22723872]])"
      ]
     },
     "execution_count": 79,
     "metadata": {},
     "output_type": "execute_result"
    }
   ],
   "source": [
    "P[:5]"
   ]
  },
  {
   "cell_type": "code",
   "execution_count": 80,
   "metadata": {},
   "outputs": [
    {
     "data": {
      "text/plain": [
       "array([[ 6359.71527314, 22380.40467609, 18424.09074184, 46000.69669016],\n",
       "       [ 4873.29406479, 17160.36702982, 14125.78076133, 35253.45577301],\n",
       "       [ 2693.11742928,  9486.397744  ,  7808.83156024, 19484.86063067],\n",
       "       [ 5345.60393712, 18803.22720286, 15479.14837264, 38663.06186284],\n",
       "       [ 3347.17673462, 11782.82928336,  9699.99894205, 24211.27337753]])"
      ]
     },
     "execution_count": 80,
     "metadata": {},
     "output_type": "execute_result"
    }
   ],
   "source": [
    "obf_data[:5]"
   ]
  },
  {
   "cell_type": "code",
   "execution_count": 81,
   "metadata": {},
   "outputs": [
    {
     "data": {
      "text/plain": [
       "array([[ 0.41467992, -1.43783972,  0.62798546,  1.14001268],\n",
       "       [-1.06101789,  0.44219337,  0.1329549 ,  1.18425933],\n",
       "       [ 1.42362442,  1.60461607, -2.0553823 , -1.53699695],\n",
       "       [-0.11128575, -0.65813802,  1.74995517, -0.11816316]])"
      ]
     },
     "execution_count": 81,
     "metadata": {},
     "output_type": "execute_result"
    }
   ],
   "source": [
    "np.linalg.inv(P)[:5]"
   ]
  },
  {
   "cell_type": "code",
   "execution_count": 82,
   "metadata": {},
   "outputs": [
    {
     "data": {
      "text/plain": [
       "array([[ 1.00000000e+00,  4.10000000e+01,  4.96000000e+04,\n",
       "         1.00000000e+00],\n",
       "       [ 6.66555413e-13,  4.60000000e+01,  3.80000000e+04,\n",
       "         1.00000000e+00],\n",
       "       [ 3.84747671e-13,  2.90000000e+01,  2.10000000e+04,\n",
       "         1.41940791e-12],\n",
       "       [-2.69875101e-12,  2.10000000e+01,  4.17000000e+04,\n",
       "         2.00000000e+00],\n",
       "       [ 1.00000000e+00,  2.80000000e+01,  2.61000000e+04,\n",
       "         4.91751442e-13]])"
      ]
     },
     "execution_count": 82,
     "metadata": {},
     "output_type": "execute_result"
    }
   ],
   "source": [
    "X_guess[:5]"
   ]
  },
  {
   "cell_type": "markdown",
   "metadata": {},
   "source": [
    "We can notice that some values are not exactly the same as they are in the original data.\n",
    "\n",
    "Moreover, the mismatches take place at those positions where the original data had a value close to 0, and is most likely due to decimal precision operated by NumPy calculations"
   ]
  },
  {
   "cell_type": "markdown",
   "metadata": {},
   "source": [
    "## Proof That Data Obfuscation Can Work with LR"
   ]
  },
  {
   "cell_type": "markdown",
   "metadata": {},
   "source": [
    "The regression task has been solved with linear regression in this project. \n",
    "\n",
    "Our next task is to prove _analytically_ that the given obfuscation method won't affect linear regression in terms of predicted values i.e. their values will remain the same as the model would adjust the weights to fit the new values."
   ]
  },
  {
   "cell_type": "markdown",
   "metadata": {},
   "source": [
    "So, the data is obfuscated and there is $X \\times P$ instead of just $X$ now. Consequently, there are other weights $w_P$ as\n",
    "$$\n",
    "w = (X^T X)^{-1} X^T y \\quad \\Rightarrow \\quad w_P = [(XP)^T XP]^{-1} (XP)^T y\n",
    "$$\n",
    "\n",
    "If we simplify the formula for $w_P$ above, this means $w$ and $w_P$ would be linked as:\n",
    "\n",
    "1) Distribute T exponents -> $(AB)^{-1} = B^{-1}A^{-1}$ :\n",
    "\n",
    "$$ w_P =  (P^TX^TXP)^{-1} X^TP^T y $$\n",
    "\n",
    "2) Distribute -1 exponent:\n",
    "\n",
    "$$ w_P =  P^{-1}P^{-T}P^T(X^TX)^{-1}  X^T y $$\n",
    "\n",
    "3) Offset inverse matrices [Remove $(P^{-T} ; P^T $] (as we know it's an invertible matrix, and their product is the identity matrix, which when multiplied by any other matrix returns the same matrix):\n",
    "\n",
    "\n",
    "$$ w_P =  P^{-1}(X^TX)^{-1}  X^T y $$\n",
    "\n",
    "4) Recall that $w = (X^T X)^{-1} X^T y$\n",
    "\n",
    "\n",
    "5) Replacing  $(X^T X)^{-1} X^T y$ by $w$ in $w_P$ we have :\n",
    "\n",
    "$$w_P = P^{-1} w$$\n",
    "\n",
    "\n",
    "What this means for the quality of linear regression if we measure it with RMSE is that the result achieved should remain the same as with the original dataset, as predictions made by the algorithm will remain the same:\n",
    "\n",
    "$$(X) w = (XP) w_P$$\n",
    "\n",
    "Replacing $w$ and $w_P:$ $$(X)  (X^T X)^{-1} X^T y  = (XP)   P^{-1}(X^TX)^{-1}  X^T y $$\n",
    "\n",
    "Regrouping: $$  (X^T X)^{-1} (X^TX) y  = PP^{-1}(X^TX)^{-1}  (X^TX) y $$\n",
    "\n",
    "Removing inverse matrices [$(X^T X)^{-1}$ & $(X^TX)$] and [$P$ & $P^{-1}$]: $$ y  =  y $$\n",
    "\n"
   ]
  },
  {
   "cell_type": "markdown",
   "metadata": {},
   "source": [
    "## Test Linear Regression With Data Obfuscation"
   ]
  },
  {
   "cell_type": "markdown",
   "metadata": {},
   "source": [
    "Now, let's prove Linear Regression can work computationally with the chosen obfuscation transformation. Coming up we will:\n",
    "\n",
    "1) Build a procedure or a class that runs Linear Regression optionally with the obfuscation. \n",
    "\n",
    "2) Run Linear Regression for the original data and the obfuscated one, compare the predicted values and the RMSE, $R^2$ metric values. Analyze if there are any differences."
   ]
  },
  {
   "cell_type": "markdown",
   "metadata": {},
   "source": [
    "**1) Procedure**\n",
    "\n",
    "- Create a square matrix $P$ of random numbers (We have already defined it in previous steps)\n",
    "- Check that it is invertible. If not, repeat the first point until we get an invertible matrix. (We have already checked this in previous steps)\n",
    "- Multiply the original data by P to get the obfuscated matrix $XP$\n",
    "- Use $XP$ as the new feature matrix"
   ]
  },
  {
   "cell_type": "code",
   "execution_count": 83,
   "metadata": {},
   "outputs": [
    {
     "data": {
      "text/plain": [
       "array([[ 6359.71527314, 22380.40467609, 18424.09074184, 46000.69669016],\n",
       "       [ 4873.29406479, 17160.36702982, 14125.78076133, 35253.45577301],\n",
       "       [ 2693.11742928,  9486.397744  ,  7808.83156024, 19484.86063067],\n",
       "       [ 5345.60393712, 18803.22720286, 15479.14837264, 38663.06186284],\n",
       "       [ 3347.17673462, 11782.82928336,  9699.99894205, 24211.27337753]])"
      ]
     },
     "execution_count": 83,
     "metadata": {},
     "output_type": "execute_result"
    }
   ],
   "source": [
    "#Print out the obfuscated matrix first five observations\n",
    "\n",
    "obf_data[:5]"
   ]
  },
  {
   "cell_type": "code",
   "execution_count": 84,
   "metadata": {},
   "outputs": [
    {
     "data": {
      "text/html": [
       "<div>\n",
       "<style scoped>\n",
       "    .dataframe tbody tr th:only-of-type {\n",
       "        vertical-align: middle;\n",
       "    }\n",
       "\n",
       "    .dataframe tbody tr th {\n",
       "        vertical-align: top;\n",
       "    }\n",
       "\n",
       "    .dataframe thead th {\n",
       "        text-align: right;\n",
       "    }\n",
       "</style>\n",
       "<table border=\"1\" class=\"dataframe\">\n",
       "  <thead>\n",
       "    <tr style=\"text-align: right;\">\n",
       "      <th></th>\n",
       "      <th>gender</th>\n",
       "      <th>age</th>\n",
       "      <th>income</th>\n",
       "      <th>family_members</th>\n",
       "      <th>insurance_benefits</th>\n",
       "    </tr>\n",
       "  </thead>\n",
       "  <tbody>\n",
       "    <tr>\n",
       "      <th>0</th>\n",
       "      <td>6359.715273</td>\n",
       "      <td>22380.404676</td>\n",
       "      <td>18424.090742</td>\n",
       "      <td>46000.696690</td>\n",
       "      <td>0</td>\n",
       "    </tr>\n",
       "    <tr>\n",
       "      <th>1</th>\n",
       "      <td>4873.294065</td>\n",
       "      <td>17160.367030</td>\n",
       "      <td>14125.780761</td>\n",
       "      <td>35253.455773</td>\n",
       "      <td>1</td>\n",
       "    </tr>\n",
       "    <tr>\n",
       "      <th>2</th>\n",
       "      <td>2693.117429</td>\n",
       "      <td>9486.397744</td>\n",
       "      <td>7808.831560</td>\n",
       "      <td>19484.860631</td>\n",
       "      <td>0</td>\n",
       "    </tr>\n",
       "    <tr>\n",
       "      <th>3</th>\n",
       "      <td>5345.603937</td>\n",
       "      <td>18803.227203</td>\n",
       "      <td>15479.148373</td>\n",
       "      <td>38663.061863</td>\n",
       "      <td>0</td>\n",
       "    </tr>\n",
       "    <tr>\n",
       "      <th>4</th>\n",
       "      <td>3347.176735</td>\n",
       "      <td>11782.829283</td>\n",
       "      <td>9699.998942</td>\n",
       "      <td>24211.273378</td>\n",
       "      <td>0</td>\n",
       "    </tr>\n",
       "    <tr>\n",
       "      <th>...</th>\n",
       "      <td>...</td>\n",
       "      <td>...</td>\n",
       "      <td>...</td>\n",
       "      <td>...</td>\n",
       "      <td>...</td>\n",
       "    </tr>\n",
       "    <tr>\n",
       "      <th>4842</th>\n",
       "      <td>4577.581382</td>\n",
       "      <td>16107.740932</td>\n",
       "      <td>13259.688205</td>\n",
       "      <td>33107.974380</td>\n",
       "      <td>0</td>\n",
       "    </tr>\n",
       "    <tr>\n",
       "      <th>4843</th>\n",
       "      <td>6717.000247</td>\n",
       "      <td>23634.217067</td>\n",
       "      <td>19456.138634</td>\n",
       "      <td>48589.438841</td>\n",
       "      <td>0</td>\n",
       "    </tr>\n",
       "    <tr>\n",
       "      <th>4844</th>\n",
       "      <td>4346.223425</td>\n",
       "      <td>15289.241265</td>\n",
       "      <td>12586.162644</td>\n",
       "      <td>31433.508886</td>\n",
       "      <td>0</td>\n",
       "    </tr>\n",
       "    <tr>\n",
       "      <th>4845</th>\n",
       "      <td>4194.093242</td>\n",
       "      <td>14751.991024</td>\n",
       "      <td>12144.029306</td>\n",
       "      <td>30323.887634</td>\n",
       "      <td>0</td>\n",
       "    </tr>\n",
       "    <tr>\n",
       "      <th>4846</th>\n",
       "      <td>5205.468274</td>\n",
       "      <td>18314.248144</td>\n",
       "      <td>15077.013708</td>\n",
       "      <td>37649.592955</td>\n",
       "      <td>0</td>\n",
       "    </tr>\n",
       "  </tbody>\n",
       "</table>\n",
       "<p>4847 rows × 5 columns</p>\n",
       "</div>"
      ],
      "text/plain": [
       "           gender           age        income  family_members  \\\n",
       "0     6359.715273  22380.404676  18424.090742    46000.696690   \n",
       "1     4873.294065  17160.367030  14125.780761    35253.455773   \n",
       "2     2693.117429   9486.397744   7808.831560    19484.860631   \n",
       "3     5345.603937  18803.227203  15479.148373    38663.061863   \n",
       "4     3347.176735  11782.829283   9699.998942    24211.273378   \n",
       "...           ...           ...           ...             ...   \n",
       "4842  4577.581382  16107.740932  13259.688205    33107.974380   \n",
       "4843  6717.000247  23634.217067  19456.138634    48589.438841   \n",
       "4844  4346.223425  15289.241265  12586.162644    31433.508886   \n",
       "4845  4194.093242  14751.991024  12144.029306    30323.887634   \n",
       "4846  5205.468274  18314.248144  15077.013708    37649.592955   \n",
       "\n",
       "      insurance_benefits  \n",
       "0                      0  \n",
       "1                      1  \n",
       "2                      0  \n",
       "3                      0  \n",
       "4                      0  \n",
       "...                  ...  \n",
       "4842                   0  \n",
       "4843                   0  \n",
       "4844                   0  \n",
       "4845                   0  \n",
       "4846                   0  \n",
       "\n",
       "[4847 rows x 5 columns]"
      ]
     },
     "execution_count": 84,
     "metadata": {},
     "output_type": "execute_result"
    }
   ],
   "source": [
    "#Merge to a new df including target\n",
    "df_obf_x= pd.DataFrame(obf_data, columns=personal_info_column_list)\n",
    "df_obf= pd.concat([df_obf_x, pd.DataFrame(df['insurance_benefits'])],axis=1)\n",
    "df_obf                   "
   ]
  },
  {
   "cell_type": "code",
   "execution_count": 85,
   "metadata": {},
   "outputs": [],
   "source": [
    "#split into train and test features and target\n",
    "\n",
    "X_obf= df_obf[personal_info_column_list]\n",
    "Y_obf= df_obf['insurance_benefits']\n",
    "\n",
    "X_train_obf, X_test_obf, Y_train_obf, Y_test_obf = train_test_split(X_obf, Y_obf, test_size=0.30, random_state=12345)\n"
   ]
  },
  {
   "cell_type": "code",
   "execution_count": 86,
   "metadata": {},
   "outputs": [
    {
     "name": "stdout",
     "output_type": "stream",
     "text": [
      "[-0.97736673 -0.0572341  -0.01932331  0.10398897 -0.02430271]\n",
      "RMSE: 0.36\n",
      "R2: 0.66\n"
     ]
    }
   ],
   "source": [
    "#Define LR model\n",
    "lr_obf = MyLinearRegression()\n",
    "\n",
    "#fit obf train data\n",
    "\n",
    "lr_obf.fit(X_train_obf, Y_train_obf)\n",
    "print(lr_obf.weights)\n",
    "\n",
    "y_test_obf_pred = lr_obf.predict(X_test_obf)\n",
    "eval_regressor(Y_test_obf, y_test_obf_pred )"
   ]
  },
  {
   "cell_type": "code",
   "execution_count": 87,
   "metadata": {},
   "outputs": [
    {
     "name": "stdout",
     "output_type": "stream",
     "text": [
      "[-0.97736673  2.32727489  0.01955949  0.04624156 -0.07297105]\n",
      "RMSE: 0.36\n",
      "R2: 0.66\n"
     ]
    }
   ],
   "source": [
    "#Print results with scaled original df again\n",
    "\n",
    "X = df_scaled[['age', 'gender', 'income', 'family_members']].to_numpy()\n",
    "y = df_scaled['insurance_benefits'].to_numpy()\n",
    "\n",
    "X_train, X_test, y_train, y_test = train_test_split(X, y, test_size=0.3, random_state=12345)\n",
    "\n",
    "lr = MyLinearRegression()\n",
    "\n",
    "lr.fit(X_train, y_train)\n",
    "print(lr.weights)\n",
    "\n",
    "y_test_pred = lr.predict(X_test)\n",
    "eval_regressor(y_test, y_test_pred)"
   ]
  },
  {
   "cell_type": "markdown",
   "metadata": {},
   "source": [
    "As concluded in the previous step, RMSE and R2 did not change as compared to the ones achieved in Task 3 (using either the scaled or non-scaled original dataset). We see that the model adjusted the weights instead."
   ]
  },
  {
   "cell_type": "markdown",
   "metadata": {},
   "source": [
    "# Conclusions"
   ]
  },
  {
   "cell_type": "markdown",
   "metadata": {},
   "source": [
    "After importing data and fixing some issues detected we drew a pair plot and a heatmap to try to identify patterns in the correlation between insurance benefits received and the rest of the features. Since it was too difficult to spot obvious clusters, we decided to introduce ML for solving the tasks we had committed to.\n",
    "\n",
    "\n",
    "\n",
    "\n",
    "### TASK 1) Similar Customers\n",
    "\n",
    "We developed a model that takes a dataframe,  an $n^{th}$ observation number, the k Nearest neighbors we want to get and the metric throughout which we want to calculate distance (euclidean or manhattan). We used it to get the 10 nearest neighbors for the 3rd item of the dataset both with scaled and non-scaled data. \n",
    "\n",
    "**We noticed that when the data is not scaled, differences in columns which observations range within higher values have more impact in total distance, so it's best to have it scaled to get a weighted distance between datapoints.**\n",
    "\n",
    "As for metrics, even though there are some differences in the position at which the last rows are returned (meaning that if we printed out the top 8 closest neighbors instead of 10, we'd have some differences), the 10 closest records returned are the same for both metrics.\n",
    "\n",
    "### TASK 2) Likelyhood of a customer receiving any Insurance benfit.\n",
    "\n",
    "#### 2a) Optimal kNN :\n",
    "\n",
    "After adding a calculated column set to 1=True if the customer had one or more benefits, or to 0=False otherwise, we built a custom ML class capable of returning a prediction based on the target value with the majority of votes among the k nearest neighbors. We plotted the F1 score achieved with k = 1 to 10, and concluded that:\n",
    "\n",
    "**The kNN Classifier model performs best with scaled, upsampled (class imbalance fix) data, using the 3 or 4 nearest neighbors for making predictions, achieving a 0.94 F1 score**\n",
    "\n",
    "#### 2b) Evaluation against a dummy model\n",
    "\n",
    "When compared to the f1 score reached by a dummy model returning \"1\" with some probability, we realized that the kNN performs much better (0.21 max f1 score achieved).\n",
    "\n",
    "**Not only the true positives and true negatives returned by the kNN classifier were higher, also the false positives and negatives were lower**\n",
    "\n",
    "### TASK 3) Linear regression to predict count of insurance benefits a customer is likely to receive.\n",
    "\n",
    "We built a linear regressor and calculated the RMSE and R2 score of the predictions using the scaled and non-scaled dataset. The results were the same for both, because the linear regressor adjusted the weights to make the same predictions: RMSE=0.36 and R2= 0.66.\n",
    "\n",
    "Based on a rule of thumb, it can be said that RMSE values between 0.2 and 0.5 shows that the model can relatively predict the data accurately, so the result achieved of 0.36 is deemed satisfactory.\n",
    "\n",
    "As for the Coefficient of determination (R2), the higher the R-squared, the better the model fits data. We can interpret it as the opposite of the RMSE (0.36 + 0.66= 0.99 -> =1), meaning that a 66% fit is high enough.\n",
    "\n",
    "### Task 4. Obfuscating Data\n",
    "\n",
    "We masked customers' personal information multiplying the original values by a random matrix and, as we managed to prove analytically through formulas, the RMSE and R2 scores achieved by the Linear Regressor using obfuscated data, scaled data or original data did not change, as predictions made by the model were the same in both scenarios.\n",
    "\n"
   ]
  },
  {
   "cell_type": "markdown",
   "metadata": {},
   "source": [
    "# Appendices \n",
    "\n",
    "## Appendix A: Writing Formulas in Jupyter Notebooks"
   ]
  },
  {
   "cell_type": "markdown",
   "metadata": {},
   "source": [
    "You can write formulas in your Jupyter Notebook in a markup language provided by a high-quality publishing system called $\\LaTeX$ (pronounced \"Lah-tech\"), and they will look like formulas in textbooks.\n",
    "\n",
    "To put a formula in a text, put the dollar sign (\\\\$) before and after the formula's text e.g. $\\frac{1}{2} \\times \\frac{3}{2} = \\frac{3}{4}$ or $y = x^2, x \\ge 1$.\n",
    "\n",
    "If a formula should be in its own paragraph, put the double dollar sign (\\\\$\\\\$) before and after the formula text e.g.\n",
    "\n",
    "$$\n",
    "\\bar{x} = \\frac{1}{n}\\sum_{i=1}^{n} x_i.\n",
    "$$\n",
    "\n",
    "The markup language of [LaTeX](https://en.wikipedia.org/wiki/LaTeX) is very popular among people who use formulas in their articles, books and texts. It can be complex but its basics are easy. Check this two page [cheatsheet](http://tug.ctan.org/info/undergradmath/undergradmath.pdf) for learning how to compose the most common formulas."
   ]
  },
  {
   "cell_type": "markdown",
   "metadata": {},
   "source": [
    "## Appendix B: Properties of Matrices"
   ]
  },
  {
   "cell_type": "markdown",
   "metadata": {},
   "source": [
    "Matrices have many properties in Linear Algebra. A few of them are listed here which can help with the analytical proof in this project."
   ]
  },
  {
   "cell_type": "markdown",
   "metadata": {},
   "source": [
    "<table>\n",
    "<tr>\n",
    "<td>Distributivity</td><td>$A(B+C)=AB+AC$</td>\n",
    "</tr>\n",
    "<tr>\n",
    "<td>Non-commutativity</td><td>$AB \\neq BA$</td>\n",
    "</tr>\n",
    "<tr>\n",
    "<td>Associative property of multiplication</td><td>$(AB)C = A(BC)$</td>\n",
    "</tr>\n",
    "<tr>\n",
    "<td>Multiplicative identity property</td><td>$IA = AI = A$</td>\n",
    "</tr>\n",
    "<tr>\n",
    "<td></td><td>$A^{-1}A = AA^{-1} = I$\n",
    "</td>\n",
    "</tr>    \n",
    "<tr>\n",
    "<td></td><td>$(AB)^{-1} = B^{-1}A^{-1}$</td>\n",
    "</tr>    \n",
    "<tr>\n",
    "<td>Reversivity of the transpose of a product of matrices,</td><td>$(AB)^T = B^TA^T$</td>\n",
    "</tr>    \n",
    "</table>"
   ]
  }
 ],
 "metadata": {
  "ExecuteTimeLog": [
   {
    "duration": 1747,
    "start_time": "2022-05-31T23:43:26.560Z"
   },
   {
    "duration": 62,
    "start_time": "2022-05-31T23:43:28.309Z"
   },
   {
    "duration": 11,
    "start_time": "2022-05-31T23:43:28.373Z"
   },
   {
    "duration": 13,
    "start_time": "2022-05-31T23:43:28.705Z"
   },
   {
    "duration": 5,
    "start_time": "2022-05-31T23:43:28.954Z"
   },
   {
    "duration": 6,
    "start_time": "2022-05-31T23:43:29.159Z"
   },
   {
    "duration": 4,
    "start_time": "2022-05-31T23:43:30.243Z"
   },
   {
    "duration": 11,
    "start_time": "2022-05-31T23:43:31.093Z"
   },
   {
    "duration": 4,
    "start_time": "2022-05-31T23:43:31.667Z"
   },
   {
    "duration": 11,
    "start_time": "2022-05-31T23:43:31.986Z"
   },
   {
    "duration": 31,
    "start_time": "2022-05-31T23:43:32.894Z"
   },
   {
    "duration": 7,
    "start_time": "2022-05-31T23:43:33.147Z"
   },
   {
    "duration": 6,
    "start_time": "2022-05-31T23:43:33.334Z"
   },
   {
    "duration": 6,
    "start_time": "2022-05-31T23:43:33.495Z"
   },
   {
    "duration": 3279,
    "start_time": "2022-05-31T23:43:34.349Z"
   },
   {
    "duration": 309,
    "start_time": "2022-05-31T23:43:37.630Z"
   },
   {
    "duration": 2,
    "start_time": "2022-05-31T23:43:37.941Z"
   },
   {
    "duration": 6,
    "start_time": "2022-05-31T23:43:53.680Z"
   },
   {
    "duration": 534,
    "start_time": "2022-05-31T23:44:10.849Z"
   },
   {
    "duration": 5,
    "start_time": "2022-05-31T23:44:35.361Z"
   },
   {
    "duration": 565,
    "start_time": "2022-05-31T23:44:36.063Z"
   },
   {
    "duration": 5,
    "start_time": "2022-05-31T23:46:10.299Z"
   },
   {
    "duration": 530,
    "start_time": "2022-05-31T23:46:16.416Z"
   },
   {
    "duration": 469,
    "start_time": "2022-05-31T23:46:49.054Z"
   },
   {
    "duration": 491,
    "start_time": "2022-05-31T23:47:02.938Z"
   },
   {
    "duration": 18,
    "start_time": "2022-05-31T23:47:04.964Z"
   },
   {
    "duration": 13,
    "start_time": "2022-05-31T23:47:16.911Z"
   },
   {
    "duration": 6,
    "start_time": "2022-05-31T23:49:01.258Z"
   },
   {
    "duration": 470,
    "start_time": "2022-05-31T23:49:04.027Z"
   },
   {
    "duration": 3368,
    "start_time": "2022-06-01T07:52:23.024Z"
   },
   {
    "duration": 4,
    "start_time": "2022-06-01T07:52:26.395Z"
   },
   {
    "duration": 49,
    "start_time": "2022-06-01T07:52:26.400Z"
   },
   {
    "duration": 8,
    "start_time": "2022-06-01T07:52:26.452Z"
   },
   {
    "duration": 13,
    "start_time": "2022-06-01T07:52:26.462Z"
   },
   {
    "duration": 5,
    "start_time": "2022-06-01T07:52:26.477Z"
   },
   {
    "duration": 12,
    "start_time": "2022-06-01T07:52:26.484Z"
   },
   {
    "duration": 5,
    "start_time": "2022-06-01T07:52:26.498Z"
   },
   {
    "duration": 19,
    "start_time": "2022-06-01T07:52:26.505Z"
   },
   {
    "duration": 4,
    "start_time": "2022-06-01T07:52:26.553Z"
   },
   {
    "duration": 12,
    "start_time": "2022-06-01T07:52:26.558Z"
   },
   {
    "duration": 24,
    "start_time": "2022-06-01T07:52:26.572Z"
   },
   {
    "duration": 6,
    "start_time": "2022-06-01T07:52:26.598Z"
   },
   {
    "duration": 8,
    "start_time": "2022-06-01T07:52:26.606Z"
   },
   {
    "duration": 40,
    "start_time": "2022-06-01T07:52:26.616Z"
   },
   {
    "duration": 3724,
    "start_time": "2022-06-01T07:52:26.658Z"
   },
   {
    "duration": 306,
    "start_time": "2022-06-01T07:52:30.384Z"
   },
   {
    "duration": 3,
    "start_time": "2022-06-01T07:52:30.692Z"
   },
   {
    "duration": 50,
    "start_time": "2022-06-01T07:52:30.696Z"
   },
   {
    "duration": 584,
    "start_time": "2022-06-01T07:52:30.748Z"
   },
   {
    "duration": 19,
    "start_time": "2022-06-01T07:52:31.334Z"
   },
   {
    "duration": 0,
    "start_time": "2022-06-01T07:52:31.355Z"
   },
   {
    "duration": 0,
    "start_time": "2022-06-01T07:52:31.356Z"
   },
   {
    "duration": 0,
    "start_time": "2022-06-01T07:52:31.359Z"
   },
   {
    "duration": 0,
    "start_time": "2022-06-01T07:52:31.360Z"
   },
   {
    "duration": 0,
    "start_time": "2022-06-01T07:52:31.361Z"
   },
   {
    "duration": 0,
    "start_time": "2022-06-01T07:52:31.363Z"
   },
   {
    "duration": 0,
    "start_time": "2022-06-01T07:52:31.364Z"
   },
   {
    "duration": 0,
    "start_time": "2022-06-01T07:52:31.365Z"
   },
   {
    "duration": 0,
    "start_time": "2022-06-01T07:52:31.366Z"
   },
   {
    "duration": 0,
    "start_time": "2022-06-01T07:52:31.367Z"
   },
   {
    "duration": 0,
    "start_time": "2022-06-01T07:52:31.368Z"
   },
   {
    "duration": 0,
    "start_time": "2022-06-01T07:52:31.370Z"
   },
   {
    "duration": 0,
    "start_time": "2022-06-01T07:52:31.371Z"
   },
   {
    "duration": 0,
    "start_time": "2022-06-01T07:52:31.372Z"
   },
   {
    "duration": 0,
    "start_time": "2022-06-01T07:52:31.373Z"
   },
   {
    "duration": 0,
    "start_time": "2022-06-01T07:52:31.374Z"
   },
   {
    "duration": 0,
    "start_time": "2022-06-01T07:52:31.375Z"
   },
   {
    "duration": 0,
    "start_time": "2022-06-01T07:52:31.376Z"
   },
   {
    "duration": 0,
    "start_time": "2022-06-01T07:52:31.378Z"
   },
   {
    "duration": 0,
    "start_time": "2022-06-01T07:52:31.380Z"
   },
   {
    "duration": 0,
    "start_time": "2022-06-01T07:52:31.381Z"
   },
   {
    "duration": 0,
    "start_time": "2022-06-01T07:52:31.383Z"
   },
   {
    "duration": 0,
    "start_time": "2022-06-01T07:52:31.384Z"
   },
   {
    "duration": 31,
    "start_time": "2022-06-01T07:53:16.012Z"
   },
   {
    "duration": 2857,
    "start_time": "2022-06-01T07:53:22.970Z"
   },
   {
    "duration": 5,
    "start_time": "2022-06-01T07:53:25.830Z"
   },
   {
    "duration": 55,
    "start_time": "2022-06-01T07:53:25.837Z"
   },
   {
    "duration": 10,
    "start_time": "2022-06-01T07:53:25.894Z"
   },
   {
    "duration": 17,
    "start_time": "2022-06-01T07:53:25.905Z"
   },
   {
    "duration": 8,
    "start_time": "2022-06-01T07:53:25.924Z"
   },
   {
    "duration": 8,
    "start_time": "2022-06-01T07:53:25.933Z"
   },
   {
    "duration": 7,
    "start_time": "2022-06-01T07:53:25.942Z"
   },
   {
    "duration": 14,
    "start_time": "2022-06-01T07:53:25.950Z"
   },
   {
    "duration": 7,
    "start_time": "2022-06-01T07:53:25.966Z"
   },
   {
    "duration": 16,
    "start_time": "2022-06-01T07:53:25.975Z"
   },
   {
    "duration": 27,
    "start_time": "2022-06-01T07:53:25.993Z"
   },
   {
    "duration": 6,
    "start_time": "2022-06-01T07:53:26.021Z"
   },
   {
    "duration": 24,
    "start_time": "2022-06-01T07:53:26.029Z"
   },
   {
    "duration": 9,
    "start_time": "2022-06-01T07:53:26.055Z"
   },
   {
    "duration": 3791,
    "start_time": "2022-06-01T07:53:26.065Z"
   },
   {
    "duration": 312,
    "start_time": "2022-06-01T07:53:29.858Z"
   },
   {
    "duration": 3,
    "start_time": "2022-06-01T07:53:30.172Z"
   },
   {
    "duration": 34,
    "start_time": "2022-06-01T07:53:30.176Z"
   },
   {
    "duration": 579,
    "start_time": "2022-06-01T07:53:30.212Z"
   },
   {
    "duration": 12,
    "start_time": "2022-06-01T07:53:30.792Z"
   },
   {
    "duration": 0,
    "start_time": "2022-06-01T07:53:30.806Z"
   },
   {
    "duration": 0,
    "start_time": "2022-06-01T07:53:30.807Z"
   },
   {
    "duration": 0,
    "start_time": "2022-06-01T07:53:30.808Z"
   },
   {
    "duration": 0,
    "start_time": "2022-06-01T07:53:30.809Z"
   },
   {
    "duration": 0,
    "start_time": "2022-06-01T07:53:30.811Z"
   },
   {
    "duration": 0,
    "start_time": "2022-06-01T07:53:30.812Z"
   },
   {
    "duration": 0,
    "start_time": "2022-06-01T07:53:30.813Z"
   },
   {
    "duration": 0,
    "start_time": "2022-06-01T07:53:30.814Z"
   },
   {
    "duration": 0,
    "start_time": "2022-06-01T07:53:30.815Z"
   },
   {
    "duration": 0,
    "start_time": "2022-06-01T07:53:30.816Z"
   },
   {
    "duration": 0,
    "start_time": "2022-06-01T07:53:30.817Z"
   },
   {
    "duration": 0,
    "start_time": "2022-06-01T07:53:30.818Z"
   },
   {
    "duration": 0,
    "start_time": "2022-06-01T07:53:30.819Z"
   },
   {
    "duration": 0,
    "start_time": "2022-06-01T07:53:30.853Z"
   },
   {
    "duration": 0,
    "start_time": "2022-06-01T07:53:30.855Z"
   },
   {
    "duration": 0,
    "start_time": "2022-06-01T07:53:30.856Z"
   },
   {
    "duration": 0,
    "start_time": "2022-06-01T07:53:30.857Z"
   },
   {
    "duration": 0,
    "start_time": "2022-06-01T07:53:30.858Z"
   },
   {
    "duration": 0,
    "start_time": "2022-06-01T07:53:30.860Z"
   },
   {
    "duration": 0,
    "start_time": "2022-06-01T07:53:30.861Z"
   },
   {
    "duration": 0,
    "start_time": "2022-06-01T07:53:30.862Z"
   },
   {
    "duration": 0,
    "start_time": "2022-06-01T07:53:30.864Z"
   },
   {
    "duration": 13,
    "start_time": "2022-06-01T07:53:48.458Z"
   },
   {
    "duration": 2908,
    "start_time": "2022-06-01T07:54:03.249Z"
   },
   {
    "duration": 5,
    "start_time": "2022-06-01T07:54:06.160Z"
   },
   {
    "duration": 46,
    "start_time": "2022-06-01T07:54:06.168Z"
   },
   {
    "duration": 10,
    "start_time": "2022-06-01T07:54:06.217Z"
   },
   {
    "duration": 39,
    "start_time": "2022-06-01T07:54:06.229Z"
   },
   {
    "duration": 21,
    "start_time": "2022-06-01T07:54:06.270Z"
   },
   {
    "duration": 7,
    "start_time": "2022-06-01T07:54:06.293Z"
   },
   {
    "duration": 11,
    "start_time": "2022-06-01T07:54:06.302Z"
   },
   {
    "duration": 21,
    "start_time": "2022-06-01T07:54:06.315Z"
   },
   {
    "duration": 3,
    "start_time": "2022-06-01T07:54:06.339Z"
   },
   {
    "duration": 13,
    "start_time": "2022-06-01T07:54:06.343Z"
   },
   {
    "duration": 22,
    "start_time": "2022-06-01T07:54:06.357Z"
   },
   {
    "duration": 6,
    "start_time": "2022-06-01T07:54:06.380Z"
   },
   {
    "duration": 11,
    "start_time": "2022-06-01T07:54:06.388Z"
   },
   {
    "duration": 12,
    "start_time": "2022-06-01T07:54:06.401Z"
   },
   {
    "duration": 3903,
    "start_time": "2022-06-01T07:54:06.414Z"
   },
   {
    "duration": 337,
    "start_time": "2022-06-01T07:54:10.319Z"
   },
   {
    "duration": 3,
    "start_time": "2022-06-01T07:54:10.658Z"
   },
   {
    "duration": 11,
    "start_time": "2022-06-01T07:54:10.662Z"
   },
   {
    "duration": 584,
    "start_time": "2022-06-01T07:54:10.676Z"
   },
   {
    "duration": 558,
    "start_time": "2022-06-01T07:54:11.262Z"
   },
   {
    "duration": 5,
    "start_time": "2022-06-01T07:54:11.822Z"
   },
   {
    "duration": 30,
    "start_time": "2022-06-01T07:54:11.828Z"
   },
   {
    "duration": 16,
    "start_time": "2022-06-01T07:54:11.859Z"
   },
   {
    "duration": 6,
    "start_time": "2022-06-01T07:54:11.877Z"
   },
   {
    "duration": 29,
    "start_time": "2022-06-01T07:54:11.884Z"
   },
   {
    "duration": 2777,
    "start_time": "2022-06-01T07:54:38.015Z"
   },
   {
    "duration": 4,
    "start_time": "2022-06-01T07:54:40.795Z"
   },
   {
    "duration": 36,
    "start_time": "2022-06-01T07:54:40.801Z"
   },
   {
    "duration": 9,
    "start_time": "2022-06-01T07:54:40.839Z"
   },
   {
    "duration": 20,
    "start_time": "2022-06-01T07:54:40.850Z"
   },
   {
    "duration": 8,
    "start_time": "2022-06-01T07:54:40.872Z"
   },
   {
    "duration": 22,
    "start_time": "2022-06-01T07:54:40.882Z"
   },
   {
    "duration": 6,
    "start_time": "2022-06-01T07:54:40.905Z"
   },
   {
    "duration": 16,
    "start_time": "2022-06-01T07:54:40.913Z"
   },
   {
    "duration": 6,
    "start_time": "2022-06-01T07:54:40.932Z"
   },
   {
    "duration": 19,
    "start_time": "2022-06-01T07:54:40.940Z"
   },
   {
    "duration": 41,
    "start_time": "2022-06-01T07:54:40.961Z"
   },
   {
    "duration": 5,
    "start_time": "2022-06-01T07:54:41.004Z"
   },
   {
    "duration": 15,
    "start_time": "2022-06-01T07:54:41.011Z"
   },
   {
    "duration": 27,
    "start_time": "2022-06-01T07:54:41.028Z"
   },
   {
    "duration": 3766,
    "start_time": "2022-06-01T07:54:41.057Z"
   },
   {
    "duration": 448,
    "start_time": "2022-06-01T07:54:44.825Z"
   },
   {
    "duration": 3,
    "start_time": "2022-06-01T07:54:45.275Z"
   },
   {
    "duration": 6,
    "start_time": "2022-06-01T07:54:45.281Z"
   },
   {
    "duration": 699,
    "start_time": "2022-06-01T07:54:45.289Z"
   },
   {
    "duration": 594,
    "start_time": "2022-06-01T07:54:45.990Z"
   },
   {
    "duration": 5,
    "start_time": "2022-06-01T07:54:46.586Z"
   },
   {
    "duration": 29,
    "start_time": "2022-06-01T07:54:46.592Z"
   },
   {
    "duration": 18,
    "start_time": "2022-06-01T07:54:46.623Z"
   },
   {
    "duration": 9,
    "start_time": "2022-06-01T07:54:46.651Z"
   },
   {
    "duration": 32,
    "start_time": "2022-06-01T07:54:46.662Z"
   },
   {
    "duration": 14,
    "start_time": "2022-06-01T07:56:37.451Z"
   },
   {
    "duration": 8,
    "start_time": "2022-06-01T07:56:41.662Z"
   },
   {
    "duration": 13,
    "start_time": "2022-06-01T07:56:57.199Z"
   },
   {
    "duration": 14,
    "start_time": "2022-06-01T07:57:10.973Z"
   },
   {
    "duration": 11,
    "start_time": "2022-06-01T07:57:20.471Z"
   },
   {
    "duration": 10,
    "start_time": "2022-06-01T07:57:30.601Z"
   },
   {
    "duration": 10,
    "start_time": "2022-06-01T07:58:02.253Z"
   },
   {
    "duration": 13,
    "start_time": "2022-06-01T07:58:02.646Z"
   },
   {
    "duration": 342,
    "start_time": "2022-06-01T07:58:04.455Z"
   },
   {
    "duration": 353,
    "start_time": "2022-06-01T07:58:04.799Z"
   },
   {
    "duration": 334,
    "start_time": "2022-06-01T07:58:05.405Z"
   },
   {
    "duration": 338,
    "start_time": "2022-06-01T07:58:06.037Z"
   },
   {
    "duration": 9,
    "start_time": "2022-06-01T07:58:10.531Z"
   },
   {
    "duration": 16,
    "start_time": "2022-06-01T07:58:20.079Z"
   },
   {
    "duration": 555,
    "start_time": "2022-06-01T07:58:27.647Z"
   },
   {
    "duration": 13,
    "start_time": "2022-06-01T07:58:54.608Z"
   },
   {
    "duration": 5,
    "start_time": "2022-06-01T07:59:05.940Z"
   },
   {
    "duration": 3084,
    "start_time": "2022-06-01T07:59:30.370Z"
   },
   {
    "duration": 1268,
    "start_time": "2022-06-01T07:59:33.456Z"
   },
   {
    "duration": 31,
    "start_time": "2022-06-01T07:59:34.725Z"
   },
   {
    "duration": 13,
    "start_time": "2022-06-01T07:59:34.757Z"
   },
   {
    "duration": 16,
    "start_time": "2022-06-01T07:59:34.772Z"
   },
   {
    "duration": 13,
    "start_time": "2022-06-01T07:59:34.790Z"
   },
   {
    "duration": 12,
    "start_time": "2022-06-01T07:59:34.805Z"
   },
   {
    "duration": 8,
    "start_time": "2022-06-01T07:59:34.819Z"
   },
   {
    "duration": 25,
    "start_time": "2022-06-01T07:59:34.828Z"
   },
   {
    "duration": 4,
    "start_time": "2022-06-01T07:59:34.855Z"
   },
   {
    "duration": 12,
    "start_time": "2022-06-01T07:59:34.861Z"
   },
   {
    "duration": 27,
    "start_time": "2022-06-01T07:59:34.875Z"
   },
   {
    "duration": 8,
    "start_time": "2022-06-01T07:59:34.903Z"
   },
   {
    "duration": 6,
    "start_time": "2022-06-01T07:59:34.912Z"
   },
   {
    "duration": 35,
    "start_time": "2022-06-01T07:59:34.920Z"
   },
   {
    "duration": 3800,
    "start_time": "2022-06-01T07:59:34.957Z"
   },
   {
    "duration": 316,
    "start_time": "2022-06-01T07:59:38.759Z"
   },
   {
    "duration": 6,
    "start_time": "2022-06-01T07:59:39.077Z"
   },
   {
    "duration": 12,
    "start_time": "2022-06-01T07:59:39.085Z"
   },
   {
    "duration": 528,
    "start_time": "2022-06-01T07:59:39.099Z"
   },
   {
    "duration": 547,
    "start_time": "2022-06-01T07:59:39.629Z"
   },
   {
    "duration": 5,
    "start_time": "2022-06-01T07:59:40.178Z"
   },
   {
    "duration": 34,
    "start_time": "2022-06-01T07:59:40.184Z"
   },
   {
    "duration": 17,
    "start_time": "2022-06-01T07:59:40.220Z"
   },
   {
    "duration": 13,
    "start_time": "2022-06-01T07:59:40.239Z"
   },
   {
    "duration": 10,
    "start_time": "2022-06-01T07:59:40.254Z"
   },
   {
    "duration": 11,
    "start_time": "2022-06-01T07:59:40.266Z"
   },
   {
    "duration": 336,
    "start_time": "2022-06-01T07:59:40.281Z"
   },
   {
    "duration": 348,
    "start_time": "2022-06-01T07:59:40.618Z"
   },
   {
    "duration": 336,
    "start_time": "2022-06-01T07:59:40.967Z"
   },
   {
    "duration": 346,
    "start_time": "2022-06-01T07:59:41.305Z"
   },
   {
    "duration": 8,
    "start_time": "2022-06-01T07:59:41.652Z"
   },
   {
    "duration": 16,
    "start_time": "2022-06-01T07:59:41.662Z"
   },
   {
    "duration": 13,
    "start_time": "2022-06-01T07:59:41.680Z"
   },
   {
    "duration": 12,
    "start_time": "2022-06-01T07:59:41.694Z"
   },
   {
    "duration": 19,
    "start_time": "2022-06-01T07:59:41.708Z"
   },
   {
    "duration": 45,
    "start_time": "2022-06-01T07:59:41.729Z"
   },
   {
    "duration": 8,
    "start_time": "2022-06-01T07:59:41.776Z"
   },
   {
    "duration": 8,
    "start_time": "2022-06-01T07:59:41.786Z"
   },
   {
    "duration": 10,
    "start_time": "2022-06-01T07:59:41.796Z"
   },
   {
    "duration": 6,
    "start_time": "2022-06-01T07:59:41.808Z"
   },
   {
    "duration": 40,
    "start_time": "2022-06-01T07:59:41.816Z"
   },
   {
    "duration": 3094,
    "start_time": "2022-06-01T08:00:59.890Z"
   },
   {
    "duration": 5,
    "start_time": "2022-06-01T08:01:02.986Z"
   },
   {
    "duration": 44,
    "start_time": "2022-06-01T08:01:02.992Z"
   },
   {
    "duration": 9,
    "start_time": "2022-06-01T08:01:03.038Z"
   },
   {
    "duration": 19,
    "start_time": "2022-06-01T08:01:03.049Z"
   },
   {
    "duration": 13,
    "start_time": "2022-06-01T08:01:03.069Z"
   },
   {
    "duration": 9,
    "start_time": "2022-06-01T08:01:03.084Z"
   },
   {
    "duration": 6,
    "start_time": "2022-06-01T08:01:03.094Z"
   },
   {
    "duration": 26,
    "start_time": "2022-06-01T08:01:03.101Z"
   },
   {
    "duration": 3,
    "start_time": "2022-06-01T08:01:03.130Z"
   },
   {
    "duration": 19,
    "start_time": "2022-06-01T08:01:03.134Z"
   },
   {
    "duration": 22,
    "start_time": "2022-06-01T08:01:03.155Z"
   },
   {
    "duration": 5,
    "start_time": "2022-06-01T08:01:03.179Z"
   },
   {
    "duration": 8,
    "start_time": "2022-06-01T08:01:03.186Z"
   },
   {
    "duration": 8,
    "start_time": "2022-06-01T08:01:03.196Z"
   },
   {
    "duration": 3962,
    "start_time": "2022-06-01T08:01:03.206Z"
   },
   {
    "duration": 301,
    "start_time": "2022-06-01T08:01:07.170Z"
   },
   {
    "duration": 2,
    "start_time": "2022-06-01T08:01:07.473Z"
   },
   {
    "duration": 12,
    "start_time": "2022-06-01T08:01:07.476Z"
   },
   {
    "duration": 551,
    "start_time": "2022-06-01T08:01:07.490Z"
   },
   {
    "duration": 552,
    "start_time": "2022-06-01T08:01:08.043Z"
   },
   {
    "duration": 4,
    "start_time": "2022-06-01T08:01:08.597Z"
   },
   {
    "duration": 38,
    "start_time": "2022-06-01T08:01:08.603Z"
   },
   {
    "duration": 15,
    "start_time": "2022-06-01T08:01:08.643Z"
   },
   {
    "duration": 9,
    "start_time": "2022-06-01T08:01:08.660Z"
   },
   {
    "duration": 26,
    "start_time": "2022-06-01T08:01:08.671Z"
   },
   {
    "duration": 14,
    "start_time": "2022-06-01T08:01:08.699Z"
   },
   {
    "duration": 360,
    "start_time": "2022-06-01T08:01:08.718Z"
   },
   {
    "duration": 348,
    "start_time": "2022-06-01T08:01:09.080Z"
   },
   {
    "duration": 339,
    "start_time": "2022-06-01T08:01:09.429Z"
   },
   {
    "duration": 395,
    "start_time": "2022-06-01T08:01:09.770Z"
   },
   {
    "duration": 9,
    "start_time": "2022-06-01T08:01:10.167Z"
   },
   {
    "duration": 13,
    "start_time": "2022-06-01T08:01:10.177Z"
   },
   {
    "duration": 17,
    "start_time": "2022-06-01T08:01:10.192Z"
   },
   {
    "duration": 21,
    "start_time": "2022-06-01T08:01:10.211Z"
   },
   {
    "duration": 25,
    "start_time": "2022-06-01T08:01:10.233Z"
   },
   {
    "duration": 28,
    "start_time": "2022-06-01T08:01:10.260Z"
   },
   {
    "duration": 7,
    "start_time": "2022-06-01T08:01:10.289Z"
   },
   {
    "duration": 28,
    "start_time": "2022-06-01T08:01:10.298Z"
   },
   {
    "duration": 25,
    "start_time": "2022-06-01T08:01:10.328Z"
   },
   {
    "duration": 6,
    "start_time": "2022-06-01T08:01:10.355Z"
   },
   {
    "duration": 8,
    "start_time": "2022-06-01T08:01:15.922Z"
   },
   {
    "duration": 5,
    "start_time": "2022-06-01T08:01:20.653Z"
   },
   {
    "duration": 5,
    "start_time": "2022-06-01T08:02:07.788Z"
   },
   {
    "duration": 4,
    "start_time": "2022-06-01T08:02:11.855Z"
   },
   {
    "duration": 4,
    "start_time": "2022-06-01T08:02:19.273Z"
   },
   {
    "duration": 6,
    "start_time": "2022-06-01T08:02:30.407Z"
   },
   {
    "duration": 1517,
    "start_time": "2022-06-01T08:02:33.723Z"
   },
   {
    "duration": 44,
    "start_time": "2022-06-01T08:02:35.919Z"
   },
   {
    "duration": 6,
    "start_time": "2022-06-01T08:02:49.997Z"
   },
   {
    "duration": 14970,
    "start_time": "2022-06-01T08:02:50.768Z"
   },
   {
    "duration": 6,
    "start_time": "2022-06-01T08:10:06.693Z"
   },
   {
    "duration": 14713,
    "start_time": "2022-06-01T08:10:07.526Z"
   },
   {
    "duration": 4,
    "start_time": "2022-06-01T08:10:28.298Z"
   },
   {
    "duration": 7,
    "start_time": "2022-06-01T08:10:29.685Z"
   },
   {
    "duration": 10,
    "start_time": "2022-06-01T08:10:31.176Z"
   },
   {
    "duration": 7,
    "start_time": "2022-06-01T08:10:32.953Z"
   },
   {
    "duration": 18521,
    "start_time": "2022-06-01T08:10:35.608Z"
   },
   {
    "duration": 157,
    "start_time": "2022-06-01T08:10:54.131Z"
   },
   {
    "duration": 3275,
    "start_time": "2022-06-01T08:17:27.059Z"
   },
   {
    "duration": 4,
    "start_time": "2022-06-01T08:17:30.336Z"
   },
   {
    "duration": 62,
    "start_time": "2022-06-01T08:17:30.342Z"
   },
   {
    "duration": 12,
    "start_time": "2022-06-01T08:17:30.406Z"
   },
   {
    "duration": 23,
    "start_time": "2022-06-01T08:17:30.420Z"
   },
   {
    "duration": 13,
    "start_time": "2022-06-01T08:17:30.445Z"
   },
   {
    "duration": 26,
    "start_time": "2022-06-01T08:17:30.460Z"
   },
   {
    "duration": 36,
    "start_time": "2022-06-01T08:17:30.488Z"
   },
   {
    "duration": 46,
    "start_time": "2022-06-01T08:17:30.526Z"
   },
   {
    "duration": 16,
    "start_time": "2022-06-01T08:17:30.575Z"
   },
   {
    "duration": 24,
    "start_time": "2022-06-01T08:17:30.593Z"
   },
   {
    "duration": 75,
    "start_time": "2022-06-01T08:17:30.619Z"
   },
   {
    "duration": 80,
    "start_time": "2022-06-01T08:17:30.696Z"
   },
   {
    "duration": 36,
    "start_time": "2022-06-01T08:17:30.777Z"
   },
   {
    "duration": 22,
    "start_time": "2022-06-01T08:17:30.815Z"
   },
   {
    "duration": 3855,
    "start_time": "2022-06-01T08:17:30.839Z"
   },
   {
    "duration": 286,
    "start_time": "2022-06-01T08:17:34.695Z"
   },
   {
    "duration": 2,
    "start_time": "2022-06-01T08:17:34.983Z"
   },
   {
    "duration": 11,
    "start_time": "2022-06-01T08:17:34.987Z"
   },
   {
    "duration": 647,
    "start_time": "2022-06-01T08:17:34.999Z"
   },
   {
    "duration": 544,
    "start_time": "2022-06-01T08:17:35.647Z"
   },
   {
    "duration": 5,
    "start_time": "2022-06-01T08:17:36.193Z"
   },
   {
    "duration": 28,
    "start_time": "2022-06-01T08:17:36.200Z"
   },
   {
    "duration": 21,
    "start_time": "2022-06-01T08:17:36.230Z"
   },
   {
    "duration": 6,
    "start_time": "2022-06-01T08:17:36.255Z"
   },
   {
    "duration": 20,
    "start_time": "2022-06-01T08:17:36.262Z"
   },
   {
    "duration": 29,
    "start_time": "2022-06-01T08:17:36.284Z"
   },
   {
    "duration": 327,
    "start_time": "2022-06-01T08:17:36.318Z"
   },
   {
    "duration": 336,
    "start_time": "2022-06-01T08:17:36.647Z"
   },
   {
    "duration": 323,
    "start_time": "2022-06-01T08:17:36.984Z"
   },
   {
    "duration": 323,
    "start_time": "2022-06-01T08:17:37.308Z"
   },
   {
    "duration": 9,
    "start_time": "2022-06-01T08:17:37.632Z"
   },
   {
    "duration": 19,
    "start_time": "2022-06-01T08:17:37.651Z"
   },
   {
    "duration": 21,
    "start_time": "2022-06-01T08:17:37.672Z"
   },
   {
    "duration": 28,
    "start_time": "2022-06-01T08:17:37.695Z"
   },
   {
    "duration": 17,
    "start_time": "2022-06-01T08:17:37.725Z"
   },
   {
    "duration": 37,
    "start_time": "2022-06-01T08:17:37.744Z"
   },
   {
    "duration": 13,
    "start_time": "2022-06-01T08:17:37.784Z"
   },
   {
    "duration": 40,
    "start_time": "2022-06-01T08:17:37.798Z"
   },
   {
    "duration": 24,
    "start_time": "2022-06-01T08:17:37.839Z"
   },
   {
    "duration": 18,
    "start_time": "2022-06-01T08:17:37.865Z"
   },
   {
    "duration": 24,
    "start_time": "2022-06-01T08:17:37.885Z"
   },
   {
    "duration": 23,
    "start_time": "2022-06-01T08:17:37.911Z"
   },
   {
    "duration": 17,
    "start_time": "2022-06-01T08:17:44.863Z"
   },
   {
    "duration": 5,
    "start_time": "2022-06-01T08:17:49.949Z"
   },
   {
    "duration": 12,
    "start_time": "2022-06-01T08:18:35.912Z"
   },
   {
    "duration": 10,
    "start_time": "2022-06-01T08:18:39.575Z"
   },
   {
    "duration": 12,
    "start_time": "2022-06-01T08:18:39.742Z"
   },
   {
    "duration": 12,
    "start_time": "2022-06-01T08:18:49.853Z"
   },
   {
    "duration": 5,
    "start_time": "2022-06-01T08:19:11.357Z"
   },
   {
    "duration": 2983,
    "start_time": "2022-06-01T08:19:19.255Z"
   },
   {
    "duration": 4,
    "start_time": "2022-06-01T08:19:22.241Z"
   },
   {
    "duration": 37,
    "start_time": "2022-06-01T08:19:22.247Z"
   },
   {
    "duration": 10,
    "start_time": "2022-06-01T08:19:22.285Z"
   },
   {
    "duration": 12,
    "start_time": "2022-06-01T08:19:22.299Z"
   },
   {
    "duration": 6,
    "start_time": "2022-06-01T08:19:22.313Z"
   },
   {
    "duration": 10,
    "start_time": "2022-06-01T08:19:22.321Z"
   },
   {
    "duration": 4,
    "start_time": "2022-06-01T08:19:22.333Z"
   },
   {
    "duration": 14,
    "start_time": "2022-06-01T08:19:22.339Z"
   },
   {
    "duration": 3,
    "start_time": "2022-06-01T08:19:22.355Z"
   },
   {
    "duration": 13,
    "start_time": "2022-06-01T08:19:22.360Z"
   },
   {
    "duration": 24,
    "start_time": "2022-06-01T08:19:22.375Z"
   },
   {
    "duration": 6,
    "start_time": "2022-06-01T08:19:22.401Z"
   },
   {
    "duration": 7,
    "start_time": "2022-06-01T08:19:22.412Z"
   },
   {
    "duration": 8,
    "start_time": "2022-06-01T08:19:22.452Z"
   },
   {
    "duration": 4052,
    "start_time": "2022-06-01T08:19:22.461Z"
   },
   {
    "duration": 338,
    "start_time": "2022-06-01T08:19:26.516Z"
   },
   {
    "duration": 4,
    "start_time": "2022-06-01T08:19:26.856Z"
   },
   {
    "duration": 181,
    "start_time": "2022-06-01T08:19:26.862Z"
   },
   {
    "duration": 531,
    "start_time": "2022-06-01T08:19:27.051Z"
   },
   {
    "duration": 603,
    "start_time": "2022-06-01T08:19:27.584Z"
   },
   {
    "duration": 5,
    "start_time": "2022-06-01T08:19:28.188Z"
   },
   {
    "duration": 24,
    "start_time": "2022-06-01T08:19:28.196Z"
   },
   {
    "duration": 32,
    "start_time": "2022-06-01T08:19:28.222Z"
   },
   {
    "duration": 8,
    "start_time": "2022-06-01T08:19:28.256Z"
   },
   {
    "duration": 15,
    "start_time": "2022-06-01T08:19:28.266Z"
   },
   {
    "duration": 13,
    "start_time": "2022-06-01T08:19:28.283Z"
   },
   {
    "duration": 338,
    "start_time": "2022-06-01T08:19:28.297Z"
   },
   {
    "duration": 341,
    "start_time": "2022-06-01T08:19:28.636Z"
   },
   {
    "duration": 343,
    "start_time": "2022-06-01T08:19:28.979Z"
   },
   {
    "duration": 328,
    "start_time": "2022-06-01T08:19:29.324Z"
   },
   {
    "duration": 9,
    "start_time": "2022-06-01T08:19:29.654Z"
   },
   {
    "duration": 16,
    "start_time": "2022-06-01T08:19:29.666Z"
   },
   {
    "duration": 12,
    "start_time": "2022-06-01T08:19:29.684Z"
   },
   {
    "duration": 18,
    "start_time": "2022-06-01T08:19:29.697Z"
   },
   {
    "duration": 14,
    "start_time": "2022-06-01T08:19:29.716Z"
   },
   {
    "duration": 43,
    "start_time": "2022-06-01T08:19:29.732Z"
   },
   {
    "duration": 7,
    "start_time": "2022-06-01T08:19:29.777Z"
   },
   {
    "duration": 10,
    "start_time": "2022-06-01T08:19:29.786Z"
   },
   {
    "duration": 9,
    "start_time": "2022-06-01T08:19:29.797Z"
   },
   {
    "duration": 10,
    "start_time": "2022-06-01T08:19:29.810Z"
   },
   {
    "duration": 32,
    "start_time": "2022-06-01T08:19:29.822Z"
   },
   {
    "duration": 8,
    "start_time": "2022-06-01T08:19:29.856Z"
   },
   {
    "duration": 12,
    "start_time": "2022-06-01T08:19:29.866Z"
   },
   {
    "duration": 6,
    "start_time": "2022-06-01T08:19:30.418Z"
   },
   {
    "duration": 3055,
    "start_time": "2022-06-01T08:20:41.837Z"
   },
   {
    "duration": 5,
    "start_time": "2022-06-01T08:20:44.895Z"
   },
   {
    "duration": 37,
    "start_time": "2022-06-01T08:20:44.902Z"
   },
   {
    "duration": 9,
    "start_time": "2022-06-01T08:20:44.941Z"
   },
   {
    "duration": 11,
    "start_time": "2022-06-01T08:20:44.953Z"
   },
   {
    "duration": 7,
    "start_time": "2022-06-01T08:20:44.966Z"
   },
   {
    "duration": 8,
    "start_time": "2022-06-01T08:20:44.975Z"
   },
   {
    "duration": 5,
    "start_time": "2022-06-01T08:20:44.985Z"
   },
   {
    "duration": 17,
    "start_time": "2022-06-01T08:20:44.991Z"
   },
   {
    "duration": 4,
    "start_time": "2022-06-01T08:20:45.010Z"
   },
   {
    "duration": 43,
    "start_time": "2022-06-01T08:20:45.016Z"
   },
   {
    "duration": 33,
    "start_time": "2022-06-01T08:20:45.061Z"
   },
   {
    "duration": 6,
    "start_time": "2022-06-01T08:20:45.096Z"
   },
   {
    "duration": 9,
    "start_time": "2022-06-01T08:20:45.105Z"
   },
   {
    "duration": 10,
    "start_time": "2022-06-01T08:20:45.116Z"
   },
   {
    "duration": 3961,
    "start_time": "2022-06-01T08:20:45.128Z"
   },
   {
    "duration": 363,
    "start_time": "2022-06-01T08:20:49.091Z"
   },
   {
    "duration": 3,
    "start_time": "2022-06-01T08:20:49.456Z"
   },
   {
    "duration": 10,
    "start_time": "2022-06-01T08:20:49.461Z"
   },
   {
    "duration": 593,
    "start_time": "2022-06-01T08:20:49.473Z"
   },
   {
    "duration": 597,
    "start_time": "2022-06-01T08:20:50.068Z"
   },
   {
    "duration": 5,
    "start_time": "2022-06-01T08:20:50.667Z"
   },
   {
    "duration": 38,
    "start_time": "2022-06-01T08:20:50.674Z"
   },
   {
    "duration": 29,
    "start_time": "2022-06-01T08:20:50.715Z"
   },
   {
    "duration": 8,
    "start_time": "2022-06-01T08:20:50.746Z"
   },
   {
    "duration": 18,
    "start_time": "2022-06-01T08:20:50.756Z"
   },
   {
    "duration": 17,
    "start_time": "2022-06-01T08:20:50.776Z"
   },
   {
    "duration": 342,
    "start_time": "2022-06-01T08:20:50.795Z"
   },
   {
    "duration": 362,
    "start_time": "2022-06-01T08:20:51.139Z"
   },
   {
    "duration": 351,
    "start_time": "2022-06-01T08:20:51.503Z"
   },
   {
    "duration": 385,
    "start_time": "2022-06-01T08:20:51.856Z"
   },
   {
    "duration": 10,
    "start_time": "2022-06-01T08:20:52.243Z"
   },
   {
    "duration": 17,
    "start_time": "2022-06-01T08:20:52.255Z"
   },
   {
    "duration": 13,
    "start_time": "2022-06-01T08:20:52.274Z"
   },
   {
    "duration": 15,
    "start_time": "2022-06-01T08:20:52.288Z"
   },
   {
    "duration": 15,
    "start_time": "2022-06-01T08:20:52.305Z"
   },
   {
    "duration": 50,
    "start_time": "2022-06-01T08:20:52.322Z"
   },
   {
    "duration": 11,
    "start_time": "2022-06-01T08:20:52.375Z"
   },
   {
    "duration": 17,
    "start_time": "2022-06-01T08:20:52.388Z"
   },
   {
    "duration": 13,
    "start_time": "2022-06-01T08:20:52.407Z"
   },
   {
    "duration": 31,
    "start_time": "2022-06-01T08:20:52.424Z"
   },
   {
    "duration": 6,
    "start_time": "2022-06-01T08:20:52.457Z"
   },
   {
    "duration": 11,
    "start_time": "2022-06-01T08:20:52.465Z"
   },
   {
    "duration": 7,
    "start_time": "2022-06-01T08:20:52.478Z"
   },
   {
    "duration": 13,
    "start_time": "2022-06-01T08:20:52.486Z"
   },
   {
    "duration": 1516,
    "start_time": "2022-06-01T08:20:52.502Z"
   },
   {
    "duration": 2931,
    "start_time": "2022-06-01T08:21:08.682Z"
   },
   {
    "duration": 5,
    "start_time": "2022-06-01T08:21:11.616Z"
   },
   {
    "duration": 51,
    "start_time": "2022-06-01T08:21:11.623Z"
   },
   {
    "duration": 9,
    "start_time": "2022-06-01T08:21:11.676Z"
   },
   {
    "duration": 16,
    "start_time": "2022-06-01T08:21:11.688Z"
   },
   {
    "duration": 14,
    "start_time": "2022-06-01T08:21:11.706Z"
   },
   {
    "duration": 19,
    "start_time": "2022-06-01T08:21:11.722Z"
   },
   {
    "duration": 25,
    "start_time": "2022-06-01T08:21:11.743Z"
   },
   {
    "duration": 30,
    "start_time": "2022-06-01T08:21:11.770Z"
   },
   {
    "duration": 12,
    "start_time": "2022-06-01T08:21:11.803Z"
   },
   {
    "duration": 23,
    "start_time": "2022-06-01T08:21:11.817Z"
   },
   {
    "duration": 38,
    "start_time": "2022-06-01T08:21:11.842Z"
   },
   {
    "duration": 7,
    "start_time": "2022-06-01T08:21:11.882Z"
   },
   {
    "duration": 17,
    "start_time": "2022-06-01T08:21:11.893Z"
   },
   {
    "duration": 23,
    "start_time": "2022-06-01T08:21:11.911Z"
   },
   {
    "duration": 4120,
    "start_time": "2022-06-01T08:21:11.935Z"
   },
   {
    "duration": 357,
    "start_time": "2022-06-01T08:21:16.058Z"
   },
   {
    "duration": 3,
    "start_time": "2022-06-01T08:21:16.416Z"
   },
   {
    "duration": 11,
    "start_time": "2022-06-01T08:21:16.420Z"
   },
   {
    "duration": 531,
    "start_time": "2022-06-01T08:21:16.432Z"
   },
   {
    "duration": 503,
    "start_time": "2022-06-01T08:21:16.965Z"
   },
   {
    "duration": 5,
    "start_time": "2022-06-01T08:21:17.470Z"
   },
   {
    "duration": 35,
    "start_time": "2022-06-01T08:21:17.476Z"
   },
   {
    "duration": 20,
    "start_time": "2022-06-01T08:21:17.513Z"
   },
   {
    "duration": 9,
    "start_time": "2022-06-01T08:21:17.535Z"
   },
   {
    "duration": 13,
    "start_time": "2022-06-01T08:21:17.552Z"
   },
   {
    "duration": 24,
    "start_time": "2022-06-01T08:21:17.567Z"
   },
   {
    "duration": 346,
    "start_time": "2022-06-01T08:21:17.593Z"
   },
   {
    "duration": 356,
    "start_time": "2022-06-01T08:21:17.941Z"
   },
   {
    "duration": 336,
    "start_time": "2022-06-01T08:21:18.299Z"
   },
   {
    "duration": 339,
    "start_time": "2022-06-01T08:21:18.637Z"
   },
   {
    "duration": 8,
    "start_time": "2022-06-01T08:21:18.977Z"
   },
   {
    "duration": 16,
    "start_time": "2022-06-01T08:21:18.987Z"
   },
   {
    "duration": 15,
    "start_time": "2022-06-01T08:21:19.005Z"
   },
   {
    "duration": 32,
    "start_time": "2022-06-01T08:21:19.023Z"
   },
   {
    "duration": 13,
    "start_time": "2022-06-01T08:21:19.057Z"
   },
   {
    "duration": 27,
    "start_time": "2022-06-01T08:21:19.071Z"
   },
   {
    "duration": 7,
    "start_time": "2022-06-01T08:21:19.100Z"
   },
   {
    "duration": 10,
    "start_time": "2022-06-01T08:21:19.110Z"
   },
   {
    "duration": 31,
    "start_time": "2022-06-01T08:21:19.122Z"
   },
   {
    "duration": 6,
    "start_time": "2022-06-01T08:21:19.159Z"
   },
   {
    "duration": 6,
    "start_time": "2022-06-01T08:21:19.167Z"
   },
   {
    "duration": 13,
    "start_time": "2022-06-01T08:21:19.175Z"
   },
   {
    "duration": 4,
    "start_time": "2022-06-01T08:21:19.190Z"
   },
   {
    "duration": 8,
    "start_time": "2022-06-01T08:21:19.196Z"
   },
   {
    "duration": 1537,
    "start_time": "2022-06-01T08:21:19.206Z"
   },
   {
    "duration": 48,
    "start_time": "2022-06-01T08:21:20.744Z"
   }
  ],
  "kernelspec": {
   "display_name": "Python 3 (ipykernel)",
   "language": "python",
   "name": "python3"
  },
  "language_info": {
   "codemirror_mode": {
    "name": "ipython",
    "version": 3
   },
   "file_extension": ".py",
   "mimetype": "text/x-python",
   "name": "python",
   "nbconvert_exporter": "python",
   "pygments_lexer": "ipython3",
   "version": "3.9.7"
  },
  "toc": {
   "base_numbering": 1,
   "nav_menu": {},
   "number_sections": true,
   "sideBar": true,
   "skip_h1_title": true,
   "title_cell": "Table of Contents",
   "title_sidebar": "Contents",
   "toc_cell": false,
   "toc_position": {},
   "toc_section_display": true,
   "toc_window_display": false
  }
 },
 "nbformat": 4,
 "nbformat_minor": 4
}
